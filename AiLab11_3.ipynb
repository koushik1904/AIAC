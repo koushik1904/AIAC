{
  "nbformat": 4,
  "nbformat_minor": 0,
  "metadata": {
    "colab": {
      "provenance": [],
      "authorship_tag": "ABX9TyOeN3qeoS5zi7imKdLQgNAX",
      "include_colab_link": true
    },
    "kernelspec": {
      "name": "python3",
      "display_name": "Python 3"
    },
    "language_info": {
      "name": "python"
    }
  },
  "cells": [
    {
      "cell_type": "markdown",
      "metadata": {
        "id": "view-in-github",
        "colab_type": "text"
      },
      "source": [
        "<a href=\"https://colab.research.google.com/github/koushik1904/AIAC/blob/main/AiLab11_3.ipynb\" target=\"_parent\"><img src=\"https://colab.research.google.com/assets/colab-badge.svg\" alt=\"Open In Colab\"/></a>"
      ]
    },
    {
      "cell_type": "markdown",
      "source": [
        "Task1: Ask AI to implement a stack class with push(), pop(), peek() and\n",
        "is_empty() methods"
      ],
      "metadata": {
        "id": "qXCS58ujdgBT"
      }
    },
    {
      "cell_type": "markdown",
      "source": [
        "Prompt:generate a python program by implementing a stack class with push(),pop(),peek(),and is_empty() methods"
      ],
      "metadata": {
        "id": "5RDaoSw_di31"
      }
    },
    {
      "cell_type": "code",
      "source": [
        "class Stack:\n",
        "    def __init__(self):\n",
        "        self.items = []\n",
        "\n",
        "    def push(self, item):\n",
        "        \"\"\"Adds an item to the top of the stack.\"\"\"\n",
        "        self.items.append(item)\n",
        "\n",
        "    def pop(self):\n",
        "        \"\"\"Removes and returns the item from the top of the stack.\"\"\"\n",
        "        if not self.is_empty():\n",
        "            return self.items.pop()\n",
        "        else:\n",
        "            return None  # Or raise an exception for an empty stack\n",
        "\n",
        "    def peek(self):\n",
        "        \"\"\"Returns the item at the top of the stack without removing it.\"\"\"\n",
        "        if not self.is_empty():\n",
        "            return self.items[-1]\n",
        "        else:\n",
        "            return None  # Or raise an exception for an empty stack\n",
        "\n",
        "    def is_empty(self):\n",
        "        \"\"\"Checks if the stack is empty.\"\"\"\n",
        "        return len(self.items) == 0\n",
        "\n",
        "# Example usage:\n",
        "stack = Stack()\n",
        "stack.push(1)\n",
        "stack.push(2)\n",
        "print(stack.peek())  # Output: 2\n",
        "print(stack.pop())   # Output: 2\n",
        "print(stack.is_empty()) # Output: False"
      ],
      "metadata": {
        "colab": {
          "base_uri": "https://localhost:8080/"
        },
        "id": "hbYTDnT-d1nw",
        "outputId": "ad726650-c3a9-4864-f4c4-eb47b717082c"
      },
      "execution_count": 2,
      "outputs": [
        {
          "output_type": "stream",
          "name": "stdout",
          "text": [
            "2\n",
            "2\n",
            "False\n"
          ]
        }
      ]
    },
    {
      "cell_type": "markdown",
      "metadata": {
        "id": "e5f3d272"
      },
      "source": [
        "Explaination:This code defines a Python class called `Stack` that simulates a stack data structure. Here's a breakdown of each part:\n",
        "\n",
        "-   `class Stack:`: This line declares a new class named `Stack`.\n",
        "-   `def __init__(self):`: This is the constructor method. It's called when you create a new `Stack` object. It initializes an empty list called `self.items`, which will be used to store the elements of the stack.\n",
        "-   `def push(self, item):`: This method adds an `item` to the top of the stack. It uses the `append()` method of the list to add the item to the end, which represents the top of the stack.\n",
        "-   `def pop(self):`: This method removes and returns the item from the top of the stack.\n",
        "    -   It first checks if the stack is not empty using `if not self.is_empty():`.\n",
        "    -   If the stack is not empty, it uses the `pop()` method of the list to remove and return the last element (the top of the stack).\n",
        "    -   If the stack is empty, it returns `None`. You could also raise an exception here to indicate that the stack is empty.\n",
        "-   `def peek(self):`: This method returns the item at the top of the stack without removing it.\n",
        "    -   It first checks if the stack is not empty using `if not self.is_empty():`.\n",
        "    -   If the stack is not empty, it returns the last element of the list (`self.items[-1]`), which is the top of the stack.\n",
        "    -   If the stack is empty, it returns `None`. You could also raise an exception here.\n",
        "-   `def is_empty(self):`: This method checks if the stack is empty. It returns `True` if the length of the `self.items` list is 0, and `False` otherwise.\n",
        "-   `# Example usage:`: This section shows how to create a `Stack` object and use its methods. These lines are commented out in the provided code, but they demonstrate how to push elements, peek at the top element, pop an element, and check if the stack is empty."
      ]
    },
    {
      "cell_type": "markdown",
      "source": [
        "Task2:Use AI to generate a Queue class with enqueue(), dequeue(), and\n",
        "is_empty()."
      ],
      "metadata": {
        "id": "cvPCm3eIeA-y"
      }
    },
    {
      "cell_type": "markdown",
      "source": [
        "Prompt:generate a python program of a queue class with enqueue(),dequeue() and is_empty()"
      ],
      "metadata": {
        "id": "sYTKUN0XelqU"
      }
    },
    {
      "cell_type": "code",
      "source": [
        "class Queue:\n",
        "    def __init__(self):\n",
        "        self.items = []\n",
        "\n",
        "    def enqueue(self, item):\n",
        "        \"\"\"Adds an item to the rear of the queue.\"\"\"\n",
        "        self.items.insert(0, item)  # Add to the beginning of the list\n",
        "\n",
        "    def dequeue(self):\n",
        "        \"\"\"Removes and returns the item from the front of the queue.\"\"\"\n",
        "        if not self.is_empty():\n",
        "            return self.items.pop()  # Remove from the end of the list\n",
        "        else:\n",
        "            return None  # Or raise an exception for an empty queue\n",
        "\n",
        "    def is_empty(self):\n",
        "        \"\"\"Checks if the queue is empty.\"\"\"\n",
        "        return len(self.items) == 0\n",
        "\n",
        "# Example usage:\n",
        "queue = Queue()\n",
        "queue.enqueue(1)\n",
        "queue.enqueue(2)\n",
        "print(queue.dequeue())  # Output: 1\n",
        "print(queue.dequeue())  # Output: 2\n",
        "print(queue.is_empty()) # Output: True"
      ],
      "metadata": {
        "colab": {
          "base_uri": "https://localhost:8080/"
        },
        "id": "L6MI02uUe3Cz",
        "outputId": "ff074ce0-5705-477a-c0ab-892a38f84a27"
      },
      "execution_count": 4,
      "outputs": [
        {
          "output_type": "stream",
          "name": "stdout",
          "text": [
            "1\n",
            "2\n",
            "True\n"
          ]
        }
      ]
    },
    {
      "cell_type": "markdown",
      "metadata": {
        "id": "8aeaa142"
      },
      "source": [
        "Explaination:This code defines a Python class called `Queue` that simulates a queue data structure. Here's a breakdown of each part:\n",
        "\n",
        "-   `class Queue:`: This line declares a new class named `Queue`.\n",
        "-   `def __init__(self):`: This is the constructor method. It's called when you create a new `Queue` object. It initializes an empty list called `self.items`, which will be used to store the elements of the queue.\n",
        "-   `def enqueue(self, item):`: This method adds an `item` to the rear of the queue. It uses the `insert(0, item)` method of the list to add the item to the beginning, which represents the rear of the queue in this implementation.\n",
        "-   `def dequeue(self):`: This method removes and returns the item from the front of the queue.\n",
        "    -   It first checks if the queue is not empty using `if not self.is_empty():`.\n",
        "    -   If the queue is not empty, it uses the `pop()` method of the list to remove and return the last element, which represents the front of the queue in this implementation.\n",
        "    -   If the queue is empty, it returns `None`. You could also raise an exception here for an empty queue.\n",
        "-   `def is_empty(self):`: This method checks if the queue is empty. It returns `True` if the length of the `self.items` list is 0, and `False` otherwise.\n",
        "-   `# Example usage:`: This section shows how to create a `Queue` object and use its methods. These lines are commented out in the provided code, but they demonstrate how to enqueue elements, dequeue elements, and check if the queue is empty."
      ]
    },
    {
      "cell_type": "markdown",
      "source": [
        "Task3:Ask AI to create a singly linked list with insert_at_end(),\n",
        "insert_at_beginning(), and display()"
      ],
      "metadata": {
        "id": "X6-4gL6pfJ3J"
      }
    },
    {
      "cell_type": "markdown",
      "source": [
        "Prompt:generate a python program by creating singly linked list with insert_at_end(), insert_at_beginning(), and display()"
      ],
      "metadata": {
        "id": "kRLlvUaLfPIZ"
      }
    },
    {
      "cell_type": "code",
      "source": [
        "class Node:\n",
        "    def __init__(self, data):\n",
        "        self.data = data\n",
        "        self.next = None\n",
        "\n",
        "class SinglyLinkedList:\n",
        "    def __init__(self):\n",
        "        self.head = None\n",
        "\n",
        "    def insert_at_beginning(self, data):\n",
        "        \"\"\"Inserts a new node at the beginning of the linked list.\"\"\"\n",
        "        new_node = Node(data)\n",
        "        new_node.next = self.head\n",
        "        self.head = new_node\n",
        "\n",
        "    def insert_at_end(self, data):\n",
        "        \"\"\"Inserts a new node at the end of the linked list.\"\"\"\n",
        "        new_node = Node(data)\n",
        "        if self.head is None:\n",
        "            self.head = new_node\n",
        "            return\n",
        "        last_node = self.head\n",
        "        while last_node.next:\n",
        "            last_node = last_node.next\n",
        "        last_node.next = new_node\n",
        "\n",
        "    def display(self):\n",
        "        \"\"\"Displays the elements of the linked list.\"\"\"\n",
        "        current = self.head\n",
        "        while current:\n",
        "            print(current.data, end=\" -> \")\n",
        "            current = current.next\n",
        "        print(\"None\")\n",
        "\n",
        "# Example usage:\n",
        "linked_list = SinglyLinkedList()\n",
        "linked_list.insert_at_beginning(5)\n",
        "linked_list.insert_at_beginning(10)\n",
        "linked_list.insert_at_end(15)\n",
        "linked_list.display() # Output: 10 -> 5 -> 15 -> None"
      ],
      "metadata": {
        "colab": {
          "base_uri": "https://localhost:8080/"
        },
        "id": "WarIuox-fOcb",
        "outputId": "5b9e6846-141a-44f5-eda8-174592ef1319"
      },
      "execution_count": 6,
      "outputs": [
        {
          "output_type": "stream",
          "name": "stdout",
          "text": [
            "10 -> 5 -> 15 -> None\n"
          ]
        }
      ]
    },
    {
      "cell_type": "markdown",
      "metadata": {
        "id": "09f11304"
      },
      "source": [
        "Explaination:This code defines two classes, `Node` and `SinglyLinkedList`, to create a singly linked list data structure. Here's a breakdown of each part:\n",
        "\n",
        "**`Node` Class:**\n",
        "\n",
        "-   `class Node:`: This declares a class named `Node`. Each `Node` object will represent an element in the linked list.\n",
        "-   `def __init__(self, data):`: This is the constructor for the `Node` class.\n",
        "    -   `self.data = data`: This initializes the `data` attribute of the node with the value passed when creating the node. This `data` attribute holds the actual value stored in the node.\n",
        "    -   `self.next = None`: This initializes the `next` attribute to `None`. The `next` attribute will store a reference to the next node in the sequence. Initially, when a node is created, it doesn't point to any other node.\n",
        "\n",
        "**`SinglyLinkedList` Class:**\n",
        "\n",
        "-   `class SinglyLinkedList:`: This declares a class named `SinglyLinkedList`. This class manages the collection of nodes.\n",
        "-   `def __init__(self):`: This is the constructor for the `SinglyLinkedList` class.\n",
        "    -   `self.head = None`: This initializes the `head` attribute to `None`. The `head` attribute is a reference to the first node in the linked list. An empty linked list has no nodes, so the head is initially `None`.\n",
        "\n",
        "-   `def insert_at_beginning(self, data):`: This method adds a new node with the given `data` at the beginning of the linked list.\n",
        "    -   `new_node = Node(data)`: A new `Node` object is created with the provided `data`.\n",
        "    -   `new_node.next = self.head`: The `next` attribute of the `new_node` is set to the current `head` of the list. This makes the `new_node` point to the node that was previously the first node.\n",
        "    -   `self.head = new_node`: The `head` of the list is updated to point to the `new_node`, making it the new first node.\n",
        "\n",
        "-   `def insert_at_end(self, data):`: This method adds a new node with the given `data` at the end of the linked list.\n",
        "    -   `new_node = Node(data)`: A new `Node` object is created with the provided `data`.\n",
        "    -   `if self.head is None:`: This checks if the list is empty. If it is, the `new_node` becomes the `head`.\n",
        "    -   `last_node = self.head`: If the list is not empty, a temporary variable `last_node` is initialized to the `head`.\n",
        "    -   `while last_node.next:`: This loop traverses the list until `last_node.next` is `None`, meaning `last_node` is the last node in the list.\n",
        "    -   `last_node = last_node.next`: In each iteration, `last_node` is moved to the next node.\n",
        "    -   `last_node.next = new_node`: Once the last node is found, its `next` attribute is set to the `new_node`, adding the `new_node` to the end.\n",
        "\n",
        "-   `def display(self):`: This method prints the data of each node in the linked list from the beginning to the end.\n",
        "    -   `current = self.head`: A temporary variable `current` is initialized to the `head`.\n",
        "    -   `while current:`: This loop continues as long as `current` is not `None` (meaning there are still nodes to visit).\n",
        "    -   `print(current.data, end=\" -> \")`: The data of the current node is printed, followed by \" -> \" to indicate the link to the next node. `end=\" -> \"` prevents a newline character after each print, keeping the output on a single line.\n",
        "    -   `current = current.next`: `current` is moved to the next node in the sequence.\n",
        "    -   `print(\"None\")`: After the loop finishes (when `current` is `None`), \"None\" is printed to indicate the end of the linked list.\n",
        "\n",
        "-   `# Example usage:`: This commented-out section shows how to create a `SinglyLinkedList` object and use its methods to insert nodes and display the list."
      ]
    },
    {
      "cell_type": "markdown",
      "source": [
        "Task4:Ask AI to generate a simple BST with insert() and\n",
        "inorder_traversal().\n"
      ],
      "metadata": {
        "id": "dkliniB4fzU6"
      }
    },
    {
      "cell_type": "markdown",
      "source": [
        "Prompt:generate a python program with simple BST with insert() and inorder_traversal()."
      ],
      "metadata": {
        "id": "14Qlam4qf3-V"
      }
    },
    {
      "cell_type": "code",
      "source": [
        "class Node:\n",
        "    def __init__(self, key):\n",
        "        self.left = None\n",
        "        self.right = None\n",
        "        self.key = key\n",
        "\n",
        "class BST:\n",
        "    def __init__(self):\n",
        "        self.root = None\n",
        "\n",
        "    def insert(self, key):\n",
        "        \"\"\"Inserts a new node with the given key into the BST.\"\"\"\n",
        "        if self.root is None:\n",
        "            self.root = Node(key)\n",
        "        else:\n",
        "            self._insert_recursive(self.root, key)\n",
        "\n",
        "    def _insert_recursive(self, current_node, key):\n",
        "        if key < current_node.key:\n",
        "            if current_node.left is None:\n",
        "                current_node.left = Node(key)\n",
        "            else:\n",
        "                self._insert_recursive(current_node.left, key)\n",
        "        else:  # key >= current_node.key (handles duplicates by inserting in the right subtree)\n",
        "            if current_node.right is None:\n",
        "                current_node.right = Node(key)\n",
        "            else:\n",
        "                self._insert_recursive(current_node.right, key)\n",
        "\n",
        "    def inorder_traversal(self):\n",
        "        \"\"\"Performs an in-order traversal of the BST.\"\"\"\n",
        "        result = []\n",
        "        self._inorder_recursive(self.root, result)\n",
        "        return result\n",
        "\n",
        "    def _inorder_recursive(self, current_node, result):\n",
        "        if current_node:\n",
        "            self._inorder_recursive(current_node.left, result)\n",
        "            result.append(current_node.key)\n",
        "            self._inorder_recursive(current_node.right, result)\n",
        "\n",
        "# Example usage:\n",
        "bst = BST()\n",
        "bst.insert(50)\n",
        "bst.insert(30)\n",
        "bst.insert(20)\n",
        "bst.insert(40)\n",
        "bst.insert(70)\n",
        "bst.insert(60)\n",
        "bst.insert(80)\n",
        "\n",
        "print(\"In-order traversal:\", bst.inorder_traversal()) # Output: In-order traversal: [20, 30, 40, 50, 60, 70, 80]"
      ],
      "metadata": {
        "colab": {
          "base_uri": "https://localhost:8080/"
        },
        "id": "AAg2WWSJgFEE",
        "outputId": "98f604e7-9c75-476d-ed4c-0afe29e752c2"
      },
      "execution_count": 8,
      "outputs": [
        {
          "output_type": "stream",
          "name": "stdout",
          "text": [
            "In-order traversal: [20, 30, 40, 50, 60, 70, 80]\n"
          ]
        }
      ]
    },
    {
      "cell_type": "markdown",
      "metadata": {
        "id": "e9ae0c42"
      },
      "source": [
        "Explaination:This code defines two classes, `Node` and `BST`, to create a Binary Search Tree (BST) data structure. Here's a breakdown of each part:\n",
        "\n",
        "**`Node` Class:**\n",
        "\n",
        "-   `class Node:`: This declares a class named `Node`. Each `Node` object will represent a node in the BST.\n",
        "-   `def __init__(self, key):`: This is the constructor for the `Node` class.\n",
        "    -   `self.left = None`: This initializes the `left` attribute to `None`. This will store a reference to the left child node.\n",
        "    -   `self.right = None`: This initializes the `right` attribute to `None`. This will store a reference to the right child node.\n",
        "    -   `self.key = key`: This initializes the `key` attribute with the value passed when creating the node. This `key` attribute holds the value stored in the node, which is used for comparisons in the BST.\n",
        "\n",
        "**`BST` Class:**\n",
        "\n",
        "-   `class BST:`: This declares a class named `BST`. This class manages the collection of nodes and the structure of the tree.\n",
        "-   `def __init__(self):`: This is the constructor for the `BST` class.\n",
        "    -   `self.root = None`: This initializes the `root` attribute to `None`. The `root` attribute is a reference to the topmost node in the BST. An empty BST has no nodes, so the root is initially `None`.\n",
        "\n",
        "-   `def insert(self, key):`: This method inserts a new node with the given `key` into the BST.\n",
        "    -   `if self.root is None:`: This checks if the tree is empty. If it is, the new node becomes the root.\n",
        "    -   `else: self._insert_recursive(self.root, key)`: If the tree is not empty, it calls a recursive helper method `_insert_recursive` to find the correct position for the new node.\n",
        "\n",
        "-   `def _insert_recursive(self, current_node, key):`: This is a private helper method for inserting a node recursively.\n",
        "    -   `if key < current_node.key:`: If the new key is less than the current node's key, it should be inserted in the left subtree.\n",
        "        -   `if current_node.left is None:`: If the left child is `None`, the new node is inserted as the left child.\n",
        "        -   `else: self._insert_recursive(current_node.left, key)`: If the left child exists, the recursion continues on the left subtree.\n",
        "    -   `else:`: If the new key is greater than or equal to the current node's key, it should be inserted in the right subtree. (This implementation allows duplicates to be inserted in the right subtree).\n",
        "        -   `if current_node.right is None:`: If the right child is `None`, the new node is inserted as the right child.\n",
        "        -   `else: self._insert_recursive(current_node.right, key)`: If the right child exists, the recursion continues on the right subtree.\n",
        "\n",
        "-   `def inorder_traversal(self):`: This method performs an in-order traversal of the BST, which visits the nodes in ascending order of their keys.\n",
        "    -   `result = []`: Initializes an empty list to store the traversal result.\n",
        "    -   `self._inorder_recursive(self.root, result)`: Calls a recursive helper method `_inorder_recursive` to perform the traversal starting from the root.\n",
        "    -   `return result`: Returns the list containing the keys in in-order.\n",
        "\n",
        "-   `def _inorder_recursive(self, current_node, result):`: This is a private helper method for performing the in-order traversal recursively.\n",
        "    -   `if current_node:`: If the current node is not `None`:\n",
        "        -   `self._inorder_recursive(current_node.left, result)`: Recursively traverse the left subtree.\n",
        "        -   `result.append(current_node.key)`: Visit the current node (append its key to the result list).\n",
        "        -   `self._inorder_recursive(current_node.right, result)`: Recursively traverse the right subtree.\n",
        "\n",
        "-   `# Example usage:`: This commented-out section shows how to create a `BST` object, insert nodes, and perform an in-order traversal."
      ]
    }
  ]
}