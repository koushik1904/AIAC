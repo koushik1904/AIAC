{
  "nbformat": 4,
  "nbformat_minor": 0,
  "metadata": {
    "colab": {
      "provenance": [],
      "authorship_tag": "ABX9TyMlUD7HNwSC4GbtzWlX9v6Q",
      "include_colab_link": true
    },
    "kernelspec": {
      "name": "python3",
      "display_name": "Python 3"
    },
    "language_info": {
      "name": "python"
    }
  },
  "cells": [
    {
      "cell_type": "markdown",
      "metadata": {
        "id": "view-in-github",
        "colab_type": "text"
      },
      "source": [
        "<a href=\"https://colab.research.google.com/github/koushik1904/AIAC/blob/main/AiLab12_3.ipynb\" target=\"_parent\"><img src=\"https://colab.research.google.com/assets/colab-badge.svg\" alt=\"Open In Colab\"/></a>"
      ]
    },
    {
      "cell_type": "markdown",
      "source": [
        "Task1:Write python code for linear_search() function to search a value\n",
        "in a list and extract it’s index"
      ],
      "metadata": {
        "id": "Q_Q_DkUH8Vpg"
      }
    },
    {
      "cell_type": "markdown",
      "source": [
        "Prompt:generate a python code for linear_search() funcion to search a value in a list and extract its index"
      ],
      "metadata": {
        "id": "xzZg6cjp8iAZ"
      }
    },
    {
      "cell_type": "code",
      "source": [
        "def linear_search(list_to_search, value_to_find):\n",
        "  \"\"\"\n",
        "  Searches for a value in a list and returns its index.\n",
        "\n",
        "  Args:\n",
        "    list_to_search: The list to search within.\n",
        "    value_to_find: The value to find in the list.\n",
        "\n",
        "  Returns:\n",
        "    The index of the value if found, otherwise -1.\n",
        "  \"\"\"\n",
        "  for index, item in enumerate(list_to_search):\n",
        "    if item == value_to_find:\n",
        "      return index\n",
        "  return -1\n",
        "\n",
        "# Example usage\n",
        "my_list = [10, 25, 5, 42, 18, 7]\n",
        "value = 18\n",
        "index = linear_search(my_list, value)\n",
        "\n",
        "if index != -1:\n",
        "  print(f\"Value {value} found at index {index}\")\n",
        "else:\n",
        "  print(f\"Value {value} not found in the list\")\n",
        "\n",
        "value = 100\n",
        "index = linear_search(my_list, value)\n",
        "\n",
        "if index != -1:\n",
        "  print(f\"Value {value} found at index {index}\")\n",
        "else:\n",
        "  print(f\"Value {value} not found in the list\")"
      ],
      "metadata": {
        "colab": {
          "base_uri": "https://localhost:8080/"
        },
        "id": "-BbDLcDr83u2",
        "outputId": "418f3db9-3484-4b61-d963-12f73b07631e"
      },
      "execution_count": 1,
      "outputs": [
        {
          "output_type": "stream",
          "name": "stdout",
          "text": [
            "Value 18 found at index 4\n",
            "Value 100 not found in the list\n"
          ]
        }
      ]
    },
    {
      "cell_type": "markdown",
      "source": [
        "Explaination:The code defines a function called linear_search that takes two arguments: list_to_search (the list you want to search within) and value_to_find (the value you are looking for).\n",
        "\n",
        "def linear_search(list_to_search, value_to_find):: This line defines the function linear_search with the two parameters.\n",
        "\"\"\"Docstring\"\"\": The triple-quoted string is a docstring, which explains what the function does, its arguments, and what it returns.\n",
        "for index, item in enumerate(list_to_search):: This loop iterates through the list_to_search. The enumerate() function is used to get both the index and the value of each item in the list during the iteration.\n",
        "if item == value_to_find:: Inside the loop, this condition checks if the current item is equal to the value_to_find.\n",
        "return index: If the value is found, the function immediately returns the index where it was found.\n",
        "return -1: If the loop finishes without finding the value (i.e., the if condition was never met), the function returns -1 to indicate that the value was not found in the list.\n",
        "The code then provides an example of how to use the linear_search function:\n",
        "\n",
        "my_list = [10, 25, 5, 42, 18, 7]: A list named my_list is created.\n",
        "value = 18: A variable value is set to 18, the value to be searched for.\n",
        "index = linear_search(my_list, value): The linear_search function is called with my_list and value, and the returned index is stored in the index variable.\n",
        "if index != -1:: This checks if the returned index is not -1 (meaning the value was found).\n",
        "print(f\"Value {value} found at index {index}\"): If the value was found, this line prints a message indicating the value and its index.\n",
        "else: print(f\"Value {value} not found in the list\"): If the value was not found (index is -1), this line prints a message indicating that."
      ],
      "metadata": {
        "id": "wgaSjqS19NXC"
      }
    },
    {
      "cell_type": "markdown",
      "source": [
        "Task2:Ask AI to implement Bubble Sort and check sorted output"
      ],
      "metadata": {
        "id": "W9J7umWP9bfn"
      }
    },
    {
      "cell_type": "markdown",
      "source": [
        "Prompt:generate a python program to implement bubble sort and check sorted output"
      ],
      "metadata": {
        "id": "eSLaYrOW9ipz"
      }
    },
    {
      "cell_type": "code",
      "source": [
        "def bubble_sort(list_to_sort):\n",
        "    \"\"\"\n",
        "    Sorts a list using the bubble sort algorithm.\n",
        "\n",
        "    Args:\n",
        "      list_to_sort: The list to sort.\n",
        "\n",
        "    Returns:\n",
        "      The sorted list.\n",
        "    \"\"\"\n",
        "    n = len(list_to_sort)\n",
        "    # Traverse through all array elements\n",
        "    for i in range(n):\n",
        "        # Last i elements are already in place\n",
        "        for j in range(0, n - i - 1):\n",
        "            # traverse the array from 0 to n-i-1\n",
        "            # Swap if the element found is greater than the next element\n",
        "            if list_to_sort[j] > list_to_sort[j + 1]:\n",
        "                list_to_sort[j], list_to_sort[j + 1] = list_to_sort[j + 1], list_to_sort[j]\n",
        "    return list_to_sort\n",
        "\n",
        "# Example usage\n",
        "my_list = [64, 34, 25, 12, 22, 11, 90]\n",
        "sorted_list = bubble_sort(my_list.copy()) # Create a copy to avoid modifying the original list\n",
        "\n",
        "print(\"Original list:\", my_list)\n",
        "print(\"Sorted list:\", sorted_list)"
      ],
      "metadata": {
        "colab": {
          "base_uri": "https://localhost:8080/"
        },
        "id": "5bMkSfhR93QG",
        "outputId": "8a8d27ef-a55e-4a8f-b6b6-bba501696556"
      },
      "execution_count": 2,
      "outputs": [
        {
          "output_type": "stream",
          "name": "stdout",
          "text": [
            "Original list: [64, 34, 25, 12, 22, 11, 90]\n",
            "Sorted list: [11, 12, 22, 25, 34, 64, 90]\n"
          ]
        }
      ]
    },
    {
      "cell_type": "markdown",
      "source": [
        "Explaination:The code defines a function called bubble_sort that takes one argument: list_to_sort (the list you want to sort).\n",
        "\n",
        "def bubble_sort(list_to_sort):: This line defines the function bubble_sort with the list_to_sort parameter.\n",
        "\"\"\"Docstring\"\"\": The triple-quoted string is a docstring explaining what the function does, its argument, and what it returns.\n",
        "n = len(list_to_sort): This line gets the number of elements in the list and stores it in the variable n.\n",
        "for i in range(n):: This is the outer loop. It iterates n times. In each iteration, the largest unsorted element \"bubbles up\" to its correct position at the end of the unsorted portion of the list. After the i-th pass, the last i elements are sorted.\n",
        "for j in range(0, n - i - 1):: This is the inner loop. It iterates through the unsorted portion of the list. The range decreases with each pass of the outer loop (n - i - 1) because the elements at the end are already sorted.\n",
        "if list_to_sort[j] > list_to_sort[j + 1]:: This condition checks if the current element (list_to_sort[j]) is greater than the next element (list_to_sort[j + 1]).\n",
        "list_to_sort[j], list_to_sort[j + 1] = list_to_sort[j + 1], list_to_sort[j]: If the current element is greater than the next, these two lines swap their positions. This is the \"bubbling\" action.\n",
        "return list_to_sort: After the loops complete, the function returns the sorted list.\n",
        "The code then provides an example of how to use the bubble_sort function:\n",
        "\n",
        "my_list = [64, 34, 25, 12, 22, 11, 90]: A list named my_list is created.\n",
        "sorted_list = bubble_sort(my_list.copy()): The bubble_sort function is called with a copy of my_list. It's important to use .copy() here so that the original my_list remains unchanged, allowing you to see both the original and sorted lists. The sorted list is stored in the sorted_list variable.\n",
        "print(\"Original list:\", my_list): This line prints the original list.\n",
        "print(\"Sorted list:\", sorted_list): This line prints the sorted list."
      ],
      "metadata": {
        "id": "syckU5tm-da_"
      }
    },
    {
      "cell_type": "markdown",
      "source": [
        "Task3:Write python code to solve below case study using linear\n",
        "optimization\n"
      ],
      "metadata": {
        "id": "X9I_WqAf-mhA"
      }
    },
    {
      "cell_type": "markdown",
      "source": [
        "Prompt:generate a python program to solve the below case study using linear optimization:\n",
        "Consider a chocolate manufacturing company that produces only two types of chocolate i.e. A and B. Both the chocolates require Milk and Choco only. Venkataramana\n",
        "To manufacture each unit of A and B, the following quantities ar required:\n",
        "Each unit of A requires 1 unit of Milk and 3 units of Choco\n",
        "Each unit of B requires 1 unit of Milk and 2 units of Choco\n",
        " The company kitchen has a total of 5 units of Milk and 12 units of Choco. On each sale, the company makes a profit of Rs 6 per unit A sold and Rs 5 per unit B sold.\n",
        "Now, the company wishes to maximize its profit. How many units of A and B shoud it produce respectively?"
      ],
      "metadata": {
        "id": "Cz-_YDxq_N2N"
      }
    },
    {
      "cell_type": "code",
      "source": [
        "# Install PuLP if you haven't already\n",
        "!pip install pulp\n",
        "\n",
        "# Import the library\n",
        "from pulp import *\n",
        "\n",
        "# Create a LP problem\n",
        "prob = LpProblem(\"Chocolate Manufacturing\", LpMaximize)\n",
        "\n",
        "# Define decision variables\n",
        "# x is the number of units of chocolate A\n",
        "# y is the number of units of chocolate B\n",
        "x = LpVariable(\"A\", 0, None, LpInteger) # Non-negative integer variable\n",
        "y = LpVariable(\"B\", 0, None, LpInteger) # Non-negative integer variable\n",
        "\n",
        "# Define the objective function (maximize profit)\n",
        "# Profit = 6*x + 5*y\n",
        "prob += 6 * x + 5 * y, \"Total Profit\"\n",
        "\n",
        "# Define the constraints\n",
        "# Milk constraint: 1*x + 1*y <= 5\n",
        "prob += x + y <= 5, \"Milk Constraint\"\n",
        "\n",
        "# Choco constraint: 3*x + 2*y <= 12\n",
        "prob += 3 * x + 2 * y <= 12, \"Choco Constraint\"\n",
        "\n",
        "# Solve the problem\n",
        "prob.solve()\n",
        "\n",
        "# Print the results\n",
        "print(\"Status:\", LpStatus[prob.status])\n",
        "print(\"Optimal number of units of A:\", x.varValue)\n",
        "print(\"Optimal number of units of B:\", y.varValue)\n",
        "print(\"Maximum Profit:\", value(prob.objective))"
      ],
      "metadata": {
        "colab": {
          "base_uri": "https://localhost:8080/"
        },
        "id": "Vwegm1nGAC4W",
        "outputId": "d3e9367e-9b3a-46fb-f5e3-11fb150d21ed"
      },
      "execution_count": 3,
      "outputs": [
        {
          "output_type": "stream",
          "name": "stdout",
          "text": [
            "Collecting pulp\n",
            "  Downloading pulp-3.3.0-py3-none-any.whl.metadata (8.4 kB)\n",
            "Downloading pulp-3.3.0-py3-none-any.whl (16.4 MB)\n",
            "\u001b[2K   \u001b[90m━━━━━━━━━━━━━━━━━━━━━━━━━━━━━━━━━━━━━━━━\u001b[0m \u001b[32m16.4/16.4 MB\u001b[0m \u001b[31m89.0 MB/s\u001b[0m eta \u001b[36m0:00:00\u001b[0m\n",
            "\u001b[?25hInstalling collected packages: pulp\n",
            "Successfully installed pulp-3.3.0\n",
            "Status: Optimal\n",
            "Optimal number of units of A: 2.0\n",
            "Optimal number of units of B: 3.0\n",
            "Maximum Profit: 27.0\n"
          ]
        },
        {
          "output_type": "stream",
          "name": "stderr",
          "text": [
            "/usr/local/lib/python3.12/dist-packages/pulp/pulp.py:1489: UserWarning: Spaces are not permitted in the name. Converted to '_'\n",
            "  warnings.warn(\"Spaces are not permitted in the name. Converted to '_'\")\n"
          ]
        }
      ]
    },
    {
      "cell_type": "markdown",
      "source": [
        "Explaination:!pip install pulp: This line installs the PuLP library if it's not already installed in your environment.\n",
        "from pulp import *: This line imports all necessary functions and classes from the pulp library.\n",
        "prob = LpProblem(\"Chocolate Manufacturing\", LpMaximize): This creates a linear programming problem named \"Chocolate Manufacturing\". LpMaximize indicates that the goal is to maximize the objective function (in this case, profit).\n",
        "x = LpVariable(\"A\", 0, None, LpInteger): This defines a decision variable x representing the number of units of chocolate A to produce. LpVariable takes the variable name (\"A\"), the lower bound (0, meaning you can't produce negative units), the upper bound (None, meaning there's no upper limit initially), and the category (LpInteger because you can only produce whole units of chocolate).\n",
        "y = LpVariable(\"B\", 0, None, LpInteger): This defines a decision variable y representing the number of units of chocolate B to produce, similar to variable x.\n",
        "prob += 6 * x + 5 * y, \"Total Profit\": This defines the objective function to be maximized. The profit is 6 times the number of units of A (x) plus 5 times the number of units of B (y). \"Total Profit\" is just a name for this objective function.\n",
        "prob += x + y <= 5, \"Milk Constraint\": This defines the constraint related to milk. Each unit of A requires 1 unit of milk (x), each unit of B requires 1 unit of milk (y), and the total available milk is 5 units. So, the sum of milk used for A and B must be less than or equal to 5.\n",
        "prob += 3 * x + 2 * y <= 12, \"Choco Constraint\": This defines the constraint related to choco. Each unit of A requires 3 units of choco (3*x), each unit of B requires 2 units of choco (2*y), and the total available choco is 12 units. So, the sum of choco used for A and B must be less than or equal to 12.\n",
        "prob.solve(): This line solves the linear programming problem using a suitable solver.\n",
        "print(\"Status:\", LpStatus[prob.status]): This prints the status of the solution (e.g., Optimal, Infeasible, Unbounded).\n",
        "print(\"Optimal number of units of A:\", x.varValue): This prints the optimal value for variable x, which is the optimal number of units of chocolate A to produce.\n",
        "print(\"Optimal number of units of B:\", y.varValue): This prints the optimal value for variable y, which is the optimal number of units of chocolate B to produce.\n",
        "print(\"Maximum Profit:\", value(prob.objective)): This prints the maximum value of the objective function at the optimal solution, which is the maximum possible profit."
      ],
      "metadata": {
        "id": "UefuPPYCAVKA"
      }
    },
    {
      "cell_type": "markdown",
      "source": [
        "Task4:Write python code to find value of x at which the function\n",
        "f(x)=2X3+4x+5 will be minimum\n"
      ],
      "metadata": {
        "id": "yXfdeSE4Ad3z"
      }
    },
    {
      "cell_type": "markdown",
      "source": [
        "Prompt:generate a python code to find value of x at which the function f(x)=2X3+4X+5 will be minimum"
      ],
      "metadata": {
        "id": "-Rr8Ymi6BCg0"
      }
    },
    {
      "cell_type": "code",
      "source": [
        "from sympy import symbols, diff, solve\n",
        "\n",
        "# Define the variable\n",
        "x = symbols('x')\n",
        "\n",
        "# Define the function\n",
        "f_x = 2*x**3 + 4*x + 5\n",
        "\n",
        "# Find the derivative of the function\n",
        "f_prime_x = diff(f_x, x)\n",
        "\n",
        "# Find the critical points by setting the derivative to zero\n",
        "critical_points = solve(f_prime_x, x)\n",
        "\n",
        "print(\"The derivative of the function is:\", f_prime_x)\n",
        "print(\"The critical points are:\", critical_points)\n",
        "\n",
        "# To determine if a critical point is a minimum or maximum,\n",
        "# we would typically use the second derivative test.\n",
        "# However, for this specific function f'(x) = 6x^2 + 4,\n",
        "# the derivative is always positive for real x.\n",
        "# This means the function is strictly increasing and does not have a local minimum or maximum.\n",
        "# We can verify this by checking the second derivative:\n",
        "f_double_prime_x = diff(f_prime_x, x)\n",
        "print(\"The second derivative of the function is:\", f_double_prime_x)\n",
        "\n",
        "# Since the second derivative is 12x, the concavity changes at x=0.\n",
        "# However, f'(x) = 6x^2 + 4 is always > 0, meaning the function is always increasing.\n",
        "# Therefore, there is no local minimum for this function.\n",
        "\n",
        "# If we were looking for a minimum within a specific interval,\n",
        "# we would need to check the function values at the critical points within the interval\n",
        "# and at the endpoints of the interval.\n",
        "\n",
        "# For the given function over the domain of all real numbers, there is no global minimum.\n",
        "# As x approaches negative infinity, f(x) approaches negative infinity.\n",
        "# As x approaches positive infinity, f(x) approaches positive infinity."
      ],
      "metadata": {
        "colab": {
          "base_uri": "https://localhost:8080/"
        },
        "id": "x07oTXBDBUfp",
        "outputId": "c9cffdc6-946f-44ea-bcc2-f1ceb9f75f42"
      },
      "execution_count": 4,
      "outputs": [
        {
          "output_type": "stream",
          "name": "stdout",
          "text": [
            "The derivative of the function is: 6*x**2 + 4\n",
            "The critical points are: [-sqrt(6)*I/3, sqrt(6)*I/3]\n",
            "The second derivative of the function is: 12*x\n"
          ]
        }
      ]
    },
    {
      "cell_type": "markdown",
      "source": [
        "Explaination:from sympy import symbols, diff, solve: This line imports the necessary functions from the sympy library:\n",
        "symbols: Used to define symbolic variables (like 'x').\n",
        "diff: Used to calculate the derivative of a symbolic expression.\n",
        "solve: Used to solve equations.\n",
        "x = symbols('x'): This defines x as a symbolic variable. This allows sympy to treat x algebraically rather than as a specific numerical value.\n",
        "f_x = 2*x**3 + 4*x + 5: This defines the function f(x) as a symbolic expression.\n",
        "f_prime_x = diff(f_x, x): This calculates the first derivative of f_x with respect to x. For f(x) = 2x³ + 4x + 5, the derivative is f'(x) = 6x² + 4.\n",
        "critical_points = solve(f_prime_x, x): Critical points are where the derivative is equal to zero or undefined. For this function, the derivative is a polynomial, so it's defined everywhere. We set the derivative f_prime_x to zero and solve for x. The output shows the solutions are complex numbers, not real numbers.\n",
        "f_double_prime_x = diff(f_prime_x, x): This calculates the second derivative of the function. For f'(x) = 6x² + 4, the second derivative is f''(x) = 12x.\n",
        "The print statements and comments: The code then prints the calculated derivative and critical points. The comments and the final print statements explain the interpretation of the results. Since the first derivative f_prime_x = 6x² + 4 is always positive for real values of x, the function f(x) is strictly increasing and does not have any local minimum or maximum points over the real numbers. The complex critical points are not relevant for finding real-valued minimums or maximums of this function."
      ],
      "metadata": {
        "id": "zqUyXL0RBtH0"
      }
    }
  ]
}