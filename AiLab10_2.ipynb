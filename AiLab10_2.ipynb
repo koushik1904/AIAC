{
  "nbformat": 4,
  "nbformat_minor": 0,
  "metadata": {
    "colab": {
      "provenance": []
    },
    "kernelspec": {
      "name": "python3",
      "display_name": "Python 3"
    },
    "language_info": {
      "name": "python"
    }
  },
  "cells": [
    {
      "cell_type": "markdown",
      "source": [
        "Task 1:Write python program as shown below.\n",
        "• Use an AI assistant to review and suggest corrections.\n",
        "def calcFact(n):\n",
        "result=1\n",
        "x=6\n",
        "for i in range(1,n): result=result*i\n",
        "return result\n",
        "def main():\n",
        "num =\n",
        "FACT = calcFact (num)\n",
        "print(\"the factorial of\",num, \"is\"\n",
        ", FACT)\n",
        "七=10\n",
        "if FACT>10:\n",
        "print(\"BIG Number\")\n",
        "else:\n",
        "print(\"small number\")\n",
        "main()"
      ],
      "metadata": {
        "id": "7ylU6YaPnym1"
      }
    },
    {
      "cell_type": "markdown",
      "source": [
        "Prompt:generate the corrected code for above code and give it with comments"
      ],
      "metadata": {
        "id": "SMhyzc4JpwKF"
      }
    },
    {
      "cell_type": "code",
      "source": [
        "# Function to calculate factorial of a number\n",
        "def calcFact(n):\n",
        "  result = 1\n",
        "  # The loop should go up to n (inclusive) to calculate factorial correctly\n",
        "  for i in range(1, n + 1):\n",
        "    result = result * i\n",
        "  return result\n",
        "\n",
        "# Main function\n",
        "def main():\n",
        "  # Get input from the user for the number\n",
        "  num = int(input(\"Enter a non-negative integer: \"))\n",
        "  # Check if the number is non-negative\n",
        "  if num < 0:\n",
        "    print(\"Factorial is not defined for negative numbers.\")\n",
        "  else:\n",
        "    # Calculate the factorial\n",
        "    FACT = calcFact(num)\n",
        "    # Print the result\n",
        "    print(\"The factorial of\", num, \"is\", FACT)\n",
        "\n",
        "    # Check if the factorial is a big number (greater than 10)\n",
        "    # The variable '七' seems to be a typo or unused, removed it.\n",
        "    if FACT > 10:\n",
        "      print(\"BIG Number\")\n",
        "    else:\n",
        "      print(\"small number\")\n",
        "\n",
        "# Call the main function to start the program\n",
        "main()"
      ],
      "metadata": {
        "colab": {
          "base_uri": "https://localhost:8080/"
        },
        "id": "9WOUC1UapUvy",
        "outputId": "ca16f1b3-f57c-450c-ede9-8c9cb72ed632"
      },
      "execution_count": 1,
      "outputs": [
        {
          "output_type": "stream",
          "name": "stdout",
          "text": [
            "Enter a non-negative integer: 8\n",
            "The factorial of 8 is 40320\n",
            "BIG Number\n"
          ]
        }
      ]
    },
    {
      "cell_type": "markdown",
      "source": [
        "Explaination:calcFact(n) function:\n",
        "Takes an integer n as input.\n",
        "Initializes result to 1.\n",
        "Iterates from 1 up to n (inclusive) using a for loop.\n",
        "In each iteration, it multiplies result by the current number in the loop.\n",
        "Returns the final result, which is the factorial of n.\n",
        "main() function:\n",
        "Prompts the user to enter a non-negative integer using input().\n",
        "Converts the input string to an integer using int().\n",
        "Checks if the entered number is negative. If it is, it prints an error message.\n",
        "If the number is non-negative, it calls the calcFact() function to calculate the factorial.\n",
        "Prints the calculated factorial.\n",
        "Checks if the factorial is greater than 10 and prints \"BIG Number\" or \"small number\" accordingly.\n",
        "main() call:\n",
        "This line at the end calls the main() function to start the execution of the program."
      ],
      "metadata": {
        "id": "xDbFS584qM9a"
      }
    },
    {
      "cell_type": "markdown",
      "source": [
        "Task2:Write the Python code for Fibonacci as shown below and execute.\n",
        "• Ask AI to improve variable names, add comments, and apply PEP8 formatting\n",
        "(cleaned up).\n",
        "• Students evaluate which suggestions improve readability most. one"
      ],
      "metadata": {
        "id": "cpDVgrStq9iQ"
      }
    },
    {
      "cell_type": "markdown",
      "source": [
        "Prompt:give a python program to generate fibbonacci series and improve variable names,add comments and apply PEP8 formatting\n",
        "(cleaned up)"
      ],
      "metadata": {
        "id": "7oIRyGJXrek9"
      }
    },
    {
      "cell_type": "code",
      "source": [
        "# Function to generate the Fibonacci series up to a specified number of terms\n",
        "def generate_fibonacci_series(num_terms):\n",
        "    \"\"\"\n",
        "    Generates a Fibonacci series up to a specified number of terms.\n",
        "\n",
        "    Args:\n",
        "        num_terms: The number of terms to generate in the Fibonacci series.\n",
        "\n",
        "    Returns:\n",
        "        A list containing the Fibonacci series.\n",
        "    \"\"\"\n",
        "    fibonacci_series = []\n",
        "    # Initialize the first two terms\n",
        "    a, b = 0, 1\n",
        "    count = 0\n",
        "\n",
        "    # Check if the number of terms is valid\n",
        "    if num_terms <= 0:\n",
        "        print(\"Please enter a positive integer.\")\n",
        "    elif num_terms == 1:\n",
        "        fibonacci_series = [a]\n",
        "    else:\n",
        "        while count < num_terms:\n",
        "            fibonacci_series.append(a)\n",
        "            # Calculate the next term\n",
        "            next_term = a + b\n",
        "            # Update the previous two terms\n",
        "            a = b\n",
        "            b = next_term\n",
        "            count += 1\n",
        "\n",
        "    return fibonacci_series\n",
        "\n",
        "# Get the number of terms from the user\n",
        "try:\n",
        "    num_terms_input = int(input(\"Enter the number of terms for the Fibonacci series: \"))\n",
        "    # Generate and print the Fibonacci series\n",
        "    fib_series = generate_fibonacci_series(num_terms_input)\n",
        "    if fib_series:\n",
        "        print(\"Fibonacci Series:\", fib_series)\n",
        "except ValueError:\n",
        "    print(\"Invalid input. Please enter an integer.\")"
      ],
      "metadata": {
        "colab": {
          "base_uri": "https://localhost:8080/"
        },
        "id": "KinUgIZ7sLVn",
        "outputId": "65f02d46-8964-42bf-ed7b-0e314bd9838e"
      },
      "execution_count": 2,
      "outputs": [
        {
          "output_type": "stream",
          "name": "stdout",
          "text": [
            "Enter the number of terms for the Fibonacci series: 5\n",
            "Fibonacci Series: [0, 1, 1, 2, 3]\n"
          ]
        }
      ]
    },
    {
      "cell_type": "markdown",
      "source": [
        "Explaination:generate_fibonacci_series(num_terms) function:\n",
        "Takes an integer num_terms as input, which is the desired number of terms in the series.\n",
        "Initializes an empty list fibonacci_series to store the series.\n",
        "Initializes the first two terms of the series, a and b, to 0 and 1 respectively.\n",
        "Initializes a count to keep track of the number of terms generated.\n",
        "Includes checks for invalid input (num_terms less than or equal to 0) and the special case of generating only one term.\n",
        "Uses a while loop to generate terms until the count reaches num_terms.\n",
        "Inside the loop:\n",
        "The current term (a) is appended to the fibonacci_series list.\n",
        "The next term is calculated by adding the previous two terms (a and b).\n",
        "a and b are updated to the next two terms in the sequence.\n",
        "The count is incremented.\n",
        "Returns the fibonacci_series list.\n",
        "Input and Output:\n",
        "The code prompts the user to enter the number of terms using input().\n",
        "It uses a try-except block to handle potential ValueError if the user enters non-integer input.\n",
        "If the input is valid, it calls the generate_fibonacci_series() function to get the series.\n",
        "Finally, it prints the generated Fibonacci series."
      ],
      "metadata": {
        "id": "HUik7OETsfP_"
      }
    },
    {
      "cell_type": "markdown",
      "source": [
        "Task3:Write a Python script with 3–4 functions (e.g., calculator: add, subtract, multiply,\n",
        "divide).\n",
        "• Incorporate manual docstring in code with NumPy Style\n",
        "• Use AI assistance to generate a module-level docstring + individual function\n",
        "docstrings.\n",
        "• Compare the AI-generated docstring with your manually written one."
      ],
      "metadata": {
        "id": "q0KryrFAsq3f"
      }
    },
    {
      "cell_type": "code",
      "source": [
        "# This is a simple calculator module that includes functions\n",
        "# to add, subtract, multiply, and divide two numbers.\n",
        "\n",
        "# Function to add two numbers\n",
        "def add(a, b):\n",
        "    # Returns the sum of a and b\n",
        "    return a + b\n",
        "\n",
        "# Function to subtract the second number from the first\n",
        "def subtract(a, b):\n",
        "    # Returns the result of a minus b\n",
        "    return a - b\n",
        "\n",
        "# Function to multiply two numbers\n",
        "def multiply(a, b):\n",
        "    # Returns the product of a and b\n",
        "    return a * b\n",
        "\n",
        "# Function to divide the first number by the second\n",
        "def divide(a, b):\n",
        "    # If b is 0, raise an error to avoid dividing by zero\n",
        "    if b == 0:\n",
        "        raise ZeroDivisionError(\"Cannot divide by zero.\")\n",
        "    # Returns the result of a divided by b\n",
        "    return a / b\n"
      ],
      "metadata": {
        "id": "M-bR74LkwTnI"
      },
      "execution_count": null,
      "outputs": []
    },
    {
      "cell_type": "markdown",
      "source": [
        "Prompt:generate a python code with 4 functions like add ,subtract,multiply and divide give it with module level docstring +individual function docstring."
      ],
      "metadata": {
        "id": "NEv745MVw9xd"
      }
    },
    {
      "cell_type": "code",
      "source": [
        "\"\"\"\n",
        "This module provides basic arithmetic operations: addition, subtraction,\n",
        "multiplication, and division.\n",
        "\n",
        "Each function takes two numbers as input and returns the result of\n",
        "the corresponding operation.\n",
        "\"\"\"\n",
        "\n",
        "def add(a, b):\n",
        "  \"\"\"\n",
        "  Adds two numbers.\n",
        "\n",
        "  Parameters\n",
        "  ----------\n",
        "  a : int or float\n",
        "      The first number.\n",
        "  b : int or float\n",
        "      The second number.\n",
        "\n",
        "  Returns\n",
        "  -------\n",
        "  int or float\n",
        "      The sum of a and b.\n",
        "  \"\"\"\n",
        "  return a + b\n",
        "\n",
        "def subtract(a, b):\n",
        "  \"\"\"\n",
        "  Subtracts the second number from the first.\n",
        "\n",
        "  Parameters\n",
        "  ----------\n",
        "  a : int or float\n",
        "      The number to subtract from.\n",
        "  b : int or float\n",
        "      The number to be subtracted.\n",
        "\n",
        "  Returns\n",
        "  -------\n",
        "  int or float\n",
        "      The difference between a and b.\n",
        "  \"\"\"\n",
        "  return a - b\n",
        "\n",
        "def multiply(a, b):\n",
        "  \"\"\"\n",
        "  Multiplies two numbers.\n",
        "\n",
        "  Parameters\n",
        "  ----------\n",
        "  a : int or float\n",
        "      The first number.\n",
        "  b : int or float\n",
        "      The second number.\n",
        "\n",
        "  Returns\n",
        "  -------\n",
        "  int or float\n",
        "      The product of a and b.\n",
        "  \"\"\"\n",
        "  return a * b\n",
        "\n",
        "def divide(a, b):\n",
        "  \"\"\"\n",
        "  Divides the first number by the second.\n",
        "\n",
        "  Parameters\n",
        "  ----------\n",
        "  a : int or float\n",
        "      The numerator.\n",
        "  b : int or float\n",
        "      The denominator.\n",
        "\n",
        "  Returns\n",
        "  -------\n",
        "  float\n",
        "      The result of the division.\n",
        "\n",
        "  Raises\n",
        "  ------\n",
        "  ZeroDivisionError\n",
        "      If the denominator b is zero.\n",
        "  \"\"\"\n",
        "  if b == 0:\n",
        "    raise ZeroDivisionError(\"division by zero\")\n",
        "  return a / b"
      ],
      "metadata": {
        "id": "vz7oB4k9wwWw"
      },
      "execution_count": 3,
      "outputs": []
    },
    {
      "cell_type": "markdown",
      "source": [
        "Comparision:The manually written docstrings are simple and easy to understand, making them suitable for beginners or small projects. In contrast, the AI-generated NumPy-style docstrings are more structured, detailed, and professional, including parameter types, return types, and exception handling. Overall, the AI version is better suited for large or collaborative projects where clear and standardized documentation is important.\n"
      ],
      "metadata": {
        "id": "q5EiSNjgxsV1"
      }
    }
  ]
}