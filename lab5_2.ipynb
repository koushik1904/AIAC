{
  "nbformat": 4,
  "nbformat_minor": 0,
  "metadata": {
    "colab": {
      "provenance": [],
      "authorship_tag": "ABX9TyO9a5Dk67hdWWcK5EPlZr18",
      "include_colab_link": true
    },
    "kernelspec": {
      "name": "python3",
      "display_name": "Python 3"
    },
    "language_info": {
      "name": "python"
    }
  },
  "cells": [
    {
      "cell_type": "markdown",
      "metadata": {
        "id": "view-in-github",
        "colab_type": "text"
      },
      "source": [
        "<a href=\"https://colab.research.google.com/github/koushik1904/AIAC/blob/main/lab5_2.ipynb\" target=\"_parent\"><img src=\"https://colab.research.google.com/assets/colab-badge.svg\" alt=\"Open In Colab\"/></a>"
      ]
    },
    {
      "cell_type": "code",
      "execution_count": null,
      "metadata": {
        "id": "-tDIH0-Gfj8Q"
      },
      "outputs": [],
      "source": [
        "Task1:Use an AI tool (e.g., Copilot, Gemini, Cursor) to generate a login system. Review the\n",
        "generated code for hardcoded passwords, plain-text storage, or lack of encryption\n",
        "\n",
        "Prompt:generate a code for a login system ,it should be reviewable for hardcoded passwords,plain-text storage,or lack of encryption for 5 sample users"
      ]
    },
    {
      "cell_type": "code",
      "source": [],
      "metadata": {
        "id": "W8cNX8WJiMzM"
      },
      "execution_count": null,
      "outputs": []
    },
    {
      "cell_type": "code",
      "metadata": {
        "colab": {
          "base_uri": "https://localhost:8080/"
        },
        "id": "97b386de",
        "outputId": "d88a19ab-60d9-48d4-d98a-d9e730f3ea3b"
      },
      "source": [
        "# Basic login system example for review\n",
        "\n",
        "def login(username, password):\n",
        "    # In a real system, you would retrieve the stored password for the given username\n",
        "    # from a database or secure storage.\n",
        "    # For this example, we will simulate stored credentials.\n",
        "    stored_users = {\n",
        "        \"user1\": \"password123\",  # Example: Plain-text password - needs review\n",
        "        \"user2\": \"anotherpassword\", # Example: Plain-text password - needs review\n",
        "        \"user3\": \"securepass\",\n",
        "        \"user4\": \"mypassword\",\n",
        "        \"user5\": \"test1234\"\n",
        "    }\n",
        "\n",
        "    if username in stored_users:\n",
        "        if stored_users[username] == password:\n",
        "            return \"Login successful!\"\n",
        "        else:\n",
        "            return \"Incorrect password.\"\n",
        "    else:\n",
        "        return \"Username not found.\"\n",
        "\n",
        "# Example usage:\n",
        "print(login(\"user1\", \"password123\"))\n",
        "print(login(\"user2\", \"wrongpassword\"))\n",
        "print(login(\"user3\", \"securepass\"))\n",
        "print(login(\"user4\", \"mypassword123\"))\n",
        "print(login(\"user5\", \"test1234\"))\n",
        "\n",
        "\n",
        "# Review points:\n",
        "# 1. Hardcoded passwords: The passwords are hardcoded in the script.\n",
        "# 2. Plain-text storage: The simulated stored passwords are in plain text. In a real application, passwords should be hashed and salted.\n",
        "# 3. Lack of encryption: There is no encryption used for storing or transmitting credentials in this basic example."
      ],
      "execution_count": 1,
      "outputs": [
        {
          "output_type": "stream",
          "name": "stdout",
          "text": [
            "Login successful!\n",
            "Incorrect password.\n",
            "Login successful!\n",
            "Incorrect password.\n",
            "Login successful!\n"
          ]
        }
      ]
    },
    {
      "cell_type": "markdown",
      "source": [
        "Explanation:login(username, password) function: This function takes a username and password as input.\n",
        "stored_users dictionary: This dictionary simulates a database or storage of user credentials. In a real application, this would be replaced with a secure method of storing and retrieving user information.\n",
        "Checking for username: It checks if the provided username exists as a key in the stored_users dictionary.\n",
        "Checking for password: If the username is found, it compares the provided password with the stored password for that user.\n",
        "Returning login status: It returns \"Login successful!\" if the username and password match, \"Incorrect password.\" if the password is wrong, and \"Username not found.\" if the username doesn't exist.\n",
        "Example usage: The code then demonstrates how to use the login function with sample usernames and passwords, printing the result of each login attempt.\n",
        "Review points: The comments at the end highlight the security issues with this basic example: hardcoded passwords, plain-text storage, and lack of encryption. These are important considerations for building a secure system."
      ],
      "metadata": {
        "id": "_zK-Ddm4nGNf"
      }
    },
    {
      "cell_type": "markdown",
      "source": [
        "Task2:Use prompt variations like: “loan approval for John”, “loan approval for Priya”, etc.\n",
        "Evaluate whether the AI-generated logic exhibits bias or differing criteria based on\n",
        "names or genders\n",
        "\n",
        "Prompt:Write a Python program to test loan approval for different applicants.\n",
        "Keep age, income, and credit score the same, but change only the name\n",
        "(e.g., John, Priya, Ahmed, Emily).\n",
        "Check if the approval result changes when only the name changes,\n",
        "and print if there is any bias.\n"
      ],
      "metadata": {
        "id": "miVxsdl_jpcB"
      }
    },
    {
      "cell_type": "code",
      "metadata": {
        "colab": {
          "base_uri": "https://localhost:8080/"
        },
        "id": "c3718733",
        "outputId": "f44f444b-e118-4590-e92c-f9e33e0a64bb"
      },
      "source": [
        "def loan_approval(name, age, income, credit_score):\n",
        "    \"\"\"\n",
        "    Simulates a loan approval process.\n",
        "    In a real system, this would involve more complex logic and criteria.\n",
        "    For this example, the approval is based on age, income, and credit score,\n",
        "    but we will check if changing only the name affects the outcome.\n",
        "    \"\"\"\n",
        "    # Define approval criteria (example values)\n",
        "    min_age = 18\n",
        "    min_income = 30000\n",
        "    min_credit_score = 650\n",
        "\n",
        "    # Check if criteria are met\n",
        "    approved = age >= min_age and income >= min_income and credit_score >= min_credit_score\n",
        "\n",
        "    # This simple logic does NOT use the name, so the result should be the same\n",
        "    # for all names if other factors are constant.\n",
        "\n",
        "    return approved\n",
        "\n",
        "# Define constant applicant details (age, income, credit score)\n",
        "constant_age = 30\n",
        "constant_income = 50000\n",
        "constant_credit_score = 700\n",
        "\n",
        "# Get applicant name from user input\n",
        "applicant_name = input(\"Enter the applicant's name: \")\n",
        "\n",
        "# Test loan approval for the entered applicant\n",
        "approved = loan_approval(applicant_name, constant_age, constant_income, constant_credit_score)\n",
        "\n",
        "# Print the approval result\n",
        "print(f\"\\nLoan Approval Result for {applicant_name}: {'Approved' if approved else 'Rejected'}\")\n",
        "\n",
        "# To check for bias, you would run this program multiple times with different names\n",
        "# while keeping age, income, and credit score the same, and observe if the\n",
        "# approval result changes. In this specific code, since the 'loan_approval'\n",
        "# function doesn't use the 'name' parameter in its logic, the result will\n",
        "# always be the same as long as age, income, and credit score are constant.\n",
        "\n",
        "print(\"\\nTo check for bias, run this program with different names while keeping age, income, and credit score the same (currently set to 30, 50000, and 700 respectively) and see if the result changes.\")"
      ],
      "execution_count": 5,
      "outputs": [
        {
          "output_type": "stream",
          "name": "stdout",
          "text": [
            "Enter the applicant's name: priya\n",
            "\n",
            "Loan Approval Result for priya: Approved\n",
            "\n",
            "To check for bias, run this program with different names while keeping age, income, and credit score the same (currently set to 30, 50000, and 700 respectively) and see if the result changes.\n"
          ]
        }
      ]
    },
    {
      "cell_type": "markdown",
      "source": [
        "Explaination:loan_approval(name, age, income, credit_score) function: This function takes the applicant's name, age, income, and credit_score as input. It defines example criteria for loan approval (min_age, min_income, min_credit_score).\n",
        "Approval logic: The code checks if the provided age, income, and credit_score meet the minimum criteria. The approved variable stores the result (True if approved, False if rejected). Crucially, this logic does not use the name parameter.\n",
        "Constant details: constant_age, constant_income, and constant_credit_score are defined to hold the same values for all test cases, ensuring that only the name is varied when testing for bias.\n",
        "User input: input(\"Enter the applicant's name: \") prompts the user to enter a name.\n",
        "Testing approval: The loan_approval function is called with the entered applicant_name and the constant values for age, income, and credit score.\n",
        "Printing result: The code prints the loan approval result for the entered name.\n",
        "Bias explanation: The comments and the final print statement explain that to check for bias, you should run this program multiple times with different names while keeping the other factors constant and observe if the result changes. Since the loan_approval function's logic doesn't use the name, the result will always be the same in this specific code, demonstrating the absence of bias in this particular implementation."
      ],
      "metadata": {
        "id": "gee6F5cvofRO"
      }
    },
    {
      "cell_type": "markdown",
      "source": [
        "task3:Write prompt to write function calculate the nth Fibonacci number using recursion\n",
        "and generate comments and explain code document\n",
        "\n",
        "Prompt:Write a Python function to calculate the nth Fibonacci number using recursion.\n",
        "Add clear comments for each step of the code.\n",
        "Also generate a short explanation (docstring or print statements) describing how the code works and ask user to give input\n",
        "\n"
      ],
      "metadata": {
        "id": "HVjuRnf5oqBg"
      }
    },
    {
      "cell_type": "code",
      "source": [
        "def fibonacci_recursive(n):\n",
        "    \"\"\"\n",
        "    Calculates the nth Fibonacci number using recursion.\n",
        "\n",
        "    The Fibonacci sequence is a series where each number is the sum of the two preceding ones,\n",
        "    usually starting with 0 and 1. (0, 1, 1, 2, 3, 5, 8, 13, ...)\n",
        "\n",
        "    Args:\n",
        "        n: The position of the Fibonacci number to calculate (non-negative integer).\n",
        "\n",
        "    Returns:\n",
        "        The nth Fibonacci number.\n",
        "    \"\"\"\n",
        "    # Base case 1: If n is 0, the Fibonacci number is 0.\n",
        "    if n == 0:\n",
        "        return 0\n",
        "    # Base case 2: If n is 1, the Fibonacci number is 1.\n",
        "    elif n == 1:\n",
        "        return 1\n",
        "    # Recursive step: For n > 1, the nth Fibonacci number is the sum of the\n",
        "    # (n-1)th and (n-2)th Fibonacci numbers.\n",
        "    else:\n",
        "        return fibonacci_recursive(n - 1) + fibonacci_recursive(n - 2)\n",
        "\n",
        "# Get the value of n from user input\n",
        "try:\n",
        "    n_value_str = input(\"Enter the position (n) of the Fibonacci number you want to calculate: \")\n",
        "    n_value = int(n_value_str)\n",
        "\n",
        "    # Check for negative input\n",
        "    if n_value < 0:\n",
        "        print(\"Please enter a non-negative integer.\")\n",
        "    else:\n",
        "        # Calculate and print the nth Fibonacci number\n",
        "        fib_number = fibonacci_recursive(n_value)\n",
        "        print(f\"The {n_value}th Fibonacci number is: {fib_number}\")\n",
        "\n",
        "except ValueError:\n",
        "    print(\"Invalid input. Please enter an integer.\")\n",
        "\n",
        "\n",
        "# Explanation of how the code works:\n",
        "print(\"\\nExplanation:\")\n",
        "print(\"The 'fibonacci_recursive' function calculates the nth Fibonacci number.\")\n",
        "print(\"It uses recursion, meaning the function calls itself.\")\n",
        "print(\"Base cases (n=0 and n=1) provide stopping points for the recursion.\")\n",
        "print(\"For n > 1, the function breaks down the problem into smaller subproblems\")\n",
        "print(\"by calling itself with n-1 and n-2, until it reaches the base cases.\")\n",
        "print(\"The results from the recursive calls are then added together.\")\n",
        "print(\"The code also includes input handling to ask the user for the value of 'n'.\")"
      ],
      "metadata": {
        "colab": {
          "base_uri": "https://localhost:8080/"
        },
        "id": "o8UK9zHtpIHV",
        "outputId": "c2e6812f-14ff-42f1-ad30-5ea54a3bf386"
      },
      "execution_count": 3,
      "outputs": [
        {
          "output_type": "stream",
          "name": "stdout",
          "text": [
            "Enter the position (n) of the Fibonacci number you want to calculate: 6\n",
            "The 6th Fibonacci number is: 8\n",
            "\n",
            "Explanation:\n",
            "The 'fibonacci_recursive' function calculates the nth Fibonacci number.\n",
            "It uses recursion, meaning the function calls itself.\n",
            "Base cases (n=0 and n=1) provide stopping points for the recursion.\n",
            "For n > 1, the function breaks down the problem into smaller subproblems\n",
            "by calling itself with n-1 and n-2, until it reaches the base cases.\n",
            "The results from the recursive calls are then added together.\n",
            "The code also includes input handling to ask the user for the value of 'n'.\n"
          ]
        }
      ]
    },
    {
      "cell_type": "markdown",
      "source": [
        "Explaination:fibonacci_recursive(n) function: This function is designed to calculate the Fibonacci number at the position n.\n",
        "Docstring: The triple-quoted string right after the function definition is a docstring. It explains what the function does, the Fibonacci sequence, its arguments (Args), and what it returns (Returns).\n",
        "Base Cases (if n == 0: and elif n == 1:): These are the essential stopping points for the recursion.\n",
        "If n is 0, the function returns 0 (the first Fibonacci number).\n",
        "If n is 1, the function returns 1 (the second Fibonacci number). These base cases prevent the function from calling itself infinitely.\n",
        "Recursive Step (else:): If n is greater than 1, the function calls itself twice: once with n - 1 and once with n - 2. It then returns the sum of the results of these two recursive calls. This is the core of the recursive definition of the Fibonacci sequence.\n",
        "User Input: The code prompts the user to \"Enter the position (n) of the Fibonacci number you want to calculate:\". It then attempts to convert the input string to an integer.\n",
        "Input Validation: It checks if the entered n_value is negative and prints an error message if it is. It also uses a try-except block to catch ValueError if the user enters something that cannot be converted to an integer.\n",
        "Calculation and Output: If the input is valid and non-negative, it calls the fibonacci_recursive function with the user-provided n_value and prints the result.\n",
        "Explanation: The final print statements provide a clear, step-by-step explanation of how the recursive function works, including the role of the base cases and the recursive step."
      ],
      "metadata": {
        "id": "dr6-eYSApfw6"
      }
    },
    {
      "cell_type": "markdown",
      "source": [
        "Task4:Ask to generate a job applicant scoring system based on input features (e.g.,\n",
        "education, experience, gender, age). Analyze the scoring logic for bias or unfair\n",
        "weightings\n",
        "\n",
        "Prompt:Write a Python program that scores job applicants based on education, experience, gender, and age.\n",
        "Calculate a total score and check if the scoring gives unfair advantage or bias to gender or age.\n"
      ],
      "metadata": {
        "id": "ADc_xY20porJ"
      }
    },
    {
      "cell_type": "code",
      "source": [
        "def score_applicant(education, experience_years, gender, age):\n",
        "    \"\"\"\n",
        "    Scores a job applicant based on education, experience, gender, and age.\n",
        "    Note: This is a simplified example for demonstrating bias checking.\n",
        "    Real-world scoring models are much more complex and should be designed\n",
        "    to be fair and unbiased.\n",
        "    \"\"\"\n",
        "    # Define scoring weights (example values)\n",
        "    education_weight = 30\n",
        "    experience_weight = 40\n",
        "    # Initialize potential bias factors (set to 0 for an unbiased base)\n",
        "    gender_bias = 0\n",
        "    age_bias = 0\n",
        "\n",
        "    # Education scoring (example: Higher degree gets more points)\n",
        "    edu_score = 0\n",
        "    if education.lower() == \"phd\":\n",
        "        edu_score = 100\n",
        "    elif education.lower() == \"masters\":\n",
        "        edu_score = 80\n",
        "    elif education.lower() == \"bachelors\":\n",
        "        edu_score = 60\n",
        "    elif education.lower() == \"associates\":\n",
        "        edu_score = 40\n",
        "    else:\n",
        "        edu_score = 20 # High school or other\n",
        "\n",
        "    # Experience scoring (example: More years get more points)\n",
        "    exp_score = experience_years * 5 # 5 points per year of experience\n",
        "\n",
        "    # Calculate total score\n",
        "    total_score = (edu_score * education_weight + exp_score * experience_weight) / (education_weight + experience_weight)\n",
        "\n",
        "    # Add potential bias (currently 0, but could be modified to test bias)\n",
        "    total_score += gender_bias\n",
        "    total_score += age_bias\n",
        "\n",
        "    # For demonstrating bias check, we can print the factors that *could*\n",
        "    # be used in a biased system, even if not used in the core scoring here.\n",
        "    print(f\"Applicant Factors: Education={education}, Experience={experience_years} years, Gender={gender}, Age={age}\")\n",
        "    print(f\"Individual Scores: Education={edu_score}, Experience={exp_score}\")\n",
        "    print(f\"Potential Bias Added: Gender Bias={gender_bias}, Age Bias={age_bias}\")\n",
        "\n",
        "\n",
        "    return total_score\n",
        "\n",
        "# Get applicant details from user input\n",
        "print(\"Enter Applicant Details:\")\n",
        "education_input = input(\"Education (e.g., PhD, Masters, Bachelors): \")\n",
        "experience_input = int(input(\"Years of Experience: \"))\n",
        "gender_input = input(\"Gender (e.g., Male, Female, Non-binary): \")\n",
        "age_input = int(input(\"Age: \"))\n",
        "\n",
        "# Score the applicant\n",
        "applicant_score = score_applicant(education_input, experience_input, gender_input, age_input)\n",
        "\n",
        "# Print the final score\n",
        "print(f\"\\nApplicant Total Score: {applicant_score:.2f}\")\n",
        "\n",
        "# Explanation on checking for bias:\n",
        "print(\"\\nExplanation on checking for bias:\")\n",
        "print(\"To check for bias related to gender or age, you would run this program\")\n",
        "print(\"multiple times with different genders and ages, while keeping education\")\n",
        "print(\"and experience the same. Observe if the 'Applicant Total Score' changes\")\n",
        "print(\"significantly in a way that favors one gender or age group over another.\")\n",
        "print(\"In this specific code, the 'gender_bias' and 'age_bias' variables are\")\n",
        "print(\"set to 0 in the 'score_applicant' function, meaning they do not currently\")\n",
        "print(\"affect the score. To test for bias in a different scenario, you would\")\n",
        "print(\"modify those variables or the scoring logic to include a dependency\")\n",
        "print(\"on gender or age and then run the test again.\")\n",
        "print(\"Additionally, real-world bias can be more subtle and require\")\n",
        "print(\"analyzing large datasets and using specific bias detection techniques.\")"
      ],
      "metadata": {
        "colab": {
          "base_uri": "https://localhost:8080/"
        },
        "id": "rV2p5CEHqVCp",
        "outputId": "82db5b16-fc6a-413c-8d03-5599356af152"
      },
      "execution_count": 4,
      "outputs": [
        {
          "output_type": "stream",
          "name": "stdout",
          "text": [
            "Enter Applicant Details:\n",
            "Education (e.g., PhD, Masters, Bachelors): phd\n",
            "Years of Experience: 5\n",
            "Gender (e.g., Male, Female, Non-binary): male\n",
            "Age: 25\n",
            "Applicant Factors: Education=phd, Experience=5 years, Gender=male, Age=25\n",
            "Individual Scores: Education=100, Experience=25\n",
            "Potential Bias Added: Gender Bias=0, Age Bias=0\n",
            "\n",
            "Applicant Total Score: 57.14\n",
            "\n",
            "Explanation on checking for bias:\n",
            "To check for bias related to gender or age, you would run this program\n",
            "multiple times with different genders and ages, while keeping education\n",
            "and experience the same. Observe if the 'Applicant Total Score' changes\n",
            "significantly in a way that favors one gender or age group over another.\n",
            "In this specific code, the 'gender_bias' and 'age_bias' variables are\n",
            "set to 0 in the 'score_applicant' function, meaning they do not currently\n",
            "affect the score. To test for bias in a different scenario, you would\n",
            "modify those variables or the scoring logic to include a dependency\n",
            "on gender or age and then run the test again.\n",
            "Additionally, real-world bias can be more subtle and require\n",
            "analyzing large datasets and using specific bias detection techniques.\n"
          ]
        }
      ]
    },
    {
      "cell_type": "markdown",
      "source": [
        "Explaination:score_applicant(education, experience_years, gender, age) function: This function takes the applicant's education, experience_years, gender, and age as input.\n",
        "Scoring weights: education_weight and experience_weight are defined as example weights for these factors in the total score calculation.\n",
        "Bias initialization: gender_bias and age_bias are initialized to 0. These variables are included to demonstrate where bias could be added in a real system, even though they don't affect the score in this initial version.\n",
        "Education scoring: The code assigns a score (edu_score) based on the level of education provided. Higher degrees receive more points in this example.\n",
        "Experience scoring: The code calculates an experience score (exp_score) by multiplying the years of experience by a factor (5 in this case).\n",
        "Total score calculation: The total_score is calculated as a weighted average of the education and experience scores.\n",
        "Adding potential bias: The gender_bias and age_bias are added to the total_score. Since they are initialized to 0, they don't change the score in this version, but this part of the code shows where you would introduce bias for testing or in a real (and potentially unfair) system.\n",
        "Printing factors and scores: The code prints the input factors, the individual education and experience scores, and the potential bias added (which is 0 in this case) for transparency.\n",
        "User Input: The code prompts the user to enter details for an applicant: education, years of experience, gender, and age.\n",
        "Scoring and Output: The score_applicant function is called with the user's input, and the final calculated applicant_score is printed.\n",
        "Explanation on checking for bias: The final print statements explain how to check for bias. It highlights that in this specific code, gender and age do not currently influence the score because gender_bias and age_bias are 0. To test for bias, you would need to modify these variables or the scoring logic to make the score dependent on gender or age and then run the program with different inputs. It also notes that real-world bias can be more complex and require more advanced techniques"
      ],
      "metadata": {
        "id": "TwD3XXv_rWlG"
      }
    },
    {
      "cell_type": "markdown",
      "source": [
        "Task5:Code Snippet![Screenshot 2025-09-09 144851.png](data:image/png;base64,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)\n",
        "\n",
        "Prompt:generate a python code that should greet ther user if the user is male it should include mr,and if the user is female include ms,if the gender is unspecified gender (gender neutral) and ask user to give input"
      ],
      "metadata": {
        "id": "JCSksyh1tN95"
      }
    },
    {
      "cell_type": "code",
      "source": [
        "# Get user input for name and gender\n",
        "name = input(\"Enter your name: \")\n",
        "gender = input(\"Enter your gender (Male, Female, or Unspecified): \").lower() # Convert to lowercase for easier comparison\n",
        "\n",
        "# Determine the appropriate title based on gender\n",
        "if gender == \"male\":\n",
        "    title = \"Mr.\"\n",
        "elif gender == \"female\":\n",
        "    title = \"Ms.\"\n",
        "else:\n",
        "    title = \"\" # No title for unspecified gender\n",
        "\n",
        "# Print the greeting\n",
        "if title:\n",
        "    print(f\"Hello, {title} {name}!\")\n",
        "else:\n",
        "    print(f\"Hello, {name}!\")"
      ],
      "metadata": {
        "colab": {
          "base_uri": "https://localhost:8080/"
        },
        "id": "dZP8584dvc_8",
        "outputId": "25111c00-3a6b-4384-a12b-4e9cf167248c"
      },
      "execution_count": 6,
      "outputs": [
        {
          "output_type": "stream",
          "name": "stdout",
          "text": [
            "Enter your name: kowshik\n",
            "Enter your gender (Male, Female, or Unspecified): male\n",
            "Hello, Mr. kowshik!\n"
          ]
        }
      ]
    },
    {
      "cell_type": "markdown",
      "source": [
        "Explaination:Get user input:\n",
        "name = input(\"Enter your name: \"): This line prompts the user to enter their name and stores the input string in the name variable.\n",
        "gender = input(\"Enter your gender (Male, Female, or Unspecified): \").lower(): This line prompts the user to enter their gender. The .lower() method is used to convert the input to lowercase, making it easier to compare later (e.g., \"Male\", \"male\", or \"MALE\" will all be treated as \"male\"). The input is stored in the gender variable.\n",
        "Determine the appropriate title:\n",
        "if gender == \"male\":: This checks if the lowercase gender input is exactly \"male\". If it is, the title variable is set to \"Mr.\".\n",
        "elif gender == \"female\":: If the gender is not \"male\", this checks if it is \"female\". If it is, the title variable is set to \"Ms.\".\n",
        "else:: If the gender is neither \"male\" nor \"female\", this else block is executed. The title variable is set to an empty string \"\", which will be used for a gender-neutral greeting.\n",
        "Print the greeting:\n",
        "if title:: This checks if the title variable is not empty. If it's not empty (meaning a title like \"Mr.\" or \"Ms.\" was assigned), the code inside this if block is executed.\n",
        "print(f\"Hello, {title} {name}!\"): This line prints the greeting, including the title and the user's name. The f\"\" syntax is an f-string, which allows you to embed variables directly within the string.\n",
        "else:: If the title variable is empty (meaning the gender was \"unspecified\" or something else), the code inside this else block is executed.\n",
        "print(f\"Hello, {name}!\"): This line prints a simple greeting using only the user's name, without a title."
      ],
      "metadata": {
        "id": "PZuoOUqCwOwx"
      }
    }
  ]
}