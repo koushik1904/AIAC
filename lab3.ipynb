{
  "nbformat": 4,
  "nbformat_minor": 0,
  "metadata": {
    "colab": {
      "provenance": [],
      "authorship_tag": "ABX9TyNG2po133wdKGIJPA9h3d34",
      "include_colab_link": true
    },
    "kernelspec": {
      "name": "python3",
      "display_name": "Python 3"
    },
    "language_info": {
      "name": "python"
    }
  },
  "cells": [
    {
      "cell_type": "markdown",
      "metadata": {
        "id": "view-in-github",
        "colab_type": "text"
      },
      "source": [
        "<a href=\"https://colab.research.google.com/github/koushik1904/AIAC/blob/main/lab3.ipynb\" target=\"_parent\"><img src=\"https://colab.research.google.com/assets/colab-badge.svg\" alt=\"Open In Colab\"/></a>"
      ]
    },
    {
      "cell_type": "code",
      "execution_count": null,
      "metadata": {
        "id": "YcdAdZlBIfkH"
      },
      "outputs": [],
      "source": [
        "task1:Try 3 different prompts to generate a factorial function"
      ]
    },
    {
      "cell_type": "markdown",
      "source": [
        "prompt1:Write a simple recursive Python function to calculate the factorial of a given non-negative integer."
      ],
      "metadata": {
        "id": "ibXvwzqrIrru"
      }
    },
    {
      "cell_type": "code",
      "source": [
        "def factorial(n):\n",
        "    \"\"\"\n",
        "    Calculates the factorial of a non-negative integer using recursion.\n",
        "\n",
        "    Args:\n",
        "        n: A non-negative integer.\n",
        "\n",
        "    Returns:\n",
        "        The factorial of n.\n",
        "    \"\"\"\n",
        "    if n == 0:\n",
        "        return 1\n",
        "    else:\n",
        "        return n * factorial(n-1)\n",
        "\n",
        "# Example usage:\n",
        "print(factorial(5))"
      ],
      "metadata": {
        "colab": {
          "base_uri": "https://localhost:8080/"
        },
        "id": "YGZX6sjtIxUX",
        "outputId": "f9301a5f-dace-41cd-c41c-bcf0565eb787"
      },
      "execution_count": 1,
      "outputs": [
        {
          "output_type": "stream",
          "name": "stdout",
          "text": [
            "120\n"
          ]
        }
      ]
    },
    {
      "cell_type": "markdown",
      "source": [
        "The selected code cell defines a Python function called factorial that calculates the factorial of a non-negative integer using recursion.\n",
        "\n",
        "Here's a breakdown:\n",
        "\n",
        "def factorial(n):: This line defines the function named factorial that takes one argument, n.\n",
        "\"\"\"Docstring\"\"\": This is a docstring that explains what the function does, its arguments, and what it returns.\n",
        "if n == 0:: This is the base case of the recursion. The factorial of 0 is defined as 1.\n",
        "return 1: If n is 0, the function returns 1.\n",
        "else:: If n is not 0, the function executes the recursive step.\n",
        "return n * factorial(n-1): This is the recursive call. The factorial of n is calculated by multiplying n with the factorial of n-1. This process continues until the base case (n == 0) is reached.\n",
        "print(factorial(5)): This line demonstrates how to use the function by calling factorial with the argument 5 and printing the result.\n",
        "In essence, the function breaks down the problem of calculating a factorial into smaller, self-similar subproblems until it reaches the simplest case (factorial of 0), and then builds up the result from there."
      ],
      "metadata": {
        "id": "gyfDbUrlI_J-"
      }
    },
    {
      "cell_type": "markdown",
      "source": [
        "prompt2:Create an iterative Python function that computes the factorial of a number without using recursion."
      ],
      "metadata": {
        "id": "1UDES07jJYU-"
      }
    },
    {
      "cell_type": "code",
      "source": [
        "def factorial_iterative(n):\n",
        "    \"\"\"\n",
        "    Calculates the factorial of a non-negative integer using iteration.\n",
        "\n",
        "    Args:\n",
        "        n: A non-negative integer.\n",
        "\n",
        "    Returns:\n",
        "        The factorial of n.\n",
        "    \"\"\"\n",
        "    if n < 0:\n",
        "        return \"Factorial is not defined for negative numbers\"\n",
        "    elif n == 0:\n",
        "        return 1\n",
        "    else:\n",
        "        result = 1\n",
        "        for i in range(1, n + 1):\n",
        "            result *= i\n",
        "        return result\n",
        "\n",
        "# Example usage:\n",
        "print(factorial_iterative(5))\n",
        "print(factorial_iterative(0))\n",
        "print(factorial_iterative(-1))"
      ],
      "metadata": {
        "colab": {
          "base_uri": "https://localhost:8080/"
        },
        "id": "PZMR-JV3JiYI",
        "outputId": "34abf011-839d-43ff-ed62-cc80e00911a0"
      },
      "execution_count": 2,
      "outputs": [
        {
          "output_type": "stream",
          "name": "stdout",
          "text": [
            "120\n",
            "1\n",
            "Factorial is not defined for negative numbers\n"
          ]
        }
      ]
    },
    {
      "cell_type": "markdown",
      "source": [
        "def factorial_iterative(n):: This line defines the function named factorial_iterative that takes one argument, n.\n",
        "\"\"\"Docstring\"\"\": This is a docstring that explains what the function does, its arguments, and what it returns.\n",
        "if n < 0:: This checks if the input number n is negative.\n",
        "return \"Factorial is not defined for negative numbers\": If n is negative, the function returns this message because factorials are not defined for negative numbers.\n",
        "elif n == 0:: This checks if the input number n is zero.\n",
        "return 1: If n is zero, the function returns 1, as the factorial of 0 is 1.\n",
        "else:: If n is a positive integer, the function proceeds with the iterative calculation.\n",
        "result = 1: A variable result is initialized to 1. This will store the calculated factorial.\n",
        "for i in range(1, n + 1):: This starts a for loop that iterates from 1 up to and including n.\n",
        "result *= i: In each iteration, the result is multiplied by the current value of i. This cumulatively calculates the product of numbers from 1 to n.\n",
        "return result: After the loop finishes, the function returns the final calculated result, which is the factorial of n.\n",
        "print(factorial_iterative(5)), print(factorial_iterative(0)), print(factorial_iterative(-1)): These lines demonstrate how to use the function with example inputs and print the results.\n",
        "In essence, this function calculates the factorial by repeatedly multiplying a result variable by each integer from 1 up to the input number."
      ],
      "metadata": {
        "id": "hnWdDQjJJq8y"
      }
    },
    {
      "cell_type": "markdown",
      "source": [
        "prompt3:Generate a Python function using the math module to calculate the factorial of a number efficiently."
      ],
      "metadata": {
        "id": "CAYHZ15qJ2bJ"
      }
    },
    {
      "cell_type": "code",
      "source": [
        "import math\n",
        "\n",
        "def factorial_math(n):\n",
        "    \"\"\"\n",
        "    Calculates the factorial of a non-negative integer using the math module.\n",
        "\n",
        "    Args:\n",
        "        n: A non-negative integer.\n",
        "\n",
        "    Returns:\n",
        "        The factorial of n.\n",
        "    \"\"\"\n",
        "    if n < 0:\n",
        "        return \"Factorial is not defined for negative numbers\"\n",
        "    else:\n",
        "        return math.factorial(n)\n",
        "\n",
        "# Example usage:\n",
        "print(factorial_math(5))\n",
        "print(factorial_math(0))\n",
        "print(factorial_math(-1))"
      ],
      "metadata": {
        "colab": {
          "base_uri": "https://localhost:8080/"
        },
        "id": "nzSlYU_QJ7Qd",
        "outputId": "3c894f55-7d8b-4114-b504-a2568ec96ee9"
      },
      "execution_count": 3,
      "outputs": [
        {
          "output_type": "stream",
          "name": "stdout",
          "text": [
            "120\n",
            "1\n",
            "Factorial is not defined for negative numbers\n"
          ]
        }
      ]
    },
    {
      "cell_type": "markdown",
      "source": [
        "import math: This line imports the math module, which provides access to mathematical functions.\n",
        "def factorial_math(n):: This line defines the function named factorial_math that takes one argument, n.\n",
        "\"\"\"Docstring\"\"\": This is a docstring that explains what the function does, its arguments, and what it returns.\n",
        "if n < 0:: This checks if the input number n is negative.\n",
        "return \"Factorial is not defined for negative numbers\": If n is negative, the function returns this message because factorials are not defined for negative numbers.\n",
        "else:: If n is a non-negative integer, the function proceeds to calculate the factorial.\n",
        "return math.factorial(n): This is the core of the function. It calls the factorial() function from the math module, passing n as the argument, and returns the result. The math.factorial() function is optimized for calculating factorials efficiently.\n",
        "print(factorial_math(5)), print(factorial_math(0)), print(factorial_math(-1)): These lines demonstrate how to use the function with example inputs and print the results.\n",
        "In essence, this function provides a convenient way to calculate factorials by leveraging the efficient implementation available in the math module."
      ],
      "metadata": {
        "id": "qkZgojXXKDSg"
      }
    },
    {
      "cell_type": "markdown",
      "source": [
        "task2:Provide a clear example input-output prompt to generate a sorting function\n",
        "prompt:Write a Python function called sort_numbers that takes a list of integers as input and returns a new list with the integers sorted in ascending order. example:Input: [5, 2, 9, 1, 5, 6] outout: [1, 2, 5, 5, 6, 9]"
      ],
      "metadata": {
        "id": "jBDwKNUgKLNH"
      }
    },
    {
      "cell_type": "code",
      "source": [
        "def sort_numbers(numbers):\n",
        "    \"\"\"\n",
        "    Sorts a list of integers in ascending order.\n",
        "\n",
        "    Args:\n",
        "        numbers: A list of integers.\n",
        "\n",
        "    Returns:\n",
        "        A new list with the integers sorted in ascending order.\n",
        "    \"\"\"\n",
        "    return sorted(numbers)\n",
        "\n",
        "# Example usage:\n",
        "input_list = [5, 2, 9, 1, 5, 6]\n",
        "output_list = sort_numbers(input_list)\n",
        "print(f\"Input: {input_list}\")\n",
        "print(f\"Output: {output_list}\")"
      ],
      "metadata": {
        "colab": {
          "base_uri": "https://localhost:8080/"
        },
        "id": "LpJB-Kh8LiBw",
        "outputId": "133e1d18-5c07-4868-ed16-e0abc43534d3"
      },
      "execution_count": 4,
      "outputs": [
        {
          "output_type": "stream",
          "name": "stdout",
          "text": [
            "Input: [5, 2, 9, 1, 5, 6]\n",
            "Output: [1, 2, 5, 5, 6, 9]\n"
          ]
        }
      ]
    },
    {
      "cell_type": "markdown",
      "source": [
        "def sort_numbers(numbers):: This line defines the function named sort_numbers that takes one argument, numbers, which is expected to be a list of integers.\n",
        "\"\"\"Docstring\"\"\": This is a docstring that explains what the function does, its arguments, and what it returns.\n",
        "return sorted(numbers): This is the core of the function. It uses the built-in Python function sorted() which takes an iterable (like a list) as input and returns a new list containing all items from the iterable in ascending order.\n",
        "input_list = [5, 2, 9, 1, 5, 6]: This line creates a sample list of integers to test the function.\n",
        "output_list = sort_numbers(input_list): This line calls the sort_numbers function with the input_list and stores the returned sorted list in the output_list variable.\n",
        "print(f\"Input: {input_list}\"): This line prints the original input list.\n",
        "print(f\"Output: {output_list}\"): This line prints the sorted output list.\n",
        "In essence, this function provides a simple and efficient way to sort a list of numbers using Python's built-in sorting capabilities."
      ],
      "metadata": {
        "id": "Lvz9cvX2LoQN"
      }
    }
  ]
}