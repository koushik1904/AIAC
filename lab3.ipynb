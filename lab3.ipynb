{
  "nbformat": 4,
  "nbformat_minor": 0,
  "metadata": {
    "colab": {
      "provenance": [],
      "authorship_tag": "ABX9TyP5nIdLX+5LYShWpUvJcjw8",
      "include_colab_link": true
    },
    "kernelspec": {
      "name": "python3",
      "display_name": "Python 3"
    },
    "language_info": {
      "name": "python"
    }
  },
  "cells": [
    {
      "cell_type": "markdown",
      "metadata": {
        "id": "view-in-github",
        "colab_type": "text"
      },
      "source": [
        "<a href=\"https://colab.research.google.com/github/koushik1904/AIAC/blob/main/lab3.ipynb\" target=\"_parent\"><img src=\"https://colab.research.google.com/assets/colab-badge.svg\" alt=\"Open In Colab\"/></a>"
      ]
    },
    {
      "cell_type": "code",
      "execution_count": null,
      "metadata": {
        "id": "YcdAdZlBIfkH"
      },
      "outputs": [],
      "source": [
        "task1:Try 3 different prompts to generate a factorial function"
      ]
    },
    {
      "cell_type": "markdown",
      "source": [
        "prompt1:Write a simple recursive Python function to calculate the factorial of a given non-negative integer."
      ],
      "metadata": {
        "id": "ibXvwzqrIrru"
      }
    },
    {
      "cell_type": "code",
      "source": [
        "def factorial(n):\n",
        "    \"\"\"\n",
        "    Calculates the factorial of a non-negative integer using recursion.\n",
        "\n",
        "    Args:\n",
        "        n: A non-negative integer.\n",
        "\n",
        "    Returns:\n",
        "        The factorial of n.\n",
        "    \"\"\"\n",
        "    if n == 0:\n",
        "        return 1\n",
        "    else:\n",
        "        return n * factorial(n-1)\n",
        "\n",
        "# Example usage:\n",
        "print(factorial(5))"
      ],
      "metadata": {
        "colab": {
          "base_uri": "https://localhost:8080/"
        },
        "id": "YGZX6sjtIxUX",
        "outputId": "f9301a5f-dace-41cd-c41c-bcf0565eb787"
      },
      "execution_count": 1,
      "outputs": [
        {
          "output_type": "stream",
          "name": "stdout",
          "text": [
            "120\n"
          ]
        }
      ]
    },
    {
      "cell_type": "markdown",
      "source": [
        "The selected code cell defines a Python function called factorial that calculates the factorial of a non-negative integer using recursion.\n",
        "\n",
        "Here's a breakdown:\n",
        "\n",
        "def factorial(n):: This line defines the function named factorial that takes one argument, n.\n",
        "\"\"\"Docstring\"\"\": This is a docstring that explains what the function does, its arguments, and what it returns.\n",
        "if n == 0:: This is the base case of the recursion. The factorial of 0 is defined as 1.\n",
        "return 1: If n is 0, the function returns 1.\n",
        "else:: If n is not 0, the function executes the recursive step.\n",
        "return n * factorial(n-1): This is the recursive call. The factorial of n is calculated by multiplying n with the factorial of n-1. This process continues until the base case (n == 0) is reached.\n",
        "print(factorial(5)): This line demonstrates how to use the function by calling factorial with the argument 5 and printing the result.\n",
        "In essence, the function breaks down the problem of calculating a factorial into smaller, self-similar subproblems until it reaches the simplest case (factorial of 0), and then builds up the result from there."
      ],
      "metadata": {
        "id": "gyfDbUrlI_J-"
      }
    },
    {
      "cell_type": "markdown",
      "source": [
        "prompt2:Create an iterative Python function that computes the factorial of a number without using recursion."
      ],
      "metadata": {
        "id": "1UDES07jJYU-"
      }
    },
    {
      "cell_type": "code",
      "source": [
        "def factorial_iterative(n):\n",
        "    \"\"\"\n",
        "    Calculates the factorial of a non-negative integer using iteration.\n",
        "\n",
        "    Args:\n",
        "        n: A non-negative integer.\n",
        "\n",
        "    Returns:\n",
        "        The factorial of n.\n",
        "    \"\"\"\n",
        "    if n < 0:\n",
        "        return \"Factorial is not defined for negative numbers\"\n",
        "    elif n == 0:\n",
        "        return 1\n",
        "    else:\n",
        "        result = 1\n",
        "        for i in range(1, n + 1):\n",
        "            result *= i\n",
        "        return result\n",
        "\n",
        "# Example usage:\n",
        "print(factorial_iterative(5))\n",
        "print(factorial_iterative(0))\n",
        "print(factorial_iterative(-1))"
      ],
      "metadata": {
        "colab": {
          "base_uri": "https://localhost:8080/"
        },
        "id": "PZMR-JV3JiYI",
        "outputId": "34abf011-839d-43ff-ed62-cc80e00911a0"
      },
      "execution_count": 2,
      "outputs": [
        {
          "output_type": "stream",
          "name": "stdout",
          "text": [
            "120\n",
            "1\n",
            "Factorial is not defined for negative numbers\n"
          ]
        }
      ]
    },
    {
      "cell_type": "markdown",
      "source": [
        "def factorial_iterative(n):: This line defines the function named factorial_iterative that takes one argument, n.\n",
        "\"\"\"Docstring\"\"\": This is a docstring that explains what the function does, its arguments, and what it returns.\n",
        "if n < 0:: This checks if the input number n is negative.\n",
        "return \"Factorial is not defined for negative numbers\": If n is negative, the function returns this message because factorials are not defined for negative numbers.\n",
        "elif n == 0:: This checks if the input number n is zero.\n",
        "return 1: If n is zero, the function returns 1, as the factorial of 0 is 1.\n",
        "else:: If n is a positive integer, the function proceeds with the iterative calculation.\n",
        "result = 1: A variable result is initialized to 1. This will store the calculated factorial.\n",
        "for i in range(1, n + 1):: This starts a for loop that iterates from 1 up to and including n.\n",
        "result *= i: In each iteration, the result is multiplied by the current value of i. This cumulatively calculates the product of numbers from 1 to n.\n",
        "return result: After the loop finishes, the function returns the final calculated result, which is the factorial of n.\n",
        "print(factorial_iterative(5)), print(factorial_iterative(0)), print(factorial_iterative(-1)): These lines demonstrate how to use the function with example inputs and print the results.\n",
        "In essence, this function calculates the factorial by repeatedly multiplying a result variable by each integer from 1 up to the input number."
      ],
      "metadata": {
        "id": "hnWdDQjJJq8y"
      }
    },
    {
      "cell_type": "markdown",
      "source": [
        "prompt3:Generate a Python function using the math module to calculate the factorial of a number efficiently."
      ],
      "metadata": {
        "id": "CAYHZ15qJ2bJ"
      }
    },
    {
      "cell_type": "code",
      "source": [
        "import math\n",
        "\n",
        "def factorial_math(n):\n",
        "    \"\"\"\n",
        "    Calculates the factorial of a non-negative integer using the math module.\n",
        "\n",
        "    Args:\n",
        "        n: A non-negative integer.\n",
        "\n",
        "    Returns:\n",
        "        The factorial of n.\n",
        "    \"\"\"\n",
        "    if n < 0:\n",
        "        return \"Factorial is not defined for negative numbers\"\n",
        "    else:\n",
        "        return math.factorial(n)\n",
        "\n",
        "# Example usage:\n",
        "print(factorial_math(5))\n",
        "print(factorial_math(0))\n",
        "print(factorial_math(-1))"
      ],
      "metadata": {
        "colab": {
          "base_uri": "https://localhost:8080/"
        },
        "id": "nzSlYU_QJ7Qd",
        "outputId": "3c894f55-7d8b-4114-b504-a2568ec96ee9"
      },
      "execution_count": 3,
      "outputs": [
        {
          "output_type": "stream",
          "name": "stdout",
          "text": [
            "120\n",
            "1\n",
            "Factorial is not defined for negative numbers\n"
          ]
        }
      ]
    },
    {
      "cell_type": "markdown",
      "source": [
        "import math: This line imports the math module, which provides access to mathematical functions.\n",
        "def factorial_math(n):: This line defines the function named factorial_math that takes one argument, n.\n",
        "\"\"\"Docstring\"\"\": This is a docstring that explains what the function does, its arguments, and what it returns.\n",
        "if n < 0:: This checks if the input number n is negative.\n",
        "return \"Factorial is not defined for negative numbers\": If n is negative, the function returns this message because factorials are not defined for negative numbers.\n",
        "else:: If n is a non-negative integer, the function proceeds to calculate the factorial.\n",
        "return math.factorial(n): This is the core of the function. It calls the factorial() function from the math module, passing n as the argument, and returns the result. The math.factorial() function is optimized for calculating factorials efficiently.\n",
        "print(factorial_math(5)), print(factorial_math(0)), print(factorial_math(-1)): These lines demonstrate how to use the function with example inputs and print the results.\n",
        "In essence, this function provides a convenient way to calculate factorials by leveraging the efficient implementation available in the math module."
      ],
      "metadata": {
        "id": "qkZgojXXKDSg"
      }
    },
    {
      "cell_type": "markdown",
      "source": [
        "task2:Provide a clear example input-output prompt to generate a sorting function\n",
        "prompt:Write a Python function called sort_numbers that takes a list of integers as input and returns a new list with the integers sorted in ascending order. example:Input: [5, 2, 9, 1, 5, 6] outout: [1, 2, 5, 5, 6, 9]"
      ],
      "metadata": {
        "id": "jBDwKNUgKLNH"
      }
    },
    {
      "cell_type": "code",
      "source": [
        "def sort_numbers(numbers):\n",
        "    \"\"\"\n",
        "    Sorts a list of integers in ascending order.\n",
        "\n",
        "    Args:\n",
        "        numbers: A list of integers.\n",
        "\n",
        "    Returns:\n",
        "        A new list with the integers sorted in ascending order.\n",
        "    \"\"\"\n",
        "    return sorted(numbers)\n",
        "\n",
        "# Example usage:\n",
        "input_list = [5, 2, 9, 1, 5, 6]\n",
        "output_list = sort_numbers(input_list)\n",
        "print(f\"Input: {input_list}\")\n",
        "print(f\"Output: {output_list}\")"
      ],
      "metadata": {
        "colab": {
          "base_uri": "https://localhost:8080/"
        },
        "id": "LpJB-Kh8LiBw",
        "outputId": "133e1d18-5c07-4868-ed16-e0abc43534d3"
      },
      "execution_count": 4,
      "outputs": [
        {
          "output_type": "stream",
          "name": "stdout",
          "text": [
            "Input: [5, 2, 9, 1, 5, 6]\n",
            "Output: [1, 2, 5, 5, 6, 9]\n"
          ]
        }
      ]
    },
    {
      "cell_type": "markdown",
      "source": [
        "def sort_numbers(numbers):: This line defines the function named sort_numbers that takes one argument, numbers, which is expected to be a list of integers.\n",
        "\"\"\"Docstring\"\"\": This is a docstring that explains what the function does, its arguments, and what it returns.\n",
        "return sorted(numbers): This is the core of the function. It uses the built-in Python function sorted() which takes an iterable (like a list) as input and returns a new list containing all items from the iterable in ascending order.\n",
        "input_list = [5, 2, 9, 1, 5, 6]: This line creates a sample list of integers to test the function.\n",
        "output_list = sort_numbers(input_list): This line calls the sort_numbers function with the input_list and stores the returned sorted list in the output_list variable.\n",
        "print(f\"Input: {input_list}\"): This line prints the original input list.\n",
        "print(f\"Output: {output_list}\"): This line prints the sorted output list.\n",
        "In essence, this function provides a simple and efficient way to sort a list of numbers using Python's built-in sorting capabilities."
      ],
      "metadata": {
        "id": "Lvz9cvX2LoQN"
      }
    },
    {
      "cell_type": "markdown",
      "source": [
        "task3:Start with the vague prompt “Generate python code to calculate power bill” and\n",
        "improve it step-by-step"
      ],
      "metadata": {
        "id": "FufnTjwGMc_l"
      }
    },
    {
      "cell_type": "code",
      "source": [
        "def calculate_power_bill(units_consumed, rate_per_unit):\n",
        "  \"\"\"\n",
        "  Calculates the power bill based on units consumed and rate per unit.\n",
        "\n",
        "  Args:\n",
        "    units_consumed: The number of electricity units consumed (float or int).\n",
        "    rate_per_unit: The rate per unit of electricity (float).\n",
        "\n",
        "  Returns:\n",
        "    The calculated power bill (float), or an error message if inputs are invalid.\n",
        "  \"\"\"\n",
        "  if units_consumed < 0 or rate_per_unit < 0:\n",
        "    return \"Units consumed and rate per unit cannot be negative.\"\n",
        "  else:\n",
        "    return units_consumed * rate_per_unit\n",
        "\n",
        "# Example usage:\n",
        "units = 250\n",
        "rate = 7.5\n",
        "bill = calculate_power_bill(units, rate)\n",
        "\n",
        "if isinstance(bill, (int, float)):\n",
        "  print(f\"Units Consumed: {units}\")\n",
        "  print(f\"Rate per Unit: {rate}\")\n",
        "  print(f\"Total Power Bill: {bill}\")\n",
        "else:\n",
        "  print(bill)\n",
        "\n",
        "units_negative = -100\n",
        "rate_positive = 7.5\n",
        "bill_negative_units = calculate_power_bill(units_negative, rate_positive)\n",
        "print(f\"\\nExample with negative units: {bill_negative_units}\")\n",
        "\n",
        "units_positive = 200\n",
        "rate_negative = -5\n",
        "bill_negative_rate = calculate_power_bill(units_positive, rate_negative)\n",
        "print(f\"Example with negative rate: {bill_negative_rate}\")"
      ],
      "metadata": {
        "colab": {
          "base_uri": "https://localhost:8080/"
        },
        "id": "t7ZY8XuhMkuq",
        "outputId": "2e9579f6-7f0b-4e39-a3d9-733bc06a152a"
      },
      "execution_count": 5,
      "outputs": [
        {
          "output_type": "stream",
          "name": "stdout",
          "text": [
            "Units Consumed: 250\n",
            "Rate per Unit: 7.5\n",
            "Total Power Bill: 1875.0\n",
            "\n",
            "Example with negative units: Units consumed and rate per unit cannot be negative.\n",
            "Example with negative rate: Units consumed and rate per unit cannot be negative.\n"
          ]
        }
      ]
    },
    {
      "cell_type": "markdown",
      "source": [
        "This Python code defines a function calculate_power_bill that multiplies the units_consumed by the rate_per_unit to calculate the total bill. It also includes a check to return an error message if the inputs are negative. The example usage shows how to call the function and print the result, including examples with invalid inputs.\n",
        "\n"
      ],
      "metadata": {
        "id": "hwdWlzUJQXpy"
      }
    },
    {
      "cell_type": "markdown",
      "source": [
        "task4:Write structured comments to help AI generate two linked functions (e.g., login_user()\n",
        "and register_user())"
      ],
      "metadata": {
        "id": "7aupVxu2Qko_"
      }
    },
    {
      "cell_type": "code",
      "source": [
        "# This cell should contain two linked Python functions.\n",
        "# Function 1: register_user()\n",
        "# Purpose: To register a new user with a username and password.\n",
        "# Inputs: username (string), password (string)\n",
        "# Outputs: True if registration is successful, False otherwise (e.g., username already exists)\n",
        "# Linkage: Should interact with a data structure (e.g., dictionary or database) to store user credentials.\n",
        "\n",
        "# Function 2: login_user()\n",
        "# Purpose: To authenticate an existing user by checking their username and password.\n",
        "# Inputs: username (string), password (string)\n",
        "# Outputs: True if login is successful, False otherwise (e.g., incorrect username or password)\n",
        "# Linkage: Should interact with the same data structure used by register_user() to verify credentials."
      ],
      "metadata": {
        "id": "TPincwQvQ1-U"
      },
      "execution_count": 6,
      "outputs": []
    },
    {
      "cell_type": "markdown",
      "source": [
        "This cell contains comments that act as instructions for an AI to create two linked Python functions: register_user() to add new users and login_user() to verify existing users. The comments specify the purpose, inputs, outputs, and how the functions should share a data structure for user credentials.\n",
        "\n"
      ],
      "metadata": {
        "id": "2Rg-8u7SRL5N"
      }
    },
    {
      "cell_type": "markdown",
      "source": [
        "task 5:Analyzing Prompt Specificity: Improving Temperature Conversion Function with Clear Instructions"
      ],
      "metadata": {
        "id": "UNgDAAVHRXOH"
      }
    },
    {
      "cell_type": "code",
      "source": [
        "# Task: Create a temperature conversion function.\n",
        "# Initial Vague Prompt: \"Generate python code to convert temperature.\"\n",
        "\n",
        "# Let's improve the prompt by adding specificity.\n",
        "\n",
        "# Improved Prompt: \"Write a Python function called celsius_to_fahrenheit that takes a temperature in Celsius as input (a number) and returns the equivalent temperature in Fahrenheit.\"\n",
        "\n",
        "def celsius_to_fahrenheit(celsius):\n",
        "  \"\"\"\n",
        "  Converts a temperature from Celsius to Fahrenheit.\n",
        "\n",
        "  Args:\n",
        "    celsius: The temperature in degrees Celsius (float or int).\n",
        "\n",
        "  Returns:\n",
        "    The equivalent temperature in degrees Fahrenheit (float).\n",
        "  \"\"\"\n",
        "  # Formula: (Celsius * 9/5) + 32\n",
        "  fahrenheit = (celsius * 9/5) + 32\n",
        "  return fahrenheit\n",
        "\n",
        "# Example usage based on improved prompt:\n",
        "celsius_temp = 25\n",
        "fahrenheit_temp = celsius_to_fahrenheit(celsius_temp)\n",
        "print(f\"{celsius_temp}°C is equal to {fahrenheit_temp}°F\")\n",
        "\n",
        "\n",
        "# Further Improving Prompt Specificity:\n",
        "# \"Modify the celsius_to_fahrenheit function to handle non-numeric input by returning an informative message.\"\n",
        "# (We could add error handling here based on this more specific prompt)\n",
        "\n",
        "# Even More Specific Prompt: \"Add a new Python function called fahrenheit_to_celsius that converts Fahrenheit to Celsius.\"\n",
        "# (We could add another function here based on this prompt)\n",
        "\n",
        "# Example of a more comprehensive temperature conversion function with error handling and both conversions:\n",
        "\n",
        "# def comprehensive_temp_converter(temp, from_unit, to_unit):\n",
        "#   \"\"\"\n",
        "#   Converts temperature between Celsius and Fahrenheit with unit specification and error handling.\n",
        "\n",
        "#   Args:\n",
        "#     temp: The temperature value (float or int).\n",
        "#     from_unit: The unit of the input temperature ('C' for Celsius, 'F' for Fahrenheit).\n",
        "#     to_unit: The desired unit for the output temperature ('C' for Celsius, 'F' for Fahrenheit).\n",
        "\n",
        "#   Returns:\n",
        "#     The converted temperature (float) or an error message (string).\n",
        "#   \"\"\"\n",
        "#   if not isinstance(temp, (int, float)):\n",
        "#     return \"Invalid temperature input. Please provide a number.\"\n",
        "#   if from_unit not in ['C', 'F'] or to_unit not in ['C', 'F']:\n",
        "#     return \"Invalid unit specified. Use 'C' for Celsius or 'F' for Fahrenheit.\"\n",
        "\n",
        "#   if from_unit == 'C' and to_unit == 'F':\n",
        "#     return (temp * 9/5) + 32\n",
        "#   elif from_unit == 'F' and to_unit == 'C':\n",
        "#     return (temp - 32) * 5/9\n",
        "#   else:\n",
        "#     return \"Conversion between the same units is not necessary.\"\n",
        "\n",
        "# # Example usage of the comprehensive function:\n",
        "# print(comprehensive_temp_converter(0, 'C', 'F'))\n",
        "# print(comprehensive_temp_converter(32, 'F', 'C'))\n",
        "# print(comprehensive_temp_converter(\"abc\", 'C', 'F'))\n",
        "# print(comprehensive_temp_converter(25, 'C', 'K')) # Example of invalid unit"
      ],
      "metadata": {
        "colab": {
          "base_uri": "https://localhost:8080/"
        },
        "id": "AQY9bAFLRj4Y",
        "outputId": "1d420be5-01f6-4b03-fd6f-ee038a3a5a64"
      },
      "execution_count": 7,
      "outputs": [
        {
          "output_type": "stream",
          "name": "stdout",
          "text": [
            "25°C is equal to 77.0°F\n"
          ]
        }
      ]
    },
    {
      "cell_type": "markdown",
      "source": [
        "This code demonstrates improving prompt specificity for a temperature conversion function. It starts with a vague prompt, shows an improved prompt for a Celsius to Fahrenheit conversion function (which is then coded), and provides examples of even more specific prompts for error handling and adding Fahrenheit to Celsius conversion.\n",
        "\n"
      ],
      "metadata": {
        "id": "3fnRdLkPRqdN"
      }
    }
  ]
}