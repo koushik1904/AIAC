{
  "nbformat": 4,
  "nbformat_minor": 0,
  "metadata": {
    "colab": {
      "provenance": [],
      "authorship_tag": "ABX9TyPamGkS0G9/buMYejpQez7N",
      "include_colab_link": true
    },
    "kernelspec": {
      "name": "python3",
      "display_name": "Python 3"
    },
    "language_info": {
      "name": "python"
    }
  },
  "cells": [
    {
      "cell_type": "markdown",
      "metadata": {
        "id": "view-in-github",
        "colab_type": "text"
      },
      "source": [
        "<a href=\"https://colab.research.google.com/github/koushik1904/AIAC/blob/main/AiLab8_2.ipynb\" target=\"_parent\"><img src=\"https://colab.research.google.com/assets/colab-badge.svg\" alt=\"Open In Colab\"/></a>"
      ]
    },
    {
      "cell_type": "code",
      "execution_count": null,
      "metadata": {
        "id": "_8AqTAlPqqzM"
      },
      "outputs": [],
      "source": [
        "Task1:Task1:Use AI to generate test cases for a function is_prime(n) and then implement the\n",
        "function.\n",
        "Requirements:\n",
        "• Only integers > 1 can be prime.\n",
        "•Check edge cases: 0, 1, 2, negative numbers, and large primes.\n"
      ]
    },
    {
      "cell_type": "markdown",
      "source": [
        "Prompt:Give me a code that generate a python function whether it is a prime number or not give test cases"
      ],
      "metadata": {
        "id": "hQ3JfUqpqusU"
      }
    },
    {
      "cell_type": "code",
      "source": [
        "def is_prime(n):\n",
        "    \"\"\"\n",
        "    Checks if a number is prime.\n",
        "\n",
        "    Args:\n",
        "        n: An integer.\n",
        "\n",
        "    Returns:\n",
        "        True if n is prime, False otherwise.\n",
        "    \"\"\"\n",
        "    if not isinstance(n, int):\n",
        "        return False  # Only integers can be prime\n",
        "\n",
        "    if n <= 1:\n",
        "        return False  # Only integers > 1 can be prime\n",
        "    if n == 2:\n",
        "        return True  # 2 is the only even prime number\n",
        "    if n % 2 == 0:\n",
        "        return False # Other even numbers are not prime\n",
        "\n",
        "    # Check for odd divisors from 3 up to the square root of n\n",
        "    i = 3\n",
        "    while i * i <= n:\n",
        "        if n % i == 0:\n",
        "            return False\n",
        "        i += 2\n",
        "    return True\n",
        "\n",
        "# Test cases\n",
        "print(f\"Is 0 prime? {is_prime(0)}\")          # Expected: False (edge case)\n",
        "print(f\"Is 1 prime? {is_prime(1)}\")          # Expected: False (edge case)\n",
        "print(f\"Is 2 prime? {is_prime(2)}\")          # Expected: True (edge case)\n",
        "print(f\"Is -5 prime? {is_prime(-5)}\")        # Expected: False (negative number)\n",
        "print(f\"Is 7 prime? {is_prime(7)}\")          # Expected: True\n",
        "print(f\"Is 10 prime? {is_prime(10)}\")        # Expected: False\n",
        "print(f\"Is 17 prime? {is_prime(17)}\")        # Expected: True\n",
        "print(f\"Is 99 prime? {is_prime(99)}\")        # Expected: False\n",
        "print(f\"Is 101 prime? {is_prime(101)}\")      # Expected: True\n",
        "print(f\"Is 9973 prime? {is_prime(9973)}\")    # Expected: True (large prime)\n",
        "print(f\"Is 10000 prime? {is_prime(10000)}\")  # Expected: False\n",
        "print(f\"Is 12345 prime? {is_prime(12345)}\")  # Expected: False\n",
        "print(f\"Is 293 prime? {is_prime(293)}\")      # Expected: True\n",
        "print(f\"Is 1.5 prime? {is_prime(1.5)}\")      # Expected: False (not integer)"
      ],
      "metadata": {
        "colab": {
          "base_uri": "https://localhost:8080/"
        },
        "id": "fUE-sR96qwq6",
        "outputId": "bd682302-977e-4b53-9d72-1ebff7efd899"
      },
      "execution_count": null,
      "outputs": [
        {
          "output_type": "stream",
          "name": "stdout",
          "text": [
            "Is 0 prime? False\n",
            "Is 1 prime? False\n",
            "Is 2 prime? True\n",
            "Is -5 prime? False\n",
            "Is 7 prime? True\n",
            "Is 10 prime? False\n",
            "Is 17 prime? True\n",
            "Is 99 prime? False\n",
            "Is 101 prime? True\n",
            "Is 9973 prime? True\n",
            "Is 10000 prime? False\n",
            "Is 12345 prime? False\n",
            "Is 293 prime? True\n",
            "Is 1.5 prime? False\n"
          ]
        }
      ]
    },
    {
      "cell_type": "markdown",
      "source": [
        "Explaination:Input Validation: It first checks if the input n is an integer. If not, it immediately returns False.\n",
        "Base Cases: It handles the base cases for primality:\n",
        "Numbers less than or equal to 1 are not prime, so it returns False for n <= 1.\n",
        "The number 2 is the only even prime number, so it returns True for n == 2.\n",
        "Even Numbers: It checks if n is an even number greater than 2. If it is, it's not prime, and the function returns False.\n",
        "Odd Divisors Check: For odd numbers greater than 2, it iterates through odd numbers starting from 3 up to the square root of n.\n",
        "The loop condition i * i <= n is an optimization because if a number n has a divisor greater than its square root, it must also have a divisor smaller than its square root.\n",
        "If the function finds any odd number i that divides n evenly (n % i == 0), it means n is not prime, and the function returns False.\n",
        "The loop increments i by 2 in each step (i += 2) to only check odd divisors.\n",
        "Prime Determination: If the loop completes without finding any divisors, it means n is a prime number, and the function returns True.\n",
        "The code also includes several print statements that demonstrate how to use the is_prime function with various test cases, including edge cases (0, 1, 2, negative numbers) and both prime and non-prime numbers."
      ],
      "metadata": {
        "id": "twJZU7ahudJl"
      }
    },
    {
      "cell_type": "markdown",
      "source": [
        "Task2:Ask AI to generate test cases for celsius_to_fahrenheit(c) and fahrenheit_to_celsius(f).\n",
        "Requirements\n",
        "• Validate known pairs: 0°C = 32°F, 100°C = 212°F.\n",
        "• Include decimals and invalid inputs like strings or None"
      ],
      "metadata": {
        "id": "l67PNHp_r2vE"
      }
    },
    {
      "cell_type": "markdown",
      "source": [
        "Prompt:generate a python function that to convert celsius to fahrenheit and faherenheit to celsius and give test cases like decimals,string,none value"
      ],
      "metadata": {
        "id": "c40SjWrRr7yG"
      }
    },
    {
      "cell_type": "code",
      "source": [
        "def celsius_to_fahrenheit(celsius):\n",
        "    \"\"\"\n",
        "    Converts Celsius to Fahrenheit.\n",
        "\n",
        "    Args:\n",
        "        celsius: Temperature in Celsius (number).\n",
        "\n",
        "    Returns:\n",
        "        Temperature in Fahrenheit, or None for invalid input.\n",
        "    \"\"\"\n",
        "    if not isinstance(celsius, (int, float)):\n",
        "        return None  # Handle non-numeric input\n",
        "    return (celsius * 9/5) + 32\n",
        "\n",
        "def fahrenheit_to_celsius(fahrenheit):\n",
        "    \"\"\"\n",
        "    Converts Fahrenheit to Celsius.\n",
        "\n",
        "    Args:\n",
        "        fahrenheit: Temperature in Fahrenheit (number).\n",
        "\n",
        "    Returns:\n",
        "        Temperature in Celsius, or None for invalid input.\n",
        "    \"\"\"\n",
        "    if not isinstance(fahrenheit, (int, float)):\n",
        "        return None  # Handle non-numeric input\n",
        "    return (fahrenheit - 32) * 5/9\n",
        "\n",
        "# Test cases\n",
        "print(f\"0°C to Fahrenheit: {celsius_to_fahrenheit(0)}\")          # Expected: 32.0\n",
        "print(f\"100°C to Fahrenheit: {celsius_to_fahrenheit(100)}\")        # Expected: 212.0\n",
        "print(f\"25.5°C to Fahrenheit: {celsius_to_fahrenheit(25.5)}\")      # Expected: 77.9\n",
        "print(f\"-10°C to Fahrenheit: {celsius_to_fahrenheit(-10)}\")       # Expected: 14.0\n",
        "print(f\"'abc'°C to Fahrenheit: {celsius_to_fahrenheit('abc')}\")   # Expected: None (invalid input)\n",
        "print(f\"None°C to Fahrenheit: {celsius_to_fahrenheit(None)}\")     # Expected: None (invalid input)\n",
        "\n",
        "print(\"-\" * 20) # Separator\n",
        "\n",
        "print(f\"32°F to Celsius: {fahrenheit_to_celsius(32)}\")          # Expected: 0.0\n",
        "print(f\"212°F to Celsius: {fahrenheit_to_celsius(212)}\")        # Expected: 100.0\n",
        "print(f\"77.9°F to Celsius: {fahrenheit_to_celsius(77.9)}\")      # Expected: 25.5\n",
        "print(f\"14°F to Celsius: {fahrenheit_to_celsius(14)}\")         # Expected: -10.0\n",
        "print(f\"'xyz'°F to Celsius: {fahrenheit_to_celsius('xyz')}\")   # Expected: None (invalid input)\n",
        "print(f\"None°F to Celsius: {fahrenheit_to_celsius(None)}\")     # Expected: None (invalid input)"
      ],
      "metadata": {
        "colab": {
          "base_uri": "https://localhost:8080/"
        },
        "id": "hMmiMk7dseq-",
        "outputId": "0d449c7a-dfde-42ac-8667-90bdfe1bf350"
      },
      "execution_count": null,
      "outputs": [
        {
          "output_type": "stream",
          "name": "stdout",
          "text": [
            "0°C to Fahrenheit: 32.0\n",
            "100°C to Fahrenheit: 212.0\n",
            "25.5°C to Fahrenheit: 77.9\n",
            "-10°C to Fahrenheit: 14.0\n",
            "'abc'°C to Fahrenheit: None\n",
            "None°C to Fahrenheit: None\n",
            "--------------------\n",
            "32°F to Celsius: 0.0\n",
            "212°F to Celsius: 100.0\n",
            "77.9°F to Celsius: 25.500000000000004\n",
            "14°F to Celsius: -10.0\n",
            "'xyz'°F to Celsius: None\n",
            "None°F to Celsius: None\n"
          ]
        }
      ]
    },
    {
      "cell_type": "markdown",
      "source": [
        "Explaination:celsius_to_fahrenheit(celsius) function:\n",
        "This function takes a temperature in Celsius as input.\n",
        "It first checks if the input celsius is a number (integer or float). If not, it returns None to indicate invalid input.\n",
        "If the input is a number, it applies the conversion formula: (Celsius * 9/5) + 32 and returns the result in Fahrenheit.\n",
        "fahrenheit_to_celsius(fahrenheit) function:\n",
        "This function takes a temperature in Fahrenheit as input.\n",
        "Similar to the first function, it checks if the input fahrenheit is a number. If not, it returns None.\n",
        "If the input is a number, it applies the conversion formula: (Fahrenheit - 32) * 5/9 and returns the result in Celsius.\n",
        "The code then includes several print statements as test cases for both functions. These test cases cover:\n",
        "\n",
        "Known conversion pairs (0°C = 32°F, 100°C = 212°F).\n",
        "Decimal inputs.\n",
        "Negative inputs.\n",
        "Invalid inputs like strings and None.\n",
        "The output shows the result of each test case, demonstrating how the functions handle different types of input."
      ],
      "metadata": {
        "id": "-IGvR7MDumE8"
      }
    },
    {
      "cell_type": "markdown",
      "source": [
        "Task3:Use AI to write test cases for a function count_words(text) that returns the number of\n",
        "words in a sentence.\n",
        "Requirement\n",
        "Handle normal text, multiple spaces, punctuation, and empty strings"
      ],
      "metadata": {
        "id": "5Ns3urdXth94"
      }
    },
    {
      "cell_type": "markdown",
      "source": [
        "Prompt:generate test cases for a function count_words(text) that returns the number of words in a sentence.it should handle normal texts ,multiple spaces and empty strings"
      ],
      "metadata": {
        "id": "5brWLEJztnGe"
      }
    },
    {
      "cell_type": "code",
      "source": [
        "def count_words(text):\n",
        "    \"\"\"\n",
        "    Counts the number of words in a sentence.\n",
        "\n",
        "    Args:\n",
        "        text: The input string.\n",
        "\n",
        "    Returns:\n",
        "        The number of words in the string.\n",
        "    \"\"\"\n",
        "    if not isinstance(text, str):\n",
        "        return 0 # Or handle as an error, depending on requirements\n",
        "    words = text.split()\n",
        "    return len(words)\n",
        "\n",
        "# Test cases\n",
        "print(f\"'{''}' has {count_words('')} words\") # Expected: 0 (empty string)\n",
        "print(f\"'{'  '}' has {count_words('  ')} words\") # Expected: 0 (multiple spaces)\n",
        "print(f\"'{'Hello world'}' has {count_words('Hello world')} words\") # Expected: 2 (normal text)\n",
        "print(f\"'{'This has multiple   spaces'}' has {count_words('This has multiple   spaces')} words\") # Expected: 4 (multiple spaces)\n",
        "print(f\"'{'Hello, world!'}' has {count_words('Hello, world!')} words\") # Expected: 2 (punctuation)\n",
        "print(f\"'{'One.'}' has {count_words('One.')} words\") # Expected: 1 (punctuation at end)\n",
        "print(f\"'{'  Leading and trailing spaces '}' has {count_words('  Leading and trailing spaces ')} words\") # Expected: 4 (leading/trailing spaces)\n",
        "print(f\"'{'Word1,Word2,Word3'}' has {count_words('Word1,Word2,Word3')} words\") # Expected: 1 (comma without space)\n",
        "print(f\"'{'  Hello   world   again  '}' has {count_words('  Hello   world   again  ')} words\") # Expected: 3 (mixed spaces)\n",
        "print(f\"'{None}' has {count_words(None)} words\") # Expected: 0 (None input)"
      ],
      "metadata": {
        "colab": {
          "base_uri": "https://localhost:8080/"
        },
        "id": "JzUL8Kndt8Y4",
        "outputId": "0e3bf6ce-e21e-458a-fb16-cb4f4e14e94c"
      },
      "execution_count": null,
      "outputs": [
        {
          "output_type": "stream",
          "name": "stdout",
          "text": [
            "'' has 0 words\n",
            "'  ' has 0 words\n",
            "'Hello world' has 2 words\n",
            "'This has multiple   spaces' has 4 words\n",
            "'Hello, world!' has 2 words\n",
            "'One.' has 1 words\n",
            "'  Leading and trailing spaces ' has 4 words\n",
            "'Word1,Word2,Word3' has 1 words\n",
            "'  Hello   world   again  ' has 3 words\n",
            "'None' has 0 words\n"
          ]
        }
      ]
    },
    {
      "cell_type": "markdown",
      "source": [
        "Explaination:nput Validation: It first checks if the input text is a string using isinstance(text, str). If it's not a string (e.g., None), it returns 0. You could modify this to handle errors differently if needed.\n",
        "Splitting the Text: If the input is a string, it uses the text.split() method. This method splits the string into a list of words using whitespace (spaces, tabs, newlines) as delimiters. Importantly, split() handles multiple spaces between words correctly and also removes leading and trailing whitespace.\n",
        "Counting the Words: Finally, it returns the length of the resulting list of words using len(words).\n",
        "The code then provides several print statements as test cases to demonstrate the function's behavior with different inputs:\n",
        "\n",
        "An empty string ('') which should result in 0 words.\n",
        "A string with only spaces (' ') which also results in 0 words.\n",
        "Normal text ('Hello world').\n",
        "Text with multiple spaces between words ('This has multiple spaces').\n",
        "Text with punctuation ('Hello, world!' and 'One.'). Note that split() treats punctuation attached to words as part of the word.\n",
        "Text with leading and trailing spaces (' Leading and trailing spaces ').\n",
        "Text with commas but no spaces ('Word1,Word2,Word3'). split() treats this as a single word.\n",
        "Text with a mix of spaces (' Hello world again ').\n",
        "A None input to show how the validation is handled.\n",
        "These test cases show how the function handles various common scenarios for counting words in a sentence."
      ],
      "metadata": {
        "id": "M8TeNg97usUm"
      }
    },
    {
      "cell_type": "markdown",
      "source": [
        "Task4:Generate test cases for a BankAccount class with:\n",
        "Methods:\n",
        "deposit(amount)\n",
        "withdraw(amount)\n",
        "check_balance()\n",
        "Requirements:\n",
        "• Negative deposits/withdrawals should raise an error.\n",
        "• Cannot withdraw more than balance."
      ],
      "metadata": {
        "id": "DyBeZBm4uzOs"
      }
    },
    {
      "cell_type": "markdown",
      "source": [
        "Prompt:generate test cases for a BankAccount class with methods deposit(amount) withdraw(amount) check_balance() ,it should raise an error if there are negative deposits and widrawals ,and it cannot withdraw more than balance"
      ],
      "metadata": {
        "id": "tu_lm4j6vIge"
      }
    },
    {
      "cell_type": "code",
      "source": [
        "class BankAccount:\n",
        "    \"\"\"\n",
        "    A simple bank account class.\n",
        "    \"\"\"\n",
        "    def __init__(self, initial_balance=0):\n",
        "        if initial_balance < 0:\n",
        "            raise ValueError(\"Initial balance cannot be negative\")\n",
        "        self._balance = initial_balance\n",
        "\n",
        "    def deposit(self, amount):\n",
        "        \"\"\"\n",
        "        Deposits money into the account.\n",
        "\n",
        "        Args:\n",
        "            amount: The amount to deposit.\n",
        "\n",
        "        Raises:\n",
        "            ValueError: If the deposit amount is negative.\n",
        "        \"\"\"\n",
        "        if amount < 0:\n",
        "            raise ValueError(\"Deposit amount cannot be negative\")\n",
        "        self._balance += amount\n",
        "        print(f\"Deposited {amount}. New balance: {self._balance}\")\n",
        "\n",
        "    def withdraw(self, amount):\n",
        "        \"\"\"\n",
        "        Withdraws money from the account.\n",
        "\n",
        "        Args:\n",
        "            amount: The amount to withdraw.\n",
        "\n",
        "        Raises:\n",
        "            ValueError: If the withdrawal amount is negative or exceeds the balance.\n",
        "        \"\"\"\n",
        "        if amount < 0:\n",
        "            raise ValueError(\"Withdrawal amount cannot be negative\")\n",
        "        if amount > self._balance:\n",
        "            raise ValueError(\"Insufficient funds\")\n",
        "        self._balance -= amount\n",
        "        print(f\"Withdrew {amount}. New balance: {self._balance}\")\n",
        "\n",
        "    def check_balance(self):\n",
        "        \"\"\"\n",
        "        Returns the current account balance.\n",
        "        \"\"\"\n",
        "        return self._balance\n",
        "\n",
        "# Test cases\n",
        "\n",
        "# Test case 1: Initial balance\n",
        "print(\"--- Test Case 1: Initial Balance ---\")\n",
        "account1 = BankAccount(100)\n",
        "print(f\"Initial balance: {account1.check_balance()}\") # Expected: 100\n",
        "print(\"-\" * 20)\n",
        "\n",
        "# Test case 2: Valid deposit\n",
        "print(\"--- Test Case 2: Valid Deposit ---\")\n",
        "account2 = BankAccount()\n",
        "account2.deposit(50) # Expected: Deposited 50. New balance: 50\n",
        "print(f\"Current balance: {account2.check_balance()}\") # Expected: 50\n",
        "print(\"-\" * 20)\n",
        "\n",
        "# Test case 3: Valid withdrawal\n",
        "print(\"--- Test Case 3: Valid Withdrawal ---\")\n",
        "account3 = BankAccount(200)\n",
        "account3.withdraw(75) # Expected: Withdrew 75. New balance: 125\n",
        "print(f\"Current balance: {account3.check_balance()}\") # Expected: 125\n",
        "print(\"-\" * 20)\n",
        "\n",
        "# Test case 4: Deposit negative amount (should raise ValueError)\n",
        "print(\"--- Test Case 4: Deposit Negative Amount ---\")\n",
        "account4 = BankAccount(50)\n",
        "try:\n",
        "    account4.deposit(-20)\n",
        "except ValueError as e:\n",
        "    print(f\"Caught expected error: {e}\") # Expected: Caught expected error: Deposit amount cannot be negative\n",
        "print(f\"Current balance: {account4.check_balance()}\") # Expected: 50 (balance should not change)\n",
        "print(\"-\" * 20)\n",
        "\n",
        "# Test case 5: Withdraw negative amount (should raise ValueError)\n",
        "print(\"--- Test Case 5: Withdraw Negative Amount ---\")\n",
        "account5 = BankAccount(100)\n",
        "try:\n",
        "    account5.withdraw(-30)\n",
        "except ValueError as e:\n",
        "    print(f\"Caught expected error: {e}\") # Expected: Caught expected error: Withdrawal amount cannot be negative\n",
        "print(f\"Current balance: {account5.check_balance()}\") # Expected: 100 (balance should not change)\n",
        "print(\"-\" * 20)\n",
        "\n",
        "# Test case 6: Withdraw more than balance (should raise ValueError)\n",
        "print(\"--- Test Case 6: Withdraw More Than Balance ---\")\n",
        "account6 = BankAccount(50)\n",
        "try:\n",
        "    account6.withdraw(100)\n",
        "except ValueError as e:\n",
        "    print(f\"Caught expected error: {e}\") # Expected: Caught expected error: Insufficient funds\n",
        "print(f\"Current balance: {account6.check_balance()}\") # Expected: 50 (balance should not change)\n",
        "print(\"-\" * 20)\n",
        "\n",
        "# Test case 7: Initial balance negative (should raise ValueError)\n",
        "print(\"--- Test Case 7: Initial Balance Negative ---\")\n",
        "try:\n",
        "    account7 = BankAccount(-50)\n",
        "except ValueError as e:\n",
        "    print(f\"Caught expected error: {e}\") # Expected: Caught expected error: Initial balance cannot be negative\n",
        "print(\"-\" * 20)"
      ],
      "metadata": {
        "colab": {
          "base_uri": "https://localhost:8080/"
        },
        "id": "cKjjUazev3I-",
        "outputId": "fb2cc29e-66c8-431d-c00d-f3238327ddcd"
      },
      "execution_count": null,
      "outputs": [
        {
          "output_type": "stream",
          "name": "stdout",
          "text": [
            "--- Test Case 1: Initial Balance ---\n",
            "Initial balance: 100\n",
            "--------------------\n",
            "--- Test Case 2: Valid Deposit ---\n",
            "Deposited 50. New balance: 50\n",
            "Current balance: 50\n",
            "--------------------\n",
            "--- Test Case 3: Valid Withdrawal ---\n",
            "Withdrew 75. New balance: 125\n",
            "Current balance: 125\n",
            "--------------------\n",
            "--- Test Case 4: Deposit Negative Amount ---\n",
            "Caught expected error: Deposit amount cannot be negative\n",
            "Current balance: 50\n",
            "--------------------\n",
            "--- Test Case 5: Withdraw Negative Amount ---\n",
            "Caught expected error: Withdrawal amount cannot be negative\n",
            "Current balance: 100\n",
            "--------------------\n",
            "--- Test Case 6: Withdraw More Than Balance ---\n",
            "Caught expected error: Insufficient funds\n",
            "Current balance: 50\n",
            "--------------------\n",
            "--- Test Case 7: Initial Balance Negative ---\n",
            "Caught expected error: Initial balance cannot be negative\n",
            "--------------------\n"
          ]
        }
      ]
    },
    {
      "cell_type": "markdown",
      "source": [
        "Task5:Generate test cases for is_number_palindrome(num), which checks if an integer reads\n",
        "the same backward.\n",
        "Examples:\n",
        "121 → True\n",
        "123 → False\n",
        "0, negative numbers → handled gracefully"
      ],
      "metadata": {
        "id": "ebc4Uh9Pwxgc"
      }
    },
    {
      "cell_type": "markdown",
      "source": [
        "Prompt:generate test cases for function is_number_palindrome(num),which checks if an integer reads same backward ,example:121=True,123=False,0,negative numbers should be handled gracefully"
      ],
      "metadata": {
        "id": "O4tpyHsqxACk"
      }
    },
    {
      "cell_type": "code",
      "source": [
        "def is_number_palindrome(num):\n",
        "    \"\"\"\n",
        "    Checks if an integer is a palindrome.\n",
        "\n",
        "    Args:\n",
        "        num: An integer.\n",
        "\n",
        "    Returns:\n",
        "        True if the number is a palindrome, False otherwise.\n",
        "    \"\"\"\n",
        "    # Handle negative numbers and single-digit numbers\n",
        "    if num < 0:\n",
        "        return False  # Negative numbers are not palindromes\n",
        "    if 0 <= num < 10:\n",
        "        return True   # Single-digit numbers are palindromes\n",
        "\n",
        "    # Convert the number to a string to easily reverse it\n",
        "    num_str = str(num)\n",
        "\n",
        "    # Check if the string is equal to its reverse\n",
        "    return num_str == num_str[::-1]\n",
        "\n",
        "# Test cases\n",
        "print(f\"Is 121 a palindrome? {is_number_palindrome(121)}\")    # Expected: True\n",
        "print(f\"Is 123 a palindrome? {is_number_palindrome(123)}\")    # Expected: False\n",
        "print(f\"Is 0 a palindrome? {is_number_palindrome(0)}\")      # Expected: True (handled gracefully)\n",
        "print(f\"Is -121 a palindrome? {is_number_palindrome(-121)}\")  # Expected: False (handled gracefully)\n",
        "print(f\"Is 10 a palindrome? {is_number_palindrome(10)}\")      # Expected: False\n",
        "print(f\"Is 3 a palindrome? {is_number_palindrome(3)}\")       # Expected: True\n",
        "print(f\"Is 1221 a palindrome? {is_number_palindrome(1221)}\")  # Expected: True\n",
        "print(f\"Is 123454321 a palindrome? {is_number_palindrome(123454321)}\") # Expected: True\n",
        "print(f\"Is 123456 a palindrome? {is_number_palindrome(123456)}\") # Expected: False"
      ],
      "metadata": {
        "colab": {
          "base_uri": "https://localhost:8080/"
        },
        "id": "Qxr3v6-rxyB9",
        "outputId": "8eb8ab5a-a83d-4ac5-f7dd-d4832c202d7b"
      },
      "execution_count": null,
      "outputs": [
        {
          "output_type": "stream",
          "name": "stdout",
          "text": [
            "Is 121 a palindrome? True\n",
            "Is 123 a palindrome? False\n",
            "Is 0 a palindrome? True\n",
            "Is -121 a palindrome? False\n",
            "Is 10 a palindrome? False\n",
            "Is 3 a palindrome? True\n",
            "Is 1221 a palindrome? True\n",
            "Is 123454321 a palindrome? True\n",
            "Is 123456 a palindrome? False\n"
          ]
        }
      ]
    },
    {
      "cell_type": "markdown",
      "source": [
        "Explaination:Handle negative numbers and single-digit numbers:\n",
        "If the input num is less than 0, it immediately returns False because negative numbers are not considered palindromes in this implementation.\n",
        "If num is between 0 and 9 (inclusive), it returns True because single-digit numbers are considered palindromes.\n",
        "Convert to String: For numbers with more than one digit, it converts the integer num to a string using str(num). This makes it easy to reverse the digits.\n",
        "Check for Palindrome: It then compares the original string representation of the number (num_str) with its reversed version (num_str[::-1]).\n",
        "The slicing [::-1] creates a reversed copy of the string.\n",
        "If the original string is equal to the reversed string, the number is a palindrome, and the function returns True. Otherwise, it returns False.\n",
        "The code also includes several print statements as test cases to demonstrate the function's behavior with various inputs, including:\n",
        "\n",
        "A known palindrome (121).\n",
        "A non-palindrome (123).\n",
        "The number 0 (handled gracefully as a palindrome).\n",
        "A negative number (-121, handled gracefully as not a palindrome).\n",
        "Other examples of palindromes and non-palindromes."
      ],
      "metadata": {
        "id": "3UpSAHUIx-nc"
      }
    }
  ]
}