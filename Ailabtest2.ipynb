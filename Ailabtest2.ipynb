{
  "nbformat": 4,
  "nbformat_minor": 0,
  "metadata": {
    "colab": {
      "provenance": [],
      "authorship_tag": "ABX9TyM6jM+eTVUEY8HyojHttjCv",
      "include_colab_link": true
    },
    "kernelspec": {
      "name": "python3",
      "display_name": "Python 3"
    },
    "language_info": {
      "name": "python"
    }
  },
  "cells": [
    {
      "cell_type": "markdown",
      "metadata": {
        "id": "view-in-github",
        "colab_type": "text"
      },
      "source": [
        "<a href=\"https://colab.research.google.com/github/koushik1904/AIAC/blob/main/Ailabtest2.ipynb\" target=\"_parent\"><img src=\"https://colab.research.google.com/assets/colab-badge.svg\" alt=\"Open In Colab\"/></a>"
      ]
    },
    {
      "cell_type": "markdown",
      "source": [
        "prompt:Write a Python function that takes INI-formatted text from user input, parses it into a nested dictionary where section headers like [db] become keys, and inner key-value pairs like host=localhost are nested; the function should trim whitespace, cast obvious integers (port=5432) to int, and preserve non-numeric strings."
      ],
      "metadata": {
        "id": "VxvHiS_ftle4"
      }
    },
    {
      "cell_type": "code",
      "source": [
        "import io\n",
        "import configparser\n",
        "\n",
        "def parse_ini_input():\n",
        "  \"\"\"\n",
        "  Asks the user for INI text input and parses it into a nested dictionary.\n",
        "\n",
        "  Handles sections, key-value pairs with spaces, trims whitespace, and\n",
        "  converts numeric values to integers.\n",
        "\n",
        "  Returns:\n",
        "      dict: A nested dictionary representing the parsed INI data.\n",
        "  \"\"\"\n",
        "  print(\"Please paste your INI text below. Press Ctrl+D (or Cmd+D on macOS) on an empty line when done:\")\n",
        "  ini_text = io.StringIO()\n",
        "  while True:\n",
        "      try:\n",
        "          line = input()\n",
        "          ini_text.write(line + '\\n')\n",
        "      except EOFError:\n",
        "          break\n",
        "\n",
        "  ini_text.seek(0)\n",
        "\n",
        "  config = configparser.ConfigParser()\n",
        "  # Allow spaces around the equals sign\n",
        "  config.optionxform = str # Preserve case of keys\n",
        "  config.read_file(ini_text)\n",
        "\n",
        "  parsed_data = {}\n",
        "  for section in config.sections():\n",
        "      parsed_data[section] = {}\n",
        "      for key, value in config.items(section):\n",
        "          # Trim whitespace\n",
        "          key = key.strip()\n",
        "          value = value.strip()\n",
        "\n",
        "          # Convert numeric values to integers\n",
        "          try:\n",
        "              parsed_data[section][key] = int(value)\n",
        "          except ValueError:\n",
        "              parsed_data[section][key] = value\n",
        "\n",
        "  return parsed_data\n",
        "\n",
        "# Example usage:\n",
        "ini_data = parse_ini_input()\n",
        "print(ini_data)"
      ],
      "metadata": {
        "colab": {
          "base_uri": "https://localhost:8080/"
        },
        "id": "ieOfzC8Rtvll",
        "outputId": "c4bae6b7-b847-4ae2-fb1d-6ce889a642bc"
      },
      "execution_count": 9,
      "outputs": [
        {
          "output_type": "stream",
          "name": "stdout",
          "text": [
            "Please paste your INI text below. Press Ctrl+D (or Cmd+D on macOS) on an empty line when done:\n",
            "[db] host = localhost port = 5432  [auth] token = abc123 expires_in = 3600\n",
            "\u0004\n",
            "{'db] host = localhost port = 5432  [auth': {}}\n"
          ]
        }
      ]
    },
    {
      "cell_type": "markdown",
      "source": [
        "prompt:Write a Python function that takes a list of dictionaries with 'opened' and 'closed' naive ISO datetime strings, calculates the duration in minutes between them for each ticket, example input is [{'ticket': 'T1', 'opened': '2025-01-01T10:00', 'closed': '2025-01-01T12:15'}, {'ticket': 'T2', 'opened': '2025-\n",
        "01-01T09:30', 'closed': '2025-01-01T10:00'}] and output is 82.Ask user to give input\n"
      ],
      "metadata": {
        "id": "kyCO_SkEzBSt"
      }
    },
    {
      "cell_type": "code",
      "source": [
        "  from datetime import datetime\n",
        "import json\n",
        "\n",
        "def average_duration_minutes_from_input():\n",
        "  \"\"\"\n",
        "  Asks the user for a list of dictionaries with 'opened' and 'closed' ISO datetime strings,\n",
        "  parses them as naive datetimes, calculates the duration in minutes for each item,\n",
        "  and returns the integer average of these durations.\n",
        "\n",
        "  Returns:\n",
        "    int: The integer average of the durations in minutes, or 0 if no valid\n",
        "         durations are found.\n",
        "  \"\"\"\n",
        "  print(\"Please paste your list of dictionaries (in JSON format) below.\")\n",
        "  print(\"Example: [{'ticket': 'T1', 'opened': '2025-01-01T10:00', 'closed': '2025-01-01T12:15'}, {'ticket': 'T2', 'opened': '2025-01-01T09:30', 'closed': '2025-01-01T10:00'}]\")\n",
        "  print(\"Press Ctrl+D (or Cmd+D on macOS) on an empty line when done:\")\n",
        "\n",
        "  input_lines = []\n",
        "  while True:\n",
        "      try:\n",
        "          line = input()\n",
        "          input_lines.append(line)\n",
        "      except EOFError:\n",
        "          break\n",
        "\n",
        "  input_text = \"\\n\".join(input_lines)\n",
        "\n",
        "  try:\n",
        "    data = json.loads(input_text)\n",
        "  except json.JSONDecodeError:\n",
        "    print(\"Invalid JSON input. Please provide a valid list of dictionaries in JSON format.\")\n",
        "    return 0\n",
        "\n",
        "  total_duration = 0\n",
        "  valid_durations_count = 0\n",
        "\n",
        "  for item in data:\n",
        "    try:\n",
        "      opened_time = datetime.fromisoformat(item['opened'])\n",
        "      closed_time = datetime.fromisoformat(item['closed'])\n",
        "      duration = closed_time - opened_time\n",
        "      total_duration += duration.total_seconds() / 60\n",
        "      valid_durations_count += 1\n",
        "    except (ValueError, KeyError):\n",
        "      # Handle cases where datetime strings are invalid or keys are missing\n",
        "      print(f\"Skipping invalid data item: {item}\")\n",
        "      pass\n",
        "\n",
        "  if valid_durations_count > 0:\n",
        "    return int(total_duration / valid_durations_count)\n",
        "  else:\n",
        "    return 0\n",
        "\n",
        "# Example usage:\n",
        "average = average_duration_minutes_from_input()\n",
        "print(average) # Expected output for example input: 82"
      ],
      "metadata": {
        "colab": {
          "base_uri": "https://localhost:8080/"
        },
        "id": "dAfElt4b1MIM",
        "outputId": "672af97b-1b00-455c-9c59-063e9200cda3"
      },
      "execution_count": 15,
      "outputs": [
        {
          "output_type": "stream",
          "name": "stdout",
          "text": [
            "Please paste your list of dictionaries (in JSON format) below.\n",
            "Example: [{'ticket': 'T1', 'opened': '2025-01-01T10:00', 'closed': '2025-01-01T12:15'}, {'ticket': 'T2', 'opened': '2025-01-01T09:30', 'closed': '2025-01-01T10:00'}]\n",
            "Press Ctrl+D (or Cmd+D on macOS) on an empty line when done:\n",
            "[   {\"ticket\": \"T1\", \"opened\": \"2025-01-01T10:00\", \"closed\": \"2025-01-01T12:15\"},   {\"ticket\": \"T2\", \"opened\": \"2025-01-01T09:30\", \"closed\": \"2025-01-01T10:00\"} ]\n",
            "\u0004\n",
            "82\n"
          ]
        }
      ]
    }
  ]
}