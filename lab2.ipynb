{
  "nbformat": 4,
  "nbformat_minor": 0,
  "metadata": {
    "colab": {
      "provenance": [],
      "authorship_tag": "ABX9TyNv4ByLKtHDjZmgSVvSz9Fj",
      "include_colab_link": true
    },
    "kernelspec": {
      "name": "python3",
      "display_name": "Python 3"
    },
    "language_info": {
      "name": "python"
    }
  },
  "cells": [
    {
      "cell_type": "markdown",
      "metadata": {
        "id": "view-in-github",
        "colab_type": "text"
      },
      "source": [
        "<a href=\"https://colab.research.google.com/github/koushik1904/AIAC/blob/main/lab2.ipynb\" target=\"_parent\"><img src=\"https://colab.research.google.com/assets/colab-badge.svg\" alt=\"Open In Colab\"/></a>"
      ]
    },
    {
      "cell_type": "code",
      "execution_count": 1,
      "metadata": {
        "id": "RZNcFLR-r2lb"
      },
      "outputs": [],
      "source": []
    },
    {
      "cell_type": "markdown",
      "source": [
        "task0:build a python function to check the given number is prime or not\n",
        "prompt:write a python function to check the given number is prime or not"
      ],
      "metadata": {
        "id": "qfXEJoVIsQ7k"
      }
    },
    {
      "cell_type": "code",
      "source": [
        "def is_prime(number):\n",
        "    \"\"\"\n",
        "    Checks if a given number is prime.\n",
        "\n",
        "    Args:\n",
        "        number: The number to check.\n",
        "\n",
        "    Returns:\n",
        "        True if the number is prime, False otherwise.\n",
        "    \"\"\"\n",
        "    if number <= 1:\n",
        "        return False\n",
        "    for i in range(2, int(number**0.5) + 1):\n",
        "        if number % i == 0:\n",
        "            return False\n",
        "    return True\n",
        "\n",
        "n=int(input('enter a number:'))\n",
        "print(is_prime(n))\n"
      ],
      "metadata": {
        "colab": {
          "base_uri": "https://localhost:8080/"
        },
        "id": "SxhwZ5yhsnB9",
        "outputId": "049419dc-813a-493b-d1ee-ebf7763c897d"
      },
      "execution_count": 3,
      "outputs": [
        {
          "output_type": "stream",
          "name": "stdout",
          "text": [
            "enter a number:4\n",
            "False\n"
          ]
        }
      ]
    },
    {
      "cell_type": "markdown",
      "source": [
        "def is_prime(number):: This line defines the function is_prime that takes one argument, number.\n",
        "if number <= 1:: This checks if the input number is less than or equal to 1. Prime numbers are greater than 1, so if it's 1 or less, the function immediately returns False.\n",
        "`for i in range(2, int(number0.5) + 1):`**: This loop iterates through numbers starting from 2 up to the square root of the input number (inclusive). We only need to check for divisors up to the square root because if a number has a divisor larger than its square root, it must also have a divisor smaller than its square root.\n",
        "if number % i == 0:: Inside the loop, this checks if the input number is divisible by the current value of i (the potential divisor). If it is, the number is not prime, and the function returns False.\n",
        "return True: If the loop finishes without finding any divisors, it means the number is prime, and the function returns True.\n",
        "n=int(input('enter a number:')): This line prompts the user to enter a number and converts the input to an integer, storing it in the variable n.\n",
        "print(is_prime(n)): This line calls the is_prime function with the user's input number n and prints the returned boolean value (True if prime, False otherwise)."
      ],
      "metadata": {
        "id": "CRcJZKQGvDD7"
      }
    },
    {
      "cell_type": "markdown",
      "source": [
        "task1:●\tUse Gemini in Colab to write a function that filters out all negative numbers from a given list.\n",
        "prompt:write a python function that filters the negative numbers in the given list"
      ],
      "metadata": {
        "id": "Ewu_3-Qo363c"
      }
    },
    {
      "cell_type": "code",
      "source": [
        "def filter_negative_numbers(numbers):\n",
        "  \"\"\"\n",
        "  Filters out all negative numbers from a given list.\n",
        "\n",
        "  Args:\n",
        "    numbers: A list of numbers.\n",
        "\n",
        "  Returns:\n",
        "    A new list containing only the non-negative numbers from the input list.\n",
        "  \"\"\"\n",
        "  return [number for number in numbers if number >= 0]\n",
        "\n",
        "# Example usage:\n",
        "my_list = [1, -2, 3, -4, 5, 0, -6]\n",
        "filtered_list = filter_negative_numbers(my_list)\n",
        "print(filtered_list)"
      ],
      "metadata": {
        "colab": {
          "base_uri": "https://localhost:8080/"
        },
        "id": "3Hu8lBdt45FI",
        "outputId": "0010f7a7-6889-479e-e84d-e9da18a22aa4"
      },
      "execution_count": 4,
      "outputs": [
        {
          "output_type": "stream",
          "name": "stdout",
          "text": [
            "[1, 3, 5, 0]\n"
          ]
        }
      ]
    },
    {
      "cell_type": "markdown",
      "source": [
        "This code defines a function called filter_negative_numbers that takes a list of numbers as input and returns a new list containing only the non-negative numbers from the original list.\n",
        "\n",
        "Here's a breakdown:\n",
        "\n",
        "def filter_negative_numbers(numbers):: This line defines the function filter_negative_numbers that takes one argument, numbers, which is expected to be a list.\n",
        "\"\"\" ... \"\"\": This is a docstring, which explains what the function does, its arguments (Args), and what it returns (Returns).\n",
        "return [number for number in numbers if number >= 0]: This is a list comprehension. It's a concise way to create a new list.\n",
        "for number in numbers: It iterates through each element in the input numbers list.\n",
        "if number >= 0: For each number, it checks if the number is greater than or equal to 0 (i.e., non-negative).\n",
        "[number ... ]: If the condition (if number >= 0) is true, the current number is included in the new list that is being created.\n",
        "return ...: The function returns this newly created list containing only the non-negative numbers.\n",
        "my_list = [1, -2, 3, -4, 5, 0, -6]: This line creates an example list named my_list containing both positive, negative, and zero values.\n",
        "filtered_list = filter_negative_numbers(my_list): This line calls the filter_negative_numbers function with my_list as input and stores the returned filtered list in the variable filtered_list.\n",
        "print(filtered_list): This line prints the contents of the filtered_list.\n",
        "In essence, this function efficiently creates a new list by including only the elements from the original list that are not negative."
      ],
      "metadata": {
        "id": "KbOeBfGj5Qx_"
      }
    }
  ]
}