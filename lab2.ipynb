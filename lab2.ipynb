{
  "nbformat": 4,
  "nbformat_minor": 0,
  "metadata": {
    "colab": {
      "provenance": [],
      "authorship_tag": "ABX9TyODTLKaB7USnPTRoeKnapXV",
      "include_colab_link": true
    },
    "kernelspec": {
      "name": "python3",
      "display_name": "Python 3"
    },
    "language_info": {
      "name": "python"
    }
  },
  "cells": [
    {
      "cell_type": "markdown",
      "metadata": {
        "id": "view-in-github",
        "colab_type": "text"
      },
      "source": [
        "<a href=\"https://colab.research.google.com/github/koushik1904/AIAC/blob/main/lab2.ipynb\" target=\"_parent\"><img src=\"https://colab.research.google.com/assets/colab-badge.svg\" alt=\"Open In Colab\"/></a>"
      ]
    },
    {
      "cell_type": "code",
      "execution_count": 1,
      "metadata": {
        "id": "RZNcFLR-r2lb"
      },
      "outputs": [],
      "source": []
    },
    {
      "cell_type": "markdown",
      "source": [
        "task0:build a python function to check the given number is prime or not"
      ],
      "metadata": {
        "id": "qfXEJoVIsQ7k"
      }
    },
    {
      "cell_type": "code",
      "source": [
        "def is_prime(number):\n",
        "    \"\"\"\n",
        "    Checks if a given number is prime.\n",
        "\n",
        "    Args:\n",
        "        number: The number to check.\n",
        "\n",
        "    Returns:\n",
        "        True if the number is prime, False otherwise.\n",
        "    \"\"\"\n",
        "    if number <= 1:\n",
        "        return False\n",
        "    for i in range(2, int(number**0.5) + 1):\n",
        "        if number % i == 0:\n",
        "            return False\n",
        "    return True\n",
        "\n",
        "n=int(input('enter a number:'))\n",
        "print(is_prime(n))\n"
      ],
      "metadata": {
        "colab": {
          "base_uri": "https://localhost:8080/"
        },
        "id": "SxhwZ5yhsnB9",
        "outputId": "049419dc-813a-493b-d1ee-ebf7763c897d"
      },
      "execution_count": 3,
      "outputs": [
        {
          "output_type": "stream",
          "name": "stdout",
          "text": [
            "enter a number:4\n",
            "False\n"
          ]
        }
      ]
    },
    {
      "cell_type": "markdown",
      "source": [
        "def is_prime(number):: This line defines the function is_prime that takes one argument, number.\n",
        "if number <= 1:: This checks if the input number is less than or equal to 1. Prime numbers are greater than 1, so if it's 1 or less, the function immediately returns False.\n",
        "`for i in range(2, int(number0.5) + 1):`**: This loop iterates through numbers starting from 2 up to the square root of the input number (inclusive). We only need to check for divisors up to the square root because if a number has a divisor larger than its square root, it must also have a divisor smaller than its square root.\n",
        "if number % i == 0:: Inside the loop, this checks if the input number is divisible by the current value of i (the potential divisor). If it is, the number is not prime, and the function returns False.\n",
        "return True: If the loop finishes without finding any divisors, it means the number is prime, and the function returns True.\n",
        "n=int(input('enter a number:')): This line prompts the user to enter a number and converts the input to an integer, storing it in the variable n.\n",
        "print(is_prime(n)): This line calls the is_prime function with the user's input number n and prints the returned boolean value (True if prime, False otherwise)."
      ],
      "metadata": {
        "id": "CRcJZKQGvDD7"
      }
    }
  ]
}