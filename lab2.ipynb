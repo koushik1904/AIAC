{
  "nbformat": 4,
  "nbformat_minor": 0,
  "metadata": {
    "colab": {
      "provenance": [],
      "authorship_tag": "ABX9TyNTbtgMytYKIff9B0JM/G1I",
      "include_colab_link": true
    },
    "kernelspec": {
      "name": "python3",
      "display_name": "Python 3"
    },
    "language_info": {
      "name": "python"
    }
  },
  "cells": [
    {
      "cell_type": "markdown",
      "metadata": {
        "id": "view-in-github",
        "colab_type": "text"
      },
      "source": [
        "<a href=\"https://colab.research.google.com/github/koushik1904/AIAC/blob/main/lab2.ipynb\" target=\"_parent\"><img src=\"https://colab.research.google.com/assets/colab-badge.svg\" alt=\"Open In Colab\"/></a>"
      ]
    },
    {
      "cell_type": "code",
      "execution_count": 1,
      "metadata": {
        "id": "RZNcFLR-r2lb"
      },
      "outputs": [],
      "source": []
    },
    {
      "cell_type": "markdown",
      "source": [
        "task0:build a python function to check the given number is prime or not\n",
        "prompt:write a python function to check the given number is prime or not"
      ],
      "metadata": {
        "id": "qfXEJoVIsQ7k"
      }
    },
    {
      "cell_type": "code",
      "source": [
        "def is_prime(number):\n",
        "    \"\"\"\n",
        "    Checks if a given number is prime.\n",
        "\n",
        "    Args:\n",
        "        number: The number to check.\n",
        "\n",
        "    Returns:\n",
        "        True if the number is prime, False otherwise.\n",
        "    \"\"\"\n",
        "    if number <= 1:\n",
        "        return False\n",
        "    for i in range(2, int(number**0.5) + 1):\n",
        "        if number % i == 0:\n",
        "            return False\n",
        "    return True\n",
        "\n",
        "n=int(input('enter a number:'))\n",
        "print(is_prime(n))\n"
      ],
      "metadata": {
        "colab": {
          "base_uri": "https://localhost:8080/"
        },
        "id": "SxhwZ5yhsnB9",
        "outputId": "049419dc-813a-493b-d1ee-ebf7763c897d"
      },
      "execution_count": 3,
      "outputs": [
        {
          "output_type": "stream",
          "name": "stdout",
          "text": [
            "enter a number:4\n",
            "False\n"
          ]
        }
      ]
    },
    {
      "cell_type": "markdown",
      "source": [
        "def is_prime(number):: This line defines the function is_prime that takes one argument, number.\n",
        "if number <= 1:: This checks if the input number is less than or equal to 1. Prime numbers are greater than 1, so if it's 1 or less, the function immediately returns False.\n",
        "`for i in range(2, int(number0.5) + 1):`**: This loop iterates through numbers starting from 2 up to the square root of the input number (inclusive). We only need to check for divisors up to the square root because if a number has a divisor larger than its square root, it must also have a divisor smaller than its square root.\n",
        "if number % i == 0:: Inside the loop, this checks if the input number is divisible by the current value of i (the potential divisor). If it is, the number is not prime, and the function returns False.\n",
        "return True: If the loop finishes without finding any divisors, it means the number is prime, and the function returns True.\n",
        "n=int(input('enter a number:')): This line prompts the user to enter a number and converts the input to an integer, storing it in the variable n.\n",
        "print(is_prime(n)): This line calls the is_prime function with the user's input number n and prints the returned boolean value (True if prime, False otherwise)."
      ],
      "metadata": {
        "id": "CRcJZKQGvDD7"
      }
    },
    {
      "cell_type": "markdown",
      "source": [
        "task1:●\tUse Gemini in Colab to write a function that filters out all negative numbers from a given list.\n",
        "prompt:write a python function that filters the negative numbers in the given list"
      ],
      "metadata": {
        "id": "Ewu_3-Qo363c"
      }
    },
    {
      "cell_type": "code",
      "source": [
        "def filter_negative_numbers(numbers):\n",
        "  \"\"\"\n",
        "  Filters out all negative numbers from a given list.\n",
        "\n",
        "  Args:\n",
        "    numbers: A list of numbers.\n",
        "\n",
        "  Returns:\n",
        "    A new list containing only the non-negative numbers from the input list.\n",
        "  \"\"\"\n",
        "  return [number for number in numbers if number >= 0]\n",
        "\n",
        "# Example usage:\n",
        "my_list = [1, -2, 3, -4, 5, 0, -6]\n",
        "filtered_list = filter_negative_numbers(my_list)\n",
        "print(filtered_list)"
      ],
      "metadata": {
        "colab": {
          "base_uri": "https://localhost:8080/"
        },
        "id": "3Hu8lBdt45FI",
        "outputId": "0010f7a7-6889-479e-e84d-e9da18a22aa4"
      },
      "execution_count": 4,
      "outputs": [
        {
          "output_type": "stream",
          "name": "stdout",
          "text": [
            "[1, 3, 5, 0]\n"
          ]
        }
      ]
    },
    {
      "cell_type": "markdown",
      "source": [
        "This code defines a function called filter_negative_numbers that takes a list of numbers as input and returns a new list containing only the non-negative numbers from the original list.\n",
        "\n",
        "Here's a breakdown:\n",
        "\n",
        "def filter_negative_numbers(numbers):: This line defines the function filter_negative_numbers that takes one argument, numbers, which is expected to be a list.\n",
        "\"\"\" ... \"\"\": This is a docstring, which explains what the function does, its arguments (Args), and what it returns (Returns).\n",
        "return [number for number in numbers if number >= 0]: This is a list comprehension. It's a concise way to create a new list.\n",
        "for number in numbers: It iterates through each element in the input numbers list.\n",
        "if number >= 0: For each number, it checks if the number is greater than or equal to 0 (i.e., non-negative).\n",
        "[number ... ]: If the condition (if number >= 0) is true, the current number is included in the new list that is being created.\n",
        "return ...: The function returns this newly created list containing only the non-negative numbers.\n",
        "my_list = [1, -2, 3, -4, 5, 0, -6]: This line creates an example list named my_list containing both positive, negative, and zero values.\n",
        "filtered_list = filter_negative_numbers(my_list): This line calls the filter_negative_numbers function with my_list as input and stores the returned filtered list in the variable filtered_list.\n",
        "print(filtered_list): This line prints the contents of the filtered_list.\n",
        "In essence, this function efficiently creates a new list by including only the elements from the original list that are not negative."
      ],
      "metadata": {
        "id": "KbOeBfGj5Qx_"
      }
    },
    {
      "cell_type": "markdown",
      "source": [
        "task2:●\tAsk Gemini to generate code that reads a text file and counts the frequency of each word. Then ask it to explain the code.\n",
        "prompt:write a python code that reads a text file and counts the frequency of  each word .then ask it to explain the code"
      ],
      "metadata": {
        "id": "7FzfnYcE6b0v"
      }
    },
    {
      "cell_type": "code",
      "source": [
        "import re\n",
        "from collections import Counter\n",
        "\n",
        "def count_word_frequency(filepath):\n",
        "    \"\"\"\n",
        "    Reads a text file and counts the frequency of each word.\n",
        "\n",
        "    Args:\n",
        "        filepath (str): The path to the text file.\n",
        "\n",
        "    Returns:\n",
        "        dict: A dictionary where keys are words and values are their frequencies.\n",
        "    \"\"\"\n",
        "    word_list = []\n",
        "    with open(filepath, 'r', encoding='utf-8') as file:\n",
        "        for line in file:\n",
        "            # Remove punctuation and convert to lowercase\n",
        "            line = re.sub(r'[^\\w\\s]', '', line).lower()\n",
        "            words = line.split()\n",
        "            word_list.extend(words)\n",
        "\n",
        "    return Counter(word_list)\n",
        "\n",
        "# Create a dummy text file for demonstration\n",
        "with open(\"sample.txt\", \"w\") as f:\n",
        "    f.write(\"This is a sample text file.\\n\")\n",
        "    f.write(\"This file contains sample text.\\n\")\n",
        "    f.write(\"Sample text is here.\")\n",
        "\n",
        "# Example usage:\n",
        "file_path = 'sample.txt'\n",
        "word_frequencies = count_word_frequency(file_path)\n",
        "print(word_frequencies)"
      ],
      "metadata": {
        "colab": {
          "base_uri": "https://localhost:8080/"
        },
        "id": "sXQqW38G7L2_",
        "outputId": "58771514-47c4-422e-ec91-6ea6d338fbd5"
      },
      "execution_count": 5,
      "outputs": [
        {
          "output_type": "stream",
          "name": "stdout",
          "text": [
            "Counter({'sample': 3, 'text': 3, 'this': 2, 'is': 2, 'file': 2, 'a': 1, 'contains': 1, 'here': 1})\n"
          ]
        }
      ]
    },
    {
      "cell_type": "markdown",
      "source": [
        "This code reads a text file, counts the frequency of each word, and then prints the word frequencies.\n",
        "\n",
        "Here's a breakdown:\n",
        "\n",
        "import re: Imports the regular expression module, used here for removing punctuation.\n",
        "from collections import Counter: Imports the Counter class from the collections module, which is a convenient way to count hashable objects.\n",
        "def count_word_frequency(filepath):: Defines a function count_word_frequency that takes the file path as an argument.\n",
        "word_list = []: Initializes an empty list to store all the words from the file.\n",
        "with open(filepath, 'r', encoding='utf-8') as file:: Opens the specified file in read mode with UTF-8 encoding. The with statement ensures the file is properly closed even if errors occur.\n",
        "for line in file:: Iterates through each line in the file.\n",
        "line = re.sub(r'[^\\w\\s]', '', line).lower(): This line performs two operations:\n",
        "re.sub(r'[^\\w\\s]', '', line): Uses a regular expression to replace any character that is NOT a word character (\\w) or whitespace character (\\s) with an empty string. This effectively removes punctuation.\n",
        ".lower(): Converts the line to lowercase to ensure that words like \"The\" and \"the\" are counted as the same word.\n",
        "words = line.split(): Splits the processed line into a list of words using whitespace as the delimiter.\n",
        "word_list.extend(words): Appends the list of words from the current line to the word_list.\n",
        "return Counter(word_list): After processing all lines, it creates a Counter object from the word_list. The Counter object automatically counts the occurrences of each unique word and returns a dictionary-like object where keys are words and values are their frequencies.\n",
        "with open(\"sample.txt\", \"w\") as f:: This block creates a dummy text file named \"sample.txt\" for demonstration purposes.\n",
        "f.write(...): Writes some sample text into the \"sample.txt\" file.\n",
        "file_path = 'sample.txt': Sets the variable file_path to the name of the dummy file.\n",
        "word_frequencies = count_word_frequency(file_path): Calls the count_word_frequency function with the dummy file's path and stores the returned word frequencies in the word_frequencies variable.\n",
        "print(word_frequencies): Prints the word_frequencies which is a Counter object showing each word and its count."
      ],
      "metadata": {
        "id": "9boYbJKx7XjN"
      }
    }
  ]
}