{
  "nbformat": 4,
  "nbformat_minor": 0,
  "metadata": {
    "colab": {
      "provenance": [],
      "authorship_tag": "ABX9TyMfkjOngszunOvbqbEDUqnW",
      "include_colab_link": true
    },
    "kernelspec": {
      "name": "python3",
      "display_name": "Python 3"
    },
    "language_info": {
      "name": "python"
    }
  },
  "cells": [
    {
      "cell_type": "markdown",
      "metadata": {
        "id": "view-in-github",
        "colab_type": "text"
      },
      "source": [
        "<a href=\"https://colab.research.google.com/github/koushik1904/AIAC/blob/main/AiLab9_2.ipynb\" target=\"_parent\"><img src=\"https://colab.research.google.com/assets/colab-badge.svg\" alt=\"Open In Colab\"/></a>"
      ]
    },
    {
      "cell_type": "markdown",
      "source": [
        "Task1:Write python function to return sum of even and odd numbers in the given list.\n",
        "• Incorporate manual docstring in code with Google Style\n",
        "• Use an AI-assisted tool (e.g., Copilot, Cursor AI) to generate a docstring describing\n",
        "the function.\n",
        "• Compare the AI-generated docstring with your manually written one."
      ],
      "metadata": {
        "id": "HDbkSfegyedu"
      }
    },
    {
      "cell_type": "markdown",
      "source": [
        "Prompt:generate a python function to treturn sum of even and odd numbers in the given list ,and create a docstring describing the function"
      ],
      "metadata": {
        "id": "gLT4UQHsy4K9"
      }
    },
    {
      "cell_type": "code",
      "source": [
        "def sum_even_odd(numbers):\n",
        "  \"\"\"Calculates the sum of even and odd numbers in a list.\n",
        "\n",
        "  Args:\n",
        "    numbers: A list of integers.\n",
        "\n",
        "  Returns:\n",
        "    A tuple containing the sum of even numbers and the sum of odd numbers.\n",
        "  \"\"\"\n",
        "  even_sum = 0\n",
        "  odd_sum = 0\n",
        "  for number in numbers:\n",
        "    if number % 2 == 0:\n",
        "      even_sum += number\n",
        "    else:\n",
        "      odd_sum += number\n",
        "  return even_sum, odd_sum\n",
        "\n",
        "# Example usage:\n",
        "my_list = [1, 2, 3, 4, 5, 6, 7, 8, 9, 10]\n",
        "even_sum, odd_sum = sum_even_odd(my_list)\n",
        "print(f\"Sum of even numbers: {even_sum}\")\n",
        "print(f\"Sum of odd numbers: {odd_sum}\")"
      ],
      "metadata": {
        "colab": {
          "base_uri": "https://localhost:8080/"
        },
        "id": "AtXwSg9Tztu1",
        "outputId": "773b8496-de5b-43c7-ad40-fe265acdae61"
      },
      "execution_count": 2,
      "outputs": [
        {
          "output_type": "stream",
          "name": "stdout",
          "text": [
            "Sum of even numbers: 30\n",
            "Sum of odd numbers: 25\n"
          ]
        }
      ]
    },
    {
      "cell_type": "code",
      "source": [
        "#manual\n",
        "def sum_even_odd(numbers):\n",
        "  \"\"\"\n",
        "  Adds even numbers and odd numbers in a list and gives back both totals.\n",
        "\n",
        "  Args:\n",
        "    numbers: A list of whole numbers.\n",
        "\n",
        "  Returns:\n",
        "    Two numbers: sum of even ones and sum of odd ones.\n",
        "  \"\"\"\n",
        "  even_sum = 0\n",
        "  odd_sum = 0\n",
        "  for number in numbers:\n",
        "    if number % 2 == 0:\n",
        "      even_sum += number\n",
        "    else:\n",
        "      odd_sum += number\n",
        "  return even_sum, odd_sum\n",
        "\n",
        "# Example usage:\n",
        "my_list = [1, 2, 3, 4, 5, 6, 7, 8, 9, 10]\n",
        "even_sum, odd_sum = sum_even_odd(my_list)\n",
        "print(f\"Sum of even numbers: {even_sum}\")\n",
        "print(f\"Sum of odd numbers: {odd_sum}\")\n"
      ],
      "metadata": {
        "id": "0finxVC7-Vod"
      },
      "execution_count": null,
      "outputs": []
    },
    {
      "cell_type": "markdown",
      "source": [
        "Comparision/Observation:The AI-generated docstring is neat, easy to understand, and follows proper format, while the manual one is unorganized and harder to read."
      ],
      "metadata": {
        "id": "9rf0hN4x6rU9"
      }
    },
    {
      "cell_type": "markdown",
      "source": [
        "Task2:Write python program for sru_student class with attributes like name, roll no.,\n",
        "hostel_status and fee_update method and display_details method.\n",
        "• Write comments manually for each line/code block\n",
        "• Ask an AI tool to add inline comments explaining each line/step.\n",
        "• Compare the AI-generated comments with your manually written one"
      ],
      "metadata": {
        "id": "k2LhJuZ33aW3"
      }
    },
    {
      "cell_type": "markdown",
      "source": [
        "Prompt1:Generate python program for sru_student class with attributes like name, roll no., hostel_status and fee_update method and display_details method.\n",
        "dont include comments in this code"
      ],
      "metadata": {
        "id": "oajHmy7p3vU6"
      }
    },
    {
      "cell_type": "code",
      "source": [
        "class sru_student: #This will initialize the sru_student object\n",
        "    def __init__(self, name, roll_no, hostel_status):\n",
        "        self.name = name#This will assign the provided name to the instance\n",
        "        self.roll_no = roll_no#This will assign the provided roll numbers to the instance\n",
        "        self.hostel_status = hostel_status#This will assign the provided hostel status to the instance\n",
        "        self.fees = 0#This will assign the provided fee details to the instance\n",
        "\n",
        "    def fee_update(self, amount):# This is used to update the fee details\n",
        "        self.fees += amount#This will assign the provided fee details to the instance\n",
        "\n",
        "    def display_details(self):#This will display the student details\n",
        "        print(f\"Student Name: {self.name}\")\n",
        "        print(f\"Roll Number: {self.roll_no}\")\n",
        "        print(f\"Hostel Status: {self.hostel_status}\")\n",
        "        print(f\"Outstanding Fees: {self.fees}\")"
      ],
      "metadata": {
        "id": "Na3Hj9nZ4ExM"
      },
      "execution_count": 3,
      "outputs": []
    },
    {
      "cell_type": "markdown",
      "source": [
        "Prompt2:Generate python program for sru_student class with attributes like name, roll no., hostel_status and fee_update method and display_details method. give comments"
      ],
      "metadata": {
        "id": "3E0giEEE4Pu5"
      }
    },
    {
      "cell_type": "code",
      "source": [
        "class sru_student:\n",
        "    # Constructor to initialize the sru_student object\n",
        "    def __init__(self, name, roll_no, hostel_status):\n",
        "        # Assign the provided name to the instance\n",
        "        self.name = name\n",
        "        # Assign the provided roll number to the instance\n",
        "        self.roll_no = roll_no\n",
        "        # Assign the provided hostel status to the instance\n",
        "        self.hostel_status = hostel_status\n",
        "        # Initialize the fees to 0\n",
        "        self.fees = 0\n",
        "\n",
        "    # Method to update the student's fees\n",
        "    def fee_update(self, amount):\n",
        "        # Add the specified amount to the current fees\n",
        "        self.fees += amount\n",
        "\n",
        "    # Method to display the student's details\n",
        "    def display_details(self):\n",
        "        # Print the student's name\n",
        "        print(f\"Student Name: {self.name}\")\n",
        "        # Print the student's roll number\n",
        "        print(f\"Roll Number: {self.roll_no}\")\n",
        "        # Print the student's hostel status\n",
        "        print(f\"Hostel Status: {self.hostel_status}\")\n",
        "        # Print the student's outstanding fees\n",
        "        print(f\"Outstanding Fees: {self.fees}\")"
      ],
      "metadata": {
        "id": "BrIplbDo4VaY"
      },
      "execution_count": 4,
      "outputs": []
    },
    {
      "cell_type": "markdown",
      "source": [
        "Task3:Write a Python script with 3–4 functions (e.g., calculator: add, subtract, multiply,\n",
        "divide).\n",
        "• Incorporate manual docstring in code with NumPy Style\n",
        "• Use AI assistance to generate a module-level docstring + individual function\n",
        "docstrings.\n",
        "• Compare the AI-generated docstring with your manually written one"
      ],
      "metadata": {
        "id": "ko5To8ih7izd"
      }
    },
    {
      "cell_type": "markdown",
      "source": [
        "Prompt:generate a python program with 4 functions EX:add,subtract,multiply,divide and provide  a module-level docstring +individual function docstrings"
      ],
      "metadata": {
        "id": "z8DsTKi370IB"
      }
    },
    {
      "cell_type": "code",
      "source": [
        "\"\"\"This module provides basic arithmetic operations.\"\"\"\n",
        "\n",
        "def add(a, b):\n",
        "  \"\"\"Adds two numbers.\n",
        "\n",
        "  Args:\n",
        "    a: The first number.\n",
        "    b: The second number.\n",
        "\n",
        "  Returns:\n",
        "    The sum of a and b.\n",
        "  \"\"\"\n",
        "  return a + b\n",
        "\n",
        "def subtract(a, b):\n",
        "  \"\"\"Subtracts the second number from the first.\n",
        "\n",
        "  Args:\n",
        "    a: The first number.\n",
        "    b: The second number.\n",
        "\n",
        "  Returns:\n",
        "    The difference between a and b.\n",
        "  \"\"\"\n",
        "  return a - b\n",
        "\n",
        "def multiply(a, b):\n",
        "  \"\"\"Multiplies two numbers.\n",
        "\n",
        "  Args:\n",
        "    a: The first number.\n",
        "    b: The second number.\n",
        "\n",
        "  Returns:\n",
        "    The product of a and b.\n",
        "  \"\"\"\n",
        "  return a * b\n",
        "\n",
        "def divide(a, b):\n",
        "  \"\"\"Divides the first number by the second.\n",
        "\n",
        "  Args:\n",
        "    a: The first number.\n",
        "    b: The second number.\n",
        "\n",
        "  Returns:\n",
        "    The quotient of a divided by b.\n",
        "\n",
        "  Raises:\n",
        "    ZeroDivisionError: If the second number (b) is zero.\n",
        "  \"\"\"\n",
        "  if b == 0:\n",
        "    raise ZeroDivisionError(\"Division by zero is not allowed.\")\n",
        "  return a / b"
      ],
      "metadata": {
        "id": "K5qprHQw8pbi"
      },
      "execution_count": 5,
      "outputs": []
    },
    {
      "cell_type": "code",
      "source": [
        "#manual\n",
        "\"\"\"This module does simple math like add, subtract, multiply, and divide.\"\"\"\n",
        "\n",
        "def add(a, b):\n",
        "  # adds two numbers a and b and gives the result\n",
        "  return a + b\n",
        "\n",
        "def subtract(a, b):\n",
        "  # subtracts b from a and gives the result\n",
        "  return a - b\n",
        "\n",
        "def multiply(a, b):\n",
        "  # multiplies a and b and gives the result\n",
        "  return a * b\n",
        "\n",
        "def divide(a, b):\n",
        "  # divides a by b and gives the result\n",
        "  # shows error if b is zero\n",
        "  if b == 0:\n",
        "    raise ZeroDivisionError(\"Division by zero is not allowed.\")\n",
        "  return a / b\n"
      ],
      "metadata": {
        "id": "oZR6FYZt9db5"
      },
      "execution_count": null,
      "outputs": []
    },
    {
      "cell_type": "markdown",
      "source": [
        "Comparision/Observation:The first docstrings are clear and professional, explaining everything properly, while the manual ones are simple and quick but less detailed and not as useful for others or tools.\n"
      ],
      "metadata": {
        "id": "CVI-ziWc9z_5"
      }
    }
  ]
}