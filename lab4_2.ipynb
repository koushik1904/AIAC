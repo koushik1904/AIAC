{
  "nbformat": 4,
  "nbformat_minor": 0,
  "metadata": {
    "colab": {
      "provenance": [],
      "authorship_tag": "ABX9TyO5tdkj3IvTS+V68Tfs2t3R",
      "include_colab_link": true
    },
    "kernelspec": {
      "name": "python3",
      "display_name": "Python 3"
    },
    "language_info": {
      "name": "python"
    }
  },
  "cells": [
    {
      "cell_type": "markdown",
      "metadata": {
        "id": "view-in-github",
        "colab_type": "text"
      },
      "source": [
        "<a href=\"https://colab.research.google.com/github/koushik1904/AIAC/blob/main/lab4_2.ipynb\" target=\"_parent\"><img src=\"https://colab.research.google.com/assets/colab-badge.svg\" alt=\"Open In Colab\"/></a>"
      ]
    },
    {
      "cell_type": "code",
      "execution_count": null,
      "metadata": {
        "id": "OibCDnQtbUfe"
      },
      "outputs": [],
      "source": [
        "task1:\tZero-shot: Prompt AI with only the instruction — Write a Python function to generate the Fibonacci sequence up to n terms\n",
        "\n",
        "Prompt:Give a python function generate the fibonacci sequence up to n terms\n",
        "and ask user to give input"
      ]
    },
    {
      "cell_type": "code",
      "source": [
        "def generate_fibonacci(n):\n",
        "  \"\"\"Generates the Fibonacci sequence up to n terms.\"\"\"\n",
        "  fib_sequence = []\n",
        "  a, b = 0, 1\n",
        "  for _ in range(n):\n",
        "    fib_sequence.append(a)\n",
        "    a, b = b, a + b\n",
        "  return fib_sequence\n",
        "\n",
        "# Get input from the user\n",
        "while True:\n",
        "  try:\n",
        "    n_terms = int(input(\"Enter the number of Fibonacci terms to generate: \"))\n",
        "    if n_terms >= 0:\n",
        "      break\n",
        "    else:\n",
        "      print(\"Please enter a non-negative integer.\")\n",
        "  except ValueError:\n",
        "    print(\"Invalid input. Please enter an integer.\")\n",
        "\n",
        "# Generate and print the Fibonacci sequence\n",
        "fib_result = generate_fibonacci(n_terms)\n",
        "print(f\"Fibonacci sequence up to {n_terms} terms: {fib_result}\")"
      ],
      "metadata": {
        "colab": {
          "base_uri": "https://localhost:8080/"
        },
        "id": "3m_Mo_Qxi1TH",
        "outputId": "ad6b9e29-1ae5-429c-d777-7c384b8c182d"
      },
      "execution_count": 8,
      "outputs": [
        {
          "output_type": "stream",
          "name": "stdout",
          "text": [
            "Enter the number of Fibonacci terms to generate: 10\n",
            "Fibonacci sequence up to 10 terms: [0, 1, 1, 2, 3, 5, 8, 13, 21, 34]\n"
          ]
        }
      ]
    },
    {
      "cell_type": "markdown",
      "source": [
        "explaination:def generate_fibonacci(n):: This line defines the function generate_fibonacci that accepts one argument, n.\n",
        "\"\"\"Generates the Fibonacci sequence up to n terms.\"\"\": This is a docstring, which explains what the function does.\n",
        "fib_sequence = []: An empty list called fib_sequence is initialized to store the generated Fibonacci numbers.\n",
        "a, b = 0, 1: Two variables, a and b, are initialized to the first two terms of the Fibonacci sequence, 0 and 1.\n",
        "for _ in range(n):: This loop iterates n times. The underscore _ is used as the loop variable when you don't need to use the loop counter inside the loop.\n",
        "fib_sequence.append(a): In each iteration, the current value of a (which represents the next Fibonacci number) is added to the fib_sequence list.\n",
        "a, b = b, a + b: This is the core of the Fibonacci generation. It simultaneously updates a and b. The new value of a becomes the current value of b, and the new value of b becomes the sum of the old values of a and b.\n",
        "return fib_sequence: After the loop finishes, the function returns the fib_sequence list containing the generated Fibonacci numbers.\n",
        "n_terms = 10: This line sets a variable n_terms to 10, indicating that we want to generate the first 10 terms of the sequence.\n",
        "fib_result = generate_fibonacci(n_terms): This line calls the generate_fibonacci function with n_terms as the argument and stores the returned list in the fib_result variable.\n",
        "print(f\"Fibonacci sequence up to {n_terms} terms: {fib_result}\"): This line prints the generated Fibonacci sequence to the console."
      ],
      "metadata": {
        "id": "SAPcScYwcJXB"
      }
    },
    {
      "cell_type": "markdown",
      "source": [
        "task2:\tOne-shot: Provide one example: Input: 100, Output: 37.78 to help AI generate a function that converts Fahrenheit to Celsius.\n",
        "\n",
        "Prompt:generate a function that converts fahrenheit to celsius ,example input:100 and output:37.78 and ask user to give input"
      ],
      "metadata": {
        "id": "Bk4Nav9McW2y"
      }
    },
    {
      "cell_type": "code",
      "source": [
        "def fahrenheit_to_celsius(fahrenheit):\n",
        "  \"\"\"Converts Fahrenheit to Celsius.\"\"\"\n",
        "  celsius = (fahrenheit - 32) * 5/9\n",
        "  return celsius\n",
        "\n",
        "# Get input from the user\n",
        "while True:\n",
        "  try:\n",
        "    fahrenheit_temp = float(input(\"Enter temperature in Fahrenheit: \"))\n",
        "    break\n",
        "  except ValueError:\n",
        "    print(\"Invalid input. Please enter a number.\")\n",
        "\n",
        "\n",
        "# Convert and print the temperature in Celsius\n",
        "celsius_temp = fahrenheit_to_celsius(fahrenheit_temp)\n",
        "print(f\"{fahrenheit_temp} Fahrenheit is equal to {celsius_temp:.2f} Celsius.\")"
      ],
      "metadata": {
        "colab": {
          "base_uri": "https://localhost:8080/"
        },
        "id": "veL0i89PjB_s",
        "outputId": "8d56e91b-c6fc-4d88-b7bf-7331c8bf767e"
      },
      "execution_count": 9,
      "outputs": [
        {
          "output_type": "stream",
          "name": "stdout",
          "text": [
            "Enter temperature in Fahrenheit: 200\n",
            "200.0 Fahrenheit is equal to 93.33 Celsius.\n"
          ]
        }
      ]
    },
    {
      "cell_type": "markdown",
      "source": [
        "explaination:def fahrenheit_to_celsius(fahrenheit):: This line defines the function fahrenheit_to_celsius that accepts one argument, fahrenheit, which is the temperature in Fahrenheit.\n",
        "\"\"\"Converts Fahrenheit to Celsius.\"\"\": This is a docstring, which explains what the function does.\n",
        "celsius = (fahrenheit - 32) * 5/9: This is the core of the conversion. It applies the formula to convert Fahrenheit to Celsius: subtract 32 from the Fahrenheit temperature and then multiply the result by 5/9. The result is stored in the celsius variable.\n",
        "return celsius: After calculating the Celsius temperature, the function returns the value stored in the celsius variable.\n",
        "fahrenheit_temp = 100: This line sets a variable fahrenheit_temp to 100, which is the example Fahrenheit temperature provided in the prompt.\n",
        "celsius_temp = fahrenheit_to_celsius(fahrenheit_temp): This line calls the fahrenheit_to_celsius function with fahrenheit_temp as the argument and stores the returned Celsius temperature in the celsius_temp variable.\n",
        "print(f\"{fahrenheit_temp} Fahrenheit is equal to {celsius_temp:.2f} Celsius.\"): This line prints the result to the console, formatting the Celsius temperature to two decimal places using an f-string.\n"
      ],
      "metadata": {
        "id": "9aGCyQKedM78"
      }
    },
    {
      "cell_type": "markdown",
      "source": [
        "task3:\tFew-shot: Give 2–3 examples to create a function that extracts the domain name from an email address.\n",
        "\n",
        "\n",
        "Prompt: take input from user and Extract the domain name (part after @) from the email addresses,\n",
        "example1: input:yourname@gmail.com\n",
        "output: gmail.com\n",
        "example2: input: college@university.edu\n",
        "output: university.edu\n",
        "example3: input:multi@company.in\n",
        "output:company.in\n",
        "\n"
      ],
      "metadata": {
        "id": "HpspUP5hdYqs"
      }
    },
    {
      "cell_type": "code",
      "source": [
        "def extract_domain(email):\n",
        "  \"\"\"Extracts the domain name from an email address.\"\"\"\n",
        "  try:\n",
        "    return email.split('@')[1]\n",
        "  except IndexError:\n",
        "    return \"Invalid email format\"\n",
        "\n",
        "# Example usage:\n",
        "email1 = \"yourname@gmail.com\"\n",
        "email2 = \"college@university.edu\"\n",
        "email3 = \"multi@company.in\"\n",
        "invalid_email = \"invalid-email-address\"\n",
        "\n",
        "print(f\"Domain for {email1}: {extract_domain(email1)}\")\n",
        "print(f\"Domain for {email2}: {extract_domain(email2)}\")\n",
        "print(f\"Domain for {email3}: {extract_domain(email3)}\")\n",
        "print(f\"Domain for {invalid_email}: {extract_domain(invalid_email)}\")\n",
        "\n",
        "# Get input from the user\n",
        "user_email = input(\"Enter an email address: \")\n",
        "print(f\"Domain for {user_email}: {extract_domain(user_email)}\")"
      ],
      "metadata": {
        "colab": {
          "base_uri": "https://localhost:8080/"
        },
        "id": "dHT4vovNfASK",
        "outputId": "19d2d439-4c64-4003-c322-fdc39528ba63"
      },
      "execution_count": 3,
      "outputs": [
        {
          "output_type": "stream",
          "name": "stdout",
          "text": [
            "Domain for yourname@gmail.com: gmail.com\n",
            "Domain for college@university.edu: university.edu\n",
            "Domain for multi@company.in: company.in\n",
            "Domain for invalid-email-address: Invalid email format\n",
            "Enter an email address: 2403a@sru.edu.in\n",
            "Domain for 2403a@sru.edu.in: sru.edu.in\n"
          ]
        }
      ]
    },
    {
      "cell_type": "markdown",
      "source": [
        "Explaination:def extract_domain(email):: This line defines the function extract_domain that accepts one argument, email, which is the email address string.\n",
        "\"\"\"Extracts the domain name from an email address.\"\"\": This is a docstring, which explains what the function does.\n",
        "try:: This starts a try block, which is used for error handling. The code inside this block will be attempted, and if an error occurs, the code in the except block will be executed.\n",
        "return email.split('@')[1]: This is the core logic.\n",
        "email.split('@') splits the email string into a list of substrings using the @ symbol as the delimiter. For example, \"yourname@gmail.com\".split('@') would result in the list ['yourname', 'gmail.com'].\n",
        "[1] accesses the element at index 1 of the resulting list, which is the part after the @ symbol (the domain name).\n",
        "return sends this extracted domain name back as the function's output.\n",
        "except IndexError:: This block is executed if an IndexError occurs within the try block. An IndexError would happen if the split('@') operation doesn't result in a list with at least two elements, which would occur if the input string doesn't contain an @ symbol (i.e., it's an invalid email format).\n",
        "return \"Invalid email format\": If an IndexError is caught, this line returns the string \"Invalid email format\" to indicate that the input was not a valid email address in the expected format.\n",
        "email1 = \"yourname@gmail.com\", email2 = \"college@university.edu\", email3 = \"multi@company.in\", invalid_email = \"invalid-email-address\": These lines define example email addresses, including one invalid one, to test the function.\n",
        "print(f\"Domain for {email1}: {extract_domain(email1)}\") (and similar lines for email2, email3, and invalid_email): These lines call the extract_domain function with the example email addresses and print the returned domain names (or the error message for the invalid email).\n",
        "user_email = input(\"Enter an email address: \"): This line prompts the user to enter an email address and stores their input in the user_email variable.\n",
        "print(f\"Domain for {user_email}: {extract_domain(user_email)}\"): This line calls the extract_domain function with the user's input and prints the extracted domain name."
      ],
      "metadata": {
        "id": "BMftXRbCfPkj"
      }
    },
    {
      "cell_type": "markdown",
      "source": [
        "Task4:\tCompare zero-shot vs few-shot prompting for generating a function that checks whether a word is a palindrome, ignoring punctuation and case.\n"
      ],
      "metadata": {
        "id": "lBAmar24fgER"
      }
    },
    {
      "cell_type": "markdown",
      "source": [
        "Prompt1:(Zero shot)Write a Python function that checks whether a word is a palindrome. The function should ignore punctuation and case."
      ],
      "metadata": {
        "id": "A_3fvxWbhIt2"
      }
    },
    {
      "cell_type": "code",
      "source": [
        "import re\n",
        "\n",
        "def is_palindrome(word):\n",
        "  \"\"\"Checks if a word is a palindrome, ignoring punctuation and case.\"\"\"\n",
        "  # Remove punctuation and convert to lowercase\n",
        "  cleaned_word = re.sub(r'[^\\w]', '', word).lower()\n",
        "  # Check if the cleaned word is the same forwards and backwards\n",
        "  return cleaned_word == cleaned_word[::-1]\n",
        "\n",
        "# Get input from the user\n",
        "user_input = input(\"Enter a word or phrase: \")\n",
        "\n",
        "# Check if the user input is a palindrome and print the result\n",
        "if is_palindrome(user_input):\n",
        "  print(f\"'{user_input}' is a palindrome.\")\n",
        "else:\n",
        "  print(f\"'{user_input}' is not a palindrome.\")"
      ],
      "metadata": {
        "colab": {
          "base_uri": "https://localhost:8080/"
        },
        "id": "xmGAAqY4hh3D",
        "outputId": "fdcb6f22-2354-47ff-d183-ae8ac2a2671f"
      },
      "execution_count": 5,
      "outputs": [
        {
          "output_type": "stream",
          "name": "stdout",
          "text": [
            "Enter a word or phrase: madam\n",
            "'madam' is a palindrome.\n"
          ]
        }
      ]
    },
    {
      "cell_type": "markdown",
      "source": [
        "Explaination:import re: This line imports the re module, which provides support for regular expressions. Regular expressions are used here to easily remove punctuation from the input string.\n",
        "def is_palindrome(word):: This line defines the function is_palindrome that accepts one argument, word, which is the string (word or phrase) to be checked.\n",
        "\"\"\"Checks if a word is a palindrome, ignoring punctuation and case.\"\"\": This is a docstring explaining what the function does.\n",
        "cleaned_word = re.sub(r'[^\\w]', '', word).lower(): This is the core of the cleaning process.\n",
        "re.sub(r'[^\\w]', '', word) uses a regular expression to replace any character that is NOT a word character (alphanumeric and underscore) with an empty string. This effectively removes punctuation and spaces.\n",
        ".lower() converts the resulting string to lowercase, ensuring that the comparison is case-insensitive. The cleaned string is stored in the cleaned_word variable.\n",
        "return cleaned_word == cleaned_word[::-1]: This line checks if the cleaned_word is a palindrome.\n",
        "cleaned_word[::-1] creates a reversed version of the cleaned_word.\n",
        "cleaned_word == cleaned_word[::-1] compares the original cleaned word with its reversed version. If they are the same, the function returns True (it's a palindrome); otherwise, it returns False.\n",
        "user_input = input(\"Enter a word or phrase: \"): This line prompts the user to enter a word or phrase using the input() function and stores their input in the user_input variable.\n",
        "if is_palindrome(user_input):: This line calls the is_palindrome function with the user_input and checks if the returned value is True.\n",
        "print(f\"'{user_input}' is a palindrome.\"): If the function returns True, this line prints a message indicating that the user's input is a palindrome.\n",
        "else:: This is executed if the condition in the if statement is False.\n",
        "print(f\"'{user_input}' is not a palindrome.\"): If the function returns False, this line prints a message indicating that the user's input is not a palindrome."
      ],
      "metadata": {
        "id": "W_J041kVhuGt"
      }
    },
    {
      "cell_type": "markdown",
      "source": [
        "Prompt2:(few shot) Write a Python function that checks whether a word is a palindrome, ignoring punctuation and case. Follow the examples:\"\n",
        "\n",
        "Examples:\n",
        "1.\n",
        "Input: \"Madam\"\n",
        "Output: True\n",
        "\n",
        "Input: \"A man, a plan, a canal: Panama\"\n",
        "Output: True\n",
        "\n",
        "Input: \"Hello\"\n",
        "Output: False\n",
        "and ask user to give input"
      ],
      "metadata": {
        "id": "4pSI-P4ch6OG"
      }
    },
    {
      "cell_type": "code",
      "source": [
        "import re\n",
        "\n",
        "def is_palindrome(word):\n",
        "  \"\"\"Checks if a word is a palindrome, ignoring punctuation and case.\"\"\"\n",
        "  # Remove punctuation and convert to lowercase\n",
        "  cleaned_word = re.sub(r'[^\\w]', '', word).lower()\n",
        "  # Check if the cleaned word is the same forwards and backwards\n",
        "  return cleaned_word == cleaned_word[::-1]\n",
        "\n",
        "# Examples provided in the prompt\n",
        "example1_input = \"Madam\"\n",
        "example2_input = \"A man, nama\"\n",
        "example3_input = \"Hello\"\n",
        "\n",
        "print(f\"Input: \\\"{example1_input}\\\"\")\n",
        "print(f\"Output: {is_palindrome(example1_input)}\")\n",
        "print(\"-\" * 20)\n",
        "\n",
        "print(f\"Input: \\\"{example2_input}\\\"\")\n",
        "print(f\"Output: {is_palindrome(example2_input)}\")\n",
        "print(\"-\" * 20)\n",
        "\n",
        "print(f\"Input: \\\"{example3_input}\\\"\")\n",
        "print(f\"Output: {is_palindrome(example3_input)}\")\n",
        "print(\"-\" * 20)\n",
        "\n",
        "# Get input from the user\n",
        "user_input = input(\"Enter a word or phrase: \")\n",
        "\n",
        "# Check if the user input is a palindrome and print the result\n",
        "if is_palindrome(user_input):\n",
        "  print(f\"'{user_input}' is a palindrome.\")\n",
        "else:\n",
        "  print(f\"'{user_input}' is not a palindrome.\")"
      ],
      "metadata": {
        "colab": {
          "base_uri": "https://localhost:8080/"
        },
        "id": "Uq4BYzs0iIw-",
        "outputId": "afdf528f-abff-464f-fa9e-476f09e86d8e"
      },
      "execution_count": 7,
      "outputs": [
        {
          "output_type": "stream",
          "name": "stdout",
          "text": [
            "Input: \"Madam\"\n",
            "Output: True\n",
            "--------------------\n",
            "Input: \"A man, nama\"\n",
            "Output: True\n",
            "--------------------\n",
            "Input: \"Hello\"\n",
            "Output: False\n",
            "--------------------\n",
            "Enter a word or phrase: mom\n",
            "'mom' is a palindrome.\n"
          ]
        }
      ]
    },
    {
      "cell_type": "markdown",
      "source": [
        "Explaination:import re: This line imports the re module, which provides support for regular expressions. Regular expressions are used here to easily remove punctuation from the input string.\n",
        "def is_palindrome(word):: This line defines the function is_palindrome that accepts one argument, word, which is the string (word or phrase) to be checked.\n",
        "\"\"\"Checks if a word is a palindrome, ignoring punctuation and case.\"\"\": This is a docstring explaining what the function does.\n",
        "cleaned_word = re.sub(r'[^\\w]', '', word).lower(): This is the core of the cleaning process.\n",
        "re.sub(r'[^\\w]', '', word) uses a regular expression to replace any character that is NOT a word character (alphanumeric and underscore) with an empty string. This effectively removes punctuation and spaces.\n",
        ".lower() converts the resulting string to lowercase, ensuring that the comparison is case-insensitive. The cleaned string is stored in the cleaned_word variable.\n",
        "return cleaned_word == cleaned_word[::-1]: This line checks if the cleaned_word is a palindrome.\n",
        "cleaned_word[::-1] creates a reversed version of the cleaned_word.\n",
        "cleaned_word == cleaned_word[::-1] compares the original cleaned word with its reversed version. If they are the same, the function returns True (it's a palindrome); otherwise, it returns False.\n",
        "example1_input = \"Madam\", example2_input = \"A man, a plan, a canal: Panama\", example3_input = \"Hello\": These lines define the example inputs you provided to test the function.\n",
        "print(f\"Input: \\\"{example1_input}\\\"\") (and similar lines for example2_input and example3_input): These lines print the example inputs to the console.\n",
        "print(f\"Output: {is_palindrome(example1_input)}\") (and similar lines for the other examples): These lines call the is_palindrome function with the example inputs and print the boolean output (True or False).\n",
        "print(\"-\" * 20): This line prints a separator line to make the output of the examples clearer.\n",
        "user_input = input(\"Enter a word or phrase: \"): This line prompts the user to enter a word or phrase using the input() function and stores their input in the user_input variable.\n",
        "if is_palindrome(user_input):: This line calls the is_palindrome function with the user_input and checks if the returned value is True.\n",
        "print(f\"'{user_input}' is a palindrome.\"): If the function returns True, this line prints a message indicating that the user's input is a palindrome.\n",
        "else:: This is executed if the condition in the if statement is False.\n",
        "print(f\"'{user_input}' is not a palindrome.\"): If the function returns False, this line prints a message indicating that the user's input is not a palindrome."
      ],
      "metadata": {
        "id": "_SNVjyQ9ihff"
      }
    },
    {
      "cell_type": "markdown",
      "source": [
        "Task5:\tUse few-shot prompting with 3 sample inputs to generate a function that determines the maximum of three numbers without using the built-in max() function.\n",
        "\n",
        "Prompt:generate a function that should determine the maximum of three numbers without using built-in function max()\n",
        "example1: input: a=1,b=20,c=10\n",
        "output:the maximum of three numbers is 20\n",
        " example 2: input:a=20,b=57,c=9\n",
        " output: The maximum of three numbers is 57 and ask user to give input.\n"
      ],
      "metadata": {
        "id": "wOu_8Z22iq_I"
      }
    },
    {
      "cell_type": "code",
      "source": [
        "def find_maximum(a, b, c):\n",
        "  \"\"\"Finds the maximum of three numbers without using the built-in max() function.\"\"\"\n",
        "  maximum = a\n",
        "  if b > maximum:\n",
        "    maximum = b\n",
        "  if c > maximum:\n",
        "    maximum = c\n",
        "  return maximum\n",
        "\n",
        "# Example usage from previous turn (optional, can be removed or kept)\n",
        "a1, b1, c1 = 1, 20, 10\n",
        "result1 = find_maximum(a1, b1, c1)\n",
        "print(f\"Input: a={a1}, b={b1}, c={c1}\")\n",
        "print(f\"Output: the maximum of three numbers is {result1}\")\n",
        "\n",
        "a2, b2, c2 = 20, 57, 9\n",
        "result2 = find_maximum(a2, b2, c2)\n",
        "print(f\"Input: a={a2}, b={b2}, c={c2}\")\n",
        "print(f\"Output: The maximum of three numbers is {result2}\")\n",
        "\n",
        "print(\"-\" * 20) # Separator\n",
        "\n",
        "# Get input from the user\n",
        "while True:\n",
        "  try:\n",
        "    num1 = float(input(\"Enter the first number: \"))\n",
        "    num2 = float(input(\"Enter the second number: \"))\n",
        "    num3 = float(input(\"Enter the third number: \"))\n",
        "    break\n",
        "  except ValueError:\n",
        "    print(\"Invalid input. Please enter numbers.\")\n",
        "\n",
        "# Find and print the maximum of the user's numbers\n",
        "user_maximum = find_maximum(num1, num2, num3)\n",
        "print(f\"The maximum of {num1}, {num2}, and {num3} is {user_maximum}\")"
      ],
      "metadata": {
        "colab": {
          "base_uri": "https://localhost:8080/"
        },
        "id": "-Q9m3luzjhBc",
        "outputId": "2864e3f6-f7dd-4512-9c9b-282873d594aa"
      },
      "execution_count": 10,
      "outputs": [
        {
          "output_type": "stream",
          "name": "stdout",
          "text": [
            "Input: a=1, b=20, c=10\n",
            "Output: the maximum of three numbers is 20\n",
            "Input: a=20, b=57, c=9\n",
            "Output: The maximum of three numbers is 57\n",
            "--------------------\n",
            "Enter the first number: 3\n",
            "Enter the second number: 5\n",
            "Enter the third number: 10\n",
            "The maximum of 3.0, 5.0, and 10.0 is 10.0\n"
          ]
        }
      ]
    },
    {
      "cell_type": "markdown",
      "source": [
        "Explaination:def find_maximum(a, b, c):: This line defines the function find_maximum that accepts three arguments, a, b, and c, which are the numbers to compare.\n",
        "\"\"\"Finds the maximum of three numbers without using the built-in max() function.\"\"\": This is a docstring explaining what the function does.\n",
        "maximum = a: This line initializes a variable called maximum and sets its initial value to the first number, a. This assumes that a is potentially the maximum until compared with the other numbers.\n",
        "if b > maximum:: This line checks if the second number, b, is greater than the current value of maximum.\n",
        "maximum = b: If b is greater than maximum, this line updates the value of maximum to b.\n",
        "if c > maximum:: This line checks if the third number, c, is greater than the current value of maximum.\n",
        "maximum = c: If c is greater than maximum, this line updates the value of maximum to c.\n",
        "return maximum: After comparing all three numbers, the function returns the final value stored in the maximum variable, which is the largest of the three input numbers.\n",
        "a1, b1, c1 = 1, 20, 10 and a2, b2, c2 = 20, 57, 9: These lines define two sets of example numbers as provided in your prompt to test the find_maximum function.\n",
        "result1 = find_maximum(a1, b1, c1) and result2 = find_maximum(a2, b2, c2): These lines call the find_maximum function with the example numbers and store the returned maximum values in result1 and result2 respectively.\n",
        "print(f\"Input: a={a1}, b={b1}, c={c1}\") (and similar lines for the second example): These lines print the input numbers for each example.\n",
        "print(f\"Output: the maximum of three numbers is {result1}\") (and similar lines for the second example): These lines print the output (the maximum number found) for each example, formatted with descriptive text.\n",
        "print(\"-\" * 20): This line prints a separator line to visually distinguish the example outputs from the user input section.\n",
        "while True:: This starts an infinite loop to handle user input and ensure valid numbers are entered.\n",
        "try:: This starts a try block for error handling.\n",
        "num1 = float(input(\"Enter the first number: \")), num2 = float(input(\"Enter the second number: \")), num3 = float(input(\"Enter the third number: \")): These lines prompt the user to enter three numbers and attempt to convert them to floating-point numbers using float().\n",
        "break: If the conversion to float is successful for all three inputs, this line breaks out of the while loop.\n",
        "except ValueError:: This block is executed if a ValueError occurs within the try block, which happens if the user enters something that cannot be converted to a number.\n",
        "print(\"Invalid input. Please enter numbers.\"): If a ValueError is caught, this line prints an error message asking the user to enter valid numbers, and the loop continues to prompt for input again.\n",
        "user_maximum = find_maximum(num1, num2, num3): This line calls the find_maximum function with the numbers provided by the user and stores the result in user_maximum.\n",
        "print(f\"The maximum of {num1}, {num2}, and {num3} is {user_maximum}\"): This line prints the maximum number found from the user's input."
      ],
      "metadata": {
        "id": "c0Q-VYXbkf2U"
      }
    }
  ]
}