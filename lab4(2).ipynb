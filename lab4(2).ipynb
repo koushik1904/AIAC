{
  "nbformat": 4,
  "nbformat_minor": 0,
  "metadata": {
    "colab": {
      "provenance": [],
      "authorship_tag": "ABX9TyP26IG1IQiBDR59CzOP4S6d",
      "include_colab_link": true
    },
    "kernelspec": {
      "name": "python3",
      "display_name": "Python 3"
    },
    "language_info": {
      "name": "python"
    }
  },
  "cells": [
    {
      "cell_type": "markdown",
      "metadata": {
        "id": "view-in-github",
        "colab_type": "text"
      },
      "source": [
        "<a href=\"https://colab.research.google.com/github/koushik1904/AIAC/blob/main/lab4(2).ipynb\" target=\"_parent\"><img src=\"https://colab.research.google.com/assets/colab-badge.svg\" alt=\"Open In Colab\"/></a>"
      ]
    },
    {
      "cell_type": "markdown",
      "source": [
        "task1:\tUse Gemini in Colab to write a function that filters out all negative numbers from a given list."
      ],
      "metadata": {
        "id": "sVix8BosbsRK"
      }
    },
    {
      "cell_type": "code",
      "source": [
        "def filter_negative_numbers(input_list):\n",
        "  \"\"\"\n",
        "  Filters out all negative numbers from a given list.\n",
        "\n",
        "  Args:\n",
        "    input_list: A list of numbers.\n",
        "\n",
        "  Returns:\n",
        "    A new list containing only the non-negative numbers from the input list.\n",
        "  \"\"\"\n",
        "  return [number for number in input_list if number >= 0]\n",
        "\n",
        "# Example usage:\n",
        "my_list = [1, -2, 3, -4, 5, 0, -6]\n",
        "filtered_list = filter_negative_numbers(my_list)\n",
        "print(f\"Original list: {my_list}\")\n",
        "print(f\"Filtered list (without negative numbers): {filtered_list}\")"
      ],
      "metadata": {
        "colab": {
          "base_uri": "https://localhost:8080/"
        },
        "id": "0rp2_xi0b9J5",
        "outputId": "1fc0a87d-f5ca-43e0-f7c7-a9cd2fcceba3"
      },
      "execution_count": 2,
      "outputs": [
        {
          "output_type": "stream",
          "name": "stdout",
          "text": [
            "Original list: [1, -2, 3, -4, 5, 0, -6]\n",
            "Filtered list (without negative numbers): [1, 3, 5, 0]\n"
          ]
        }
      ]
    },
    {
      "cell_type": "markdown",
      "source": [
        "task2:\tAsk Gemini to generate code that reads a text file and counts the frequency of each word. Then ask it to explain the code."
      ],
      "metadata": {
        "id": "vgrLjVqmdjAn"
      }
    },
    {
      "cell_type": "code",
      "source": [
        "import re\n",
        "from collections import Counter\n",
        "\n",
        "def count_word_frequency(filepath):\n",
        "    \"\"\"\n",
        "    Reads a text file and counts the frequency of each word.\n",
        "\n",
        "    Args:\n",
        "        filepath (str): The path to the text file.\n",
        "\n",
        "    Returns:\n",
        "        dict: A dictionary where keys are words and values are their frequencies.\n",
        "    \"\"\"\n",
        "    try:\n",
        "        with open(filepath, 'r', encoding='utf-8') as file:\n",
        "            text = file.read().lower()\n",
        "            # Use regex to find words (sequences of alphanumeric characters)\n",
        "            words = re.findall(r'\\b\\w+\\b', text)\n",
        "            word_counts = Counter(words)\n",
        "            return dict(word_counts)\n",
        "    except FileNotFoundError:\n",
        "        print(f\"Error: File not found at {filepath}\")\n",
        "        return None\n",
        "    except Exception as e:\n",
        "        print(f\"An error occurred: {e}\")\n",
        "        return None\n",
        "\n",
        "# Example usage:\n",
        "# Create a dummy text file for demonstration\n",
        "with open('sample.txt', 'w', encoding='utf-8') as f:\n",
        "    f.write(\"This is a sample text file.\\n\")\n",
        "    f.write(\"This file is for demonstrating word frequency counting.\\n\")\n",
        "    f.write(\"Sample file, sample text, sample counting.\")\n",
        "\n",
        "file_path = 'sample.txt'\n",
        "word_frequencies = count_word_frequency(file_path)\n",
        "\n",
        "if word_frequencies:\n",
        "    print(f\"Word frequencies in '{file_path}':\")\n",
        "    for word, count in word_frequencies.items():\n",
        "        print(f\"{word}: {count}\")"
      ],
      "metadata": {
        "colab": {
          "base_uri": "https://localhost:8080/"
        },
        "id": "qro3-kJfdlXS",
        "outputId": "19d6a5ed-eec7-441c-d174-9833571920d5"
      },
      "execution_count": 3,
      "outputs": [
        {
          "output_type": "stream",
          "name": "stdout",
          "text": [
            "Word frequencies in 'sample.txt':\n",
            "this: 2\n",
            "is: 2\n",
            "a: 1\n",
            "sample: 4\n",
            "text: 2\n",
            "file: 3\n",
            "for: 1\n",
            "demonstrating: 1\n",
            "word: 1\n",
            "frequency: 1\n",
            "counting: 2\n"
          ]
        }
      ]
    },
    {
      "cell_type": "markdown",
      "source": [
        "explaination:This code defines a function count_word_frequency that takes a file path as input and returns a dictionary containing the frequency of each word in the file.\n",
        "\n",
        "Here's a breakdown:\n",
        "\n",
        "Import necessary libraries:\n",
        "re: This library is used for regular expressions, specifically to find words in the text.\n",
        "collections.Counter: This provides a convenient way to count hashable objects (like words).\n",
        "Define the count_word_frequency function:\n",
        "It takes filepath as an argument.\n",
        "It uses a try...except block to handle potential errors like the file not being found (FileNotFoundError) or other exceptions.\n",
        "Inside the try block:\n",
        "It opens the file in read mode ('r') with UTF-8 encoding. The with open(...) as file: syntax ensures the file is automatically closed.\n",
        "file.read().lower(): Reads the entire content of the file and converts it to lowercase to ensure case-insensitive counting.\n",
        "re.findall(r'\\b\\w+\\b', text): This is the core of the word extraction.\n",
        "r'\\b\\w+\\b' is a regular expression pattern:\n",
        "\\b: Matches a word boundary (ensures we match whole words).\n",
        "\\w+: Matches one or more word characters (letters, numbers, and underscore).\n",
        "re.findall() finds all occurrences of this pattern in the text and returns them as a list of words.\n",
        "Counter(words): Creates a Counter object from the list of words, which automatically counts the occurrences of each word.\n",
        "dict(word_counts): Converts the Counter object into a regular dictionary.\n",
        "The dictionary is returned.\n",
        "Inside the except blocks, it prints an error message if the file is not found or if another error occurs and returns None.\n",
        "Example Usage:\n",
        "A dummy text file named sample.txt is created with some sample text.\n",
        "The count_word_frequency function is called with the path to this dummy file.\n",
        "If the function returns a dictionary (meaning no errors occurred), it prints the word frequencies in a readable format.\n",
        "In summary, this code provides a robust way to read a text file, extract words, and count how many times each word appears."
      ],
      "metadata": {
        "id": "99ndevoRd0x0"
      }
    },
    {
      "cell_type": "markdown",
      "source": [
        "task3:\tUse Cursor AI to generate a Python class called Book with attributes title, author, and a method summary() that prints the details."
      ],
      "metadata": {
        "id": "cPb7I79aeFLP"
      }
    },
    {
      "cell_type": "code",
      "source": [
        "class Book:\n",
        "    \"\"\"\n",
        "    A class representing a book with title and author attributes.\n",
        "    \"\"\"\n",
        "    def __init__(self, title, author):\n",
        "        \"\"\"\n",
        "        Initializes the Book object.\n",
        "\n",
        "        Args:\n",
        "            title (str): The title of the book.\n",
        "            author (str): The author of the book.\n",
        "        \"\"\"\n",
        "        self.title = title\n",
        "        self.author = author\n",
        "\n",
        "    def summary(self):\n",
        "        \"\"\"\n",
        "        Prints the details of the book (title and author).\n",
        "        \"\"\"\n",
        "        print(f\"Title: {self.title}\")\n",
        "        print(f\"Author: {self.author}\")\n",
        "\n",
        "# Example usage:\n",
        "my_book = Book(\"The Hitchhiker's Guide to the Galaxy\", \"Douglas Adams\")\n",
        "my_book.summary()"
      ],
      "metadata": {
        "colab": {
          "base_uri": "https://localhost:8080/"
        },
        "id": "Qi_F8_BJeSG4",
        "outputId": "0c97e722-7542-4195-c4e7-26e998f6bce1"
      },
      "execution_count": 4,
      "outputs": [
        {
          "output_type": "stream",
          "name": "stdout",
          "text": [
            "Title: The Hitchhiker's Guide to the Galaxy\n",
            "Author: Douglas Adams\n"
          ]
        }
      ]
    },
    {
      "cell_type": "markdown",
      "source": [
        "task4:\tAsk Gemini to write a program that checks whether a number is an Armstrong number, and then modify it using Cursor AI to improve performance or structure."
      ],
      "metadata": {
        "id": "YFKixc2SejRB"
      }
    },
    {
      "cell_type": "code",
      "source": [
        "def is_armstrong_number(number):\n",
        "    \"\"\"\n",
        "    Checks if a number is an Armstrong number.\n",
        "\n",
        "    An Armstrong number (or narcissistic number) is a number that is the sum\n",
        "    of its own digits each raised to the power of the number of digits.\n",
        "\n",
        "    Args:\n",
        "        number (int): The number to check.\n",
        "\n",
        "    Returns:\n",
        "        bool: True if the number is an Armstrong number, False otherwise.\n",
        "    \"\"\"\n",
        "    # Convert the number to a string to get the number of digits\n",
        "    num_str = str(number)\n",
        "    num_digits = len(num_str)\n",
        "\n",
        "    # Calculate the sum of each digit raised to the power of the number of digits\n",
        "    armstrong_sum = 0\n",
        "    for digit in num_str:\n",
        "        armstrong_sum += int(digit) ** num_digits\n",
        "\n",
        "    # Check if the sum is equal to the original number\n",
        "    return armstrong_sum == number\n",
        "\n",
        "# Example usage:\n",
        "num_to_check = 153\n",
        "if is_armstrong_number(num_to_check):\n",
        "    print(f\"{num_to_check} is an Armstrong number.\")\n",
        "else:\n",
        "    print(f\"{num_to_check} is not an Armstrong number.\")\n",
        "\n",
        "num_to_check = 123\n",
        "if is_armstrong_number(num_to_check):\n",
        "    print(f\"{num_to_check} is an Armstrong number.\")\n",
        "else:\n",
        "    print(f\"{num_to_check} is not an Armstrong number.\")"
      ],
      "metadata": {
        "colab": {
          "base_uri": "https://localhost:8080/"
        },
        "id": "xfp2PymQenn8",
        "outputId": "7de835ac-c5ea-4c63-d143-c1d0a771e121"
      },
      "execution_count": 5,
      "outputs": [
        {
          "output_type": "stream",
          "name": "stdout",
          "text": [
            "153 is an Armstrong number.\n",
            "123 is not an Armstrong number.\n"
          ]
        }
      ]
    },
    {
      "cell_type": "markdown",
      "source": [
        "task5:Use both Gemini and Cursor AI to generate code for sorting a list of dictionaries by a specific key (e.g., age)."
      ],
      "metadata": {
        "id": "9x7tE4zTe2xF"
      }
    },
    {
      "cell_type": "code",
      "source": [
        "def sort_list_of_dicts(list_of_dicts, key_to_sort_by):\n",
        "  \"\"\"\n",
        "  Sorts a list of dictionaries by a specific key.\n",
        "\n",
        "  Args:\n",
        "    list_of_dicts: A list of dictionaries.\n",
        "    key_to_sort_by: The key to sort the dictionaries by.\n",
        "\n",
        "  Returns:\n",
        "    A new list of dictionaries sorted by the specified key.\n",
        "  \"\"\"\n",
        "  try:\n",
        "    sorted_list = sorted(list_of_dicts, key=lambda x: x[key_to_sort_by])\n",
        "    return sorted_list\n",
        "  except KeyError:\n",
        "    print(f\"Error: The key '{key_to_sort_by}' does not exist in all dictionaries.\")\n",
        "    return None\n",
        "  except TypeError:\n",
        "    print(\"Error: The list contains elements that are not dictionaries or the key is not sortable.\")\n",
        "    return None\n",
        "\n",
        "# Example usage:\n",
        "data = [\n",
        "    {'name': 'Alice', 'age': 30, 'city': 'New York'},\n",
        "    {'name': 'Bob', 'age': 25, 'city': 'London'},\n",
        "    {'name': 'Charlie', 'age': 35, 'city': 'Paris'},\n",
        "    {'name': 'David', 'age': 25, 'city': 'Tokyo'}\n",
        "]\n",
        "\n",
        "sorted_by_age = sort_list_of_dicts(data, 'age')\n",
        "\n",
        "if sorted_by_age:\n",
        "    print(\"Sorted by age:\")\n",
        "    for item in sorted_by_age:\n",
        "        print(item)\n",
        "\n",
        "print(\"\\nSorting by name:\")\n",
        "sorted_by_name = sort_list_of_dicts(data, 'name')\n",
        "if sorted_by_name:\n",
        "    for item in sorted_by_name:\n",
        "        print(item)\n",
        "\n",
        "print(\"\\nAttempting to sort by a non-existent key:\")\n",
        "sorted_by_height = sort_list_of_dicts(data, 'height')"
      ],
      "metadata": {
        "colab": {
          "base_uri": "https://localhost:8080/"
        },
        "id": "HurW0I-ve5E2",
        "outputId": "64b830fa-dfcc-4058-bb65-dca3193fb2e1"
      },
      "execution_count": 6,
      "outputs": [
        {
          "output_type": "stream",
          "name": "stdout",
          "text": [
            "Sorted by age:\n",
            "{'name': 'Bob', 'age': 25, 'city': 'London'}\n",
            "{'name': 'David', 'age': 25, 'city': 'Tokyo'}\n",
            "{'name': 'Alice', 'age': 30, 'city': 'New York'}\n",
            "{'name': 'Charlie', 'age': 35, 'city': 'Paris'}\n",
            "\n",
            "Sorting by name:\n",
            "{'name': 'Alice', 'age': 30, 'city': 'New York'}\n",
            "{'name': 'Bob', 'age': 25, 'city': 'London'}\n",
            "{'name': 'Charlie', 'age': 35, 'city': 'Paris'}\n",
            "{'name': 'David', 'age': 25, 'city': 'Tokyo'}\n",
            "\n",
            "Attempting to sort by a non-existent key:\n",
            "Error: The key 'height' does not exist in all dictionaries.\n"
          ]
        }
      ]
    }
  ]
}