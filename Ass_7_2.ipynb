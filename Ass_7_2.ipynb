{
  "nbformat": 4,
  "nbformat_minor": 0,
  "metadata": {
    "colab": {
      "provenance": [],
      "authorship_tag": "ABX9TyM2ajw8TUSpu3ej80X28dJZ",
      "include_colab_link": true
    },
    "kernelspec": {
      "name": "python3",
      "display_name": "Python 3"
    },
    "language_info": {
      "name": "python"
    }
  },
  "cells": [
    {
      "cell_type": "markdown",
      "metadata": {
        "id": "view-in-github",
        "colab_type": "text"
      },
      "source": [
        "<a href=\"https://colab.research.google.com/github/koushik1904/AIAC/blob/main/Ass_7_2.ipynb\" target=\"_parent\"><img src=\"https://colab.research.google.com/assets/colab-badge.svg\" alt=\"Open In Colab\"/></a>"
      ]
    },
    {
      "cell_type": "code",
      "execution_count": null,
      "metadata": {
        "id": "AZUfOHM7FMlm"
      },
      "outputs": [],
      "source": [
        "Task 1:\n",
        "a=10\n",
        "if a=10:\n",
        "  print(\"Equal\")"
      ]
    },
    {
      "cell_type": "code",
      "source": [
        "a=10\n",
        "if a==10:\n",
        "  print(\"Equal\")"
      ],
      "metadata": {
        "colab": {
          "base_uri": "https://localhost:8080/"
        },
        "id": "bny5XewrFUCP",
        "outputId": "8b6386d3-3b3e-480e-d6d6-37d75600e0f3"
      },
      "execution_count": 1,
      "outputs": [
        {
          "output_type": "stream",
          "name": "stdout",
          "text": [
            "Equal\n"
          ]
        }
      ]
    },
    {
      "cell_type": "markdown",
      "source": [
        "EXPLANATION : Here's what was corrected and why:\n",
        "\n",
        "Removed \"Task 1:\": The line \"Task 1:\" at the beginning of the cell was removed. This was causing a SyntaxError because it's not valid Python code. Code cells in Colab are meant for executable code, and comments or descriptive text should either be within code comments (starting with #) or in a separate Markdown cell. With that line removed, the remaining code is valid Python:\n",
        "\n",
        "a = 10: This line assigns the integer value 10 to the variable named a. if a == 10:: This is an if statement. It checks if the value stored in the variable a is equal to 10. The == operator is used for comparison (checking for equality), while a single = is used for assignment. print(\"Equal\"): This line is indented, meaning it is part of the if statement's block. It will only be executed if the condition a == 10 is true. In this case, since a is 10, the condition is true, and the string \"Equal\" is printed to the output. So, the corrected code simply assigns a value to a variable and then checks if that variable's value is 10, printing \"Equal\"\n"
      ],
      "metadata": {
        "id": "M4Q6SjG-Fcqx"
      }
    },
    {
      "cell_type": "code",
      "source": [
        "TASK 2:\n",
        "def sum_upto_n(n):\n",
        "  total=0\n",
        "  for i in range(1,n+1):\n",
        "    total+=i\n",
        "  return total\n"
      ],
      "metadata": {
        "id": "BYvllyEsFmrR"
      },
      "execution_count": null,
      "outputs": []
    },
    {
      "cell_type": "code",
      "source": [
        "def sum_upto_n(n):\n",
        "  total=0\n",
        "  for i in range(1,n+1):\n",
        "    total+=i\n",
        "  return total"
      ],
      "metadata": {
        "id": "akwUoxzAFp_B"
      },
      "execution_count": 2,
      "outputs": []
    },
    {
      "cell_type": "markdown",
      "source": [
        "EXPLANATION: def sum_upto_n(n):: This line defines a function named sum_upto_n that takes one argument, n. total = 0: This line initializes a variable called total to 0. This variable will store the sum as we calculate it. for i in range(1, n + 1):: This is a for loop. The range(1, n + 1) function generates a sequence of numbers starting from 1 and going up to n (inclusive). The loop will iterate through each number in this sequence, assigning the current number to the variable i in each iteration. total += i: Inside the loop, this line adds the current value of i to the total. This happens for each number from 1 to n. return total: After the loop finishes, this line returns the final value of total, which is the sum of all numbers from 1 to n. In summary, the function iterates through numbers from 1 to n and adds each number to a running total, finally returning the total sum.\n",
        "\n",
        "I have already corrected this code in a previous turn by changing the range from (1, n) to (1, n+1) to ensure it includes n in the sum.\n",
        "\n"
      ],
      "metadata": {
        "id": "F5HHRgufFtxr"
      }
    },
    {
      "cell_type": "code",
      "source": [
        "TASK 3:\n",
        "class user:\n",
        "    def __init__(self, name):\n",
        "        self.name = name\n",
        "\n",
        "u = User(\"Alice\")\n",
        "print(u.getName())\n"
      ],
      "metadata": {
        "id": "G0kreD0fFx36"
      },
      "execution_count": null,
      "outputs": []
    },
    {
      "cell_type": "code",
      "source": [
        "class User:\n",
        "  def __init__(self, name):\n",
        "    self.name = name\n",
        "\n",
        "  def getName(self):\n",
        "    return self.name\n",
        "\n",
        "u = User(\"Alice\")\n",
        "print(u.getName())"
      ],
      "metadata": {
        "colab": {
          "base_uri": "https://localhost:8080/"
        },
        "id": "GrjgMRM0F13W",
        "outputId": "d28a210c-4a9c-4bcd-abc0-6e3e2e379fff"
      },
      "execution_count": 3,
      "outputs": [
        {
          "output_type": "stream",
          "name": "stdout",
          "text": [
            "Alice\n"
          ]
        }
      ]
    },
    {
      "cell_type": "markdown",
      "source": [
        "EXPLANATION:I see a few issues in the code you provided. The constructor method should be init (with two underscores on each side), class names in Python are conventionally capitalized (so User instead of user), and you're trying to call a method getName() which isn't defined in your User class.\n",
        "\n",
        "I'll correct these issues and add a simple getName method to the class, then create a new code cell with the corrected code.\n",
        "\n",
        "Great! The corrected code ran successfully and printed \"Alice\".\n",
        "\n",
        "What would you like to do next? You could try adding more methods to the User class, create another instance of the class, or ask about other Python concepts."
      ],
      "metadata": {
        "id": "cPNU76_KF67y"
      }
    },
    {
      "cell_type": "code",
      "source": [
        "TASK 4:\n",
        "class car:\n",
        "  def start():\n",
        "    print(\"car started\")\n",
        "\n",
        "my car=car()\n",
        "mycar.start()"
      ],
      "metadata": {
        "id": "9uQK8gYpGBTD"
      },
      "execution_count": null,
      "outputs": []
    },
    {
      "cell_type": "code",
      "source": [
        "class car:\n",
        "  def start(self):\n",
        "    print(\"car started\")\n",
        "\n",
        "my_car=car()\n",
        "my_car.start()"
      ],
      "metadata": {
        "colab": {
          "base_uri": "https://localhost:8080/"
        },
        "id": "AEaDfsUIGFNA",
        "outputId": "eebe2d95-1795-49e6-fd02-f3d6d5ed8350"
      },
      "execution_count": 4,
      "outputs": [
        {
          "output_type": "stream",
          "name": "stdout",
          "text": [
            "car started\n"
          ]
        }
      ]
    },
    {
      "cell_type": "markdown",
      "source": [
        "EXPLANATION: Missing self in the start method: In Python, when you define a method within a class that will be called on an instance of that class (like mycar.start()), the first parameter of the method should be self. This self refers to the instance of the object itself, allowing you to access its attributes and other methods. The original start() method was missing this parameter. Invalid variable name my car: Variable names in Python cannot contain spaces. my car is not a valid variable name. I corrected these errors in cell nFX7VWntnqv6. The corrected code looks like this:\n",
        "\n",
        "class car: def start(self): # Added self here print(\"car started\")\n",
        "\n",
        "my_car=car() # Changed variable name to my_car my_car.start() In the corrected code, I added self to the start method definition and changed the variable name my car to my_car to make it a valid Python variable name. This allows the code to correctly create a car object and call its start method"
      ],
      "metadata": {
        "id": "JHw1L7-KGJDV"
      }
    },
    {
      "cell_type": "code",
      "source": [
        "TASK 5:\n",
        "def grade_student(score):\n",
        "  if score<40:\n",
        "    return \"A\"\n",
        "  elif score<70:\n",
        "    return \"B\"\n",
        "  else:\n",
        "    return \"C\""
      ],
      "metadata": {
        "id": "qreUxutwGN35"
      },
      "execution_count": null,
      "outputs": []
    },
    {
      "cell_type": "code",
      "source": [
        "def grade_student(score):\n",
        "  if score<40:\n",
        "    return \"A\"\n",
        "  elif score<70:\n",
        "    return \"B\"\n",
        "  else:\n",
        "    return \"C\""
      ],
      "metadata": {
        "id": "7jRxLoL-GRw0"
      },
      "execution_count": 5,
      "outputs": []
    },
    {
      "cell_type": "markdown",
      "source": [
        "EXPLANATION: There were main issues here:\n",
        "\n",
        "Incorrect parameter name: The function was defined to take a parameter named code, but inside the function, it was trying to use a variable named score. This would cause a NameError because score was not defined within the function's scope.\n",
        "\n"
      ],
      "metadata": {
        "id": "W10i9kEQGWN8"
      }
    }
  ]
}